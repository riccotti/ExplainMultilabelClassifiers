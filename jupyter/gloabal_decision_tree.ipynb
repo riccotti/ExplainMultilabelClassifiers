{
 "cells": [
  {
   "cell_type": "code",
   "execution_count": 10,
   "metadata": {},
   "outputs": [],
   "source": [
    "%matplotlib inline\n",
    "\n",
    "import numpy as np\n",
    "import pandas as pd\n",
    "import matplotlib.pyplot as plt\n",
    "\n",
    "import gzip\n",
    "import pickle\n",
    "import datetime\n",
    "\n",
    "from sklearn.svm import LinearSVC\n",
    "from sklearn.tree import DecisionTreeClassifier\n",
    "from sklearn.neural_network import MLPClassifier\n",
    "from sklearn.ensemble import RandomForestClassifier\n",
    "from sklearn.multiclass import OneVsRestClassifier\n",
    "\n",
    "from sklearn.metrics import f1_score\n",
    "from sklearn.model_selection import RandomizedSearchCV"
   ]
  },
  {
   "cell_type": "code",
   "execution_count": 11,
   "metadata": {},
   "outputs": [],
   "source": [
    "dataset_list = ['yeast', 'diabete', 'woman']\n",
    "columns_ylist = ['Class', 'readmitted', 'service']\n",
    "blackbox_list = ['rf', 'svm', 'mlp']"
   ]
  },
  {
   "cell_type": "code",
   "execution_count": 12,
   "metadata": {},
   "outputs": [],
   "source": [
    "dt_params = {\n",
    "    'max_depth': [None, 10, 20, 30, 40, 50, 70, 80, 90, 100],\n",
    "    'min_samples_split': [2**i for i in range(1, 10)],\n",
    "    'min_samples_leaf': [2**i for i in range(1, 10)],\n",
    "}"
   ]
  },
  {
   "cell_type": "code",
   "execution_count": 17,
   "metadata": {},
   "outputs": [
    {
     "name": "stdout",
     "output_type": "stream",
     "text": [
      "2018-10-26 09:59:00.505916 dataset: yeast\n",
      "2018-10-26 09:59:00.539023 \tblack box: rf\n",
      "2018-10-26 09:59:03.517211 \t  F1: 1.0000\n"
     ]
    }
   ],
   "source": [
    "import warnings\n",
    "warnings.filterwarnings(\"ignore\")\n",
    "\n",
    "cv = 5\n",
    "for idx, dataset in enumerate(dataset_list):\n",
    "    print(datetime.datetime.now(), 'dataset: %s' % dataset)\n",
    "    df_2e = pd.read_csv('../dataset/%s_2e.csv' % dataset)\n",
    "    \n",
    "    cols_Y = [col for col in df_2e.columns if col.startswith(columns_ylist[idx])]\n",
    "    cols_X = [col for col in df_2e.columns if col not in cols_Y]\n",
    "    \n",
    "    X2e = df_2e[cols_X].values\n",
    "    y2e = df_2e[cols_Y].values\n",
    "    \n",
    "    for blackbox_name in blackbox_list:\n",
    "        print(datetime.datetime.now(), '\\tblack box: %s' % blackbox_name)\n",
    "        \n",
    "        bb = pickle.load(gzip.open('../models_hold_out/%s_%s.pickle.gz' % (blackbox_name, dataset), 'rb'))\n",
    "        y = bb.predict(X2e)\n",
    "        \n",
    "        dt = DecisionTreeClassifier()\n",
    "        sop = np.prod([len(v) for k, v in dt_params.items()])\n",
    "        n_iter_search = min(100, sop)\n",
    "        random_search = RandomizedSearchCV(dt, param_distributions=dt_params,\n",
    "                                           scoring='f1_micro', n_iter=n_iter_search, cv=cv)\n",
    "        random_search.fit(X2e, y)\n",
    "        best_params = random_search.best_params_\n",
    "        dt.set_params(**best_params)\n",
    "        \n",
    "        pred_2e = bb.predict(X2e)\n",
    "        print(datetime.datetime.now(), '\\t  F1: %.4f' % f1_score(y, pred_2e, average='micro'))\n",
    "        \n",
    "        pickle_file = gzip.open('../global_dt/%s_%s.pickle.gz' % (blackbox_name, dataset), 'wb')\n",
    "        pickle.dump(dt, pickle_file)\n",
    "        pickle_file.close()"
   ]
  },
  {
   "cell_type": "code",
   "execution_count": null,
   "metadata": {},
   "outputs": [],
   "source": []
  },
  {
   "cell_type": "code",
   "execution_count": null,
   "metadata": {},
   "outputs": [],
   "source": []
  },
  {
   "cell_type": "code",
   "execution_count": null,
   "metadata": {},
   "outputs": [],
   "source": []
  },
  {
   "cell_type": "code",
   "execution_count": null,
   "metadata": {},
   "outputs": [],
   "source": []
  }
 ],
 "metadata": {
  "kernelspec": {
   "display_name": "Python 3",
   "language": "python",
   "name": "python3"
  },
  "language_info": {
   "codemirror_mode": {
    "name": "ipython",
    "version": 3
   },
   "file_extension": ".py",
   "mimetype": "text/x-python",
   "name": "python",
   "nbconvert_exporter": "python",
   "pygments_lexer": "ipython3",
   "version": "3.6.5"
  }
 },
 "nbformat": 4,
 "nbformat_minor": 2
}
