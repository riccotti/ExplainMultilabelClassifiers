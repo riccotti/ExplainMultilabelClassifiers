{
 "cells": [
  {
   "cell_type": "code",
   "execution_count": 1,
   "metadata": {},
   "outputs": [],
   "source": [
    "%matplotlib inline\n",
    "\n",
    "import numpy as np\n",
    "import pandas as pd\n",
    "import matplotlib.pyplot as plt\n",
    "\n",
    "from scipy.io import arff\n",
    "import pickle\n",
    "\n",
    "from sklearn.preprocessing import LabelEncoder\n",
    "from sklearn.preprocessing import OneHotEncoder\n",
    "from sklearn.model_selection import train_test_split"
   ]
  },
  {
   "cell_type": "markdown",
   "metadata": {},
   "source": [
    "For the diabetes dataset https://www.hindawi.com/journals/bmri/2014/781670/tab1/"
   ]
  },
  {
   "cell_type": "code",
   "execution_count": 2,
   "metadata": {},
   "outputs": [],
   "source": [
    "#dictionaries with key: dataset, value: list of lists, 0: continuos variables, 1: discrete variables\n",
    "columns_type_dataset = {'yeast':[['Att1', 'Att2', 'Att3', 'Att4', 'Att5', 'Att6', 'Att7', 'Att8', 'Att9', 'Att10', 'Att11', 'Att12', 'Att13', 'Att14', 'Att15', 'Att16', 'Att17', 'Att18', 'Att19', 'Att20', 'Att21', 'Att22', 'Att23', 'Att24', 'Att25', 'Att26', 'Att27', 'Att28', 'Att29', 'Att30', 'Att31', 'Att32', 'Att33', 'Att34', 'Att35', 'Att36', 'Att37', 'Att38', 'Att39', 'Att40', 'Att41', 'Att42', 'Att43', 'Att44', 'Att45', 'Att46', 'Att47', 'Att48', 'Att49', 'Att50', 'Att51', 'Att52', 'Att53', 'Att54', 'Att55', 'Att56', 'Att57', 'Att58', 'Att59', 'Att60', 'Att61', 'Att62', 'Att63', 'Att64', 'Att65', 'Att66', 'Att67', 'Att68', 'Att69', 'Att70', 'Att71', 'Att72', 'Att73', 'Att74', 'Att75', 'Att76', 'Att77', 'Att78', 'Att79', 'Att80', 'Att81', 'Att82', 'Att83', 'Att84', 'Att85', 'Att86', 'Att87', 'Att88', 'Att89', 'Att90', 'Att91', 'Att92', 'Att93', 'Att94', 'Att95', 'Att96', 'Att97', 'Att98', 'Att99', 'Att100', 'Att101', 'Att102', 'Att103'],[]],\\\n",
    "                       'diabete':[['age','time_in_hospital','num_lab_procedures','num_procedures','num_medications','number_outpatient','number_emergency','number_inpatient','number_diagnoses'],['race','gender','admission_type_id','discharge_disposition_id','admission_source_id','max_glu_serum','A1Cresult','diabetesMed','metformin','repaglinide','nateglinide','chlorpropamide','glimepiride','acetohexamide','glipizide','glyburide','tolbutamide','pioglitazone','rosiglitazone','acarbose','miglitol','troglitazone','tolazamide','examide','citoglipton','insulin','glyburide-metformin','glipizide-metformin','glimepiride-pioglitazone','metformin-rosiglitazone','metformin-pioglitazone','change','readmitted','diag_1','diag_2','diag_3']],\\\n",
    "                       'woman':[['n_0067','n_0078','n_0108','n_0109','o_0176','o_0264'],['release','n_0047','n_0050','n_0052','n_0061','n_0075','n_0091','c_0466','c_0500','c_0638','c_0699','c_0738','c_0761','c_0770','c_0838','c_0870','c_0980','c_1145','c_1158','c_1189','c_1223','c_1227','c_1244','c_1259']]}"
   ]
  },
  {
   "cell_type": "markdown",
   "metadata": {},
   "source": [
    "# Yeast Dataset"
   ]
  },
  {
   "cell_type": "code",
   "execution_count": null,
   "metadata": {
    "scrolled": true
   },
   "outputs": [],
   "source": [
    "df_yeast = pd.DataFrame(arff.loadarff('../dataset/dataset_raw/yeast.arff')[0])\n",
    "\n",
    "for col in df_yeast.columns[-14:]:\n",
    "    df_yeast[col] = df_yeast[col].apply(pd.to_numeric)"
   ]
  },
  {
   "cell_type": "code",
   "execution_count": null,
   "metadata": {},
   "outputs": [],
   "source": [
    "df_yeast.head()"
   ]
  },
  {
   "cell_type": "code",
   "execution_count": null,
   "metadata": {},
   "outputs": [],
   "source": [
    "cols_Y = [col for col in df_yeast.columns if col.startswith('Class')]\n",
    "cols_X = [col for col in df_yeast.columns if col not in cols_Y]\n",
    "\n",
    "X = df_yeast[cols_X].values\n",
    "y = df_yeast[cols_Y].values"
   ]
  },
  {
   "cell_type": "code",
   "execution_count": null,
   "metadata": {},
   "outputs": [],
   "source": [
    "X_bb, X_2e, y_bb, y_2e = train_test_split(X, y, test_size=0.3, random_state=0)"
   ]
  },
  {
   "cell_type": "code",
   "execution_count": null,
   "metadata": {},
   "outputs": [],
   "source": [
    "df_bb = pd.DataFrame(data=np.concatenate((X_bb, y_bb), axis=1), columns=df_yeast.columns)\n",
    "df_2e = pd.DataFrame(data=np.concatenate((X_2e, y_2e), axis=1), columns=df_yeast.columns)"
   ]
  },
  {
   "cell_type": "code",
   "execution_count": null,
   "metadata": {},
   "outputs": [],
   "source": [
    "df_bb.to_csv('../dataset/yeast_bb.csv', sep=',', index=False)\n",
    "df_2e.to_csv('../dataset/yeast_2e.csv', sep=',', index=False)"
   ]
  },
  {
   "cell_type": "markdown",
   "metadata": {},
   "source": [
    "# Diabete Dataset"
   ]
  },
  {
   "cell_type": "markdown",
   "metadata": {},
   "source": [
    "Given the description of the variables in https://www.hindawi.com/journals/bmri/2014/781670/tab1/, we decided to drop those with high percentages of missing values and those who were not important for the classification (patient id or encounter id), the target variables are the three types of diagnosis (primary, secondary and additional secondary diagnosis)"
   ]
  },
  {
   "cell_type": "code",
   "execution_count": 3,
   "metadata": {},
   "outputs": [
    {
     "name": "stderr",
     "output_type": "stream",
     "text": [
      "/home/user/venvs/LORE_env/lib/python3.6/site-packages/IPython/core/interactiveshell.py:3018: DtypeWarning: Columns (10) have mixed types. Specify dtype option on import or set low_memory=False.\n",
      "  interactivity=interactivity, compiler=compiler, result=result)\n"
     ]
    }
   ],
   "source": [
    "df_diabete = pd.read_csv('../dataset/dataset_raw/diabetic_data.csv', sep=',', skipinitialspace=True, na_values='?')"
   ]
  },
  {
   "cell_type": "code",
   "execution_count": 4,
   "metadata": {},
   "outputs": [
    {
     "name": "stdout",
     "output_type": "stream",
     "text": [
      "race 2273 0.02\n",
      "weight 98569 0.97\n",
      "payer_code 40256 0.40\n",
      "medical_specialty 49949 0.49\n",
      "diag_1 21 0.00\n",
      "diag_2 358 0.00\n",
      "diag_3 1423 0.01\n"
     ]
    }
   ],
   "source": [
    "mv = df_diabete.isnull().sum(axis=0)\n",
    "for k, v in zip(mv.index, mv.values):\n",
    "    if v > 0:\n",
    "        print(k, v, '%.2f' % (v/len(df_diabete)))"
   ]
  },
  {
   "cell_type": "code",
   "execution_count": 5,
   "metadata": {
    "scrolled": true
   },
   "outputs": [],
   "source": [
    "df_diabete = df_diabete.drop(['encounter_id','patient_nbr','weight','payer_code','medical_specialty'],1)"
   ]
  },
  {
   "cell_type": "code",
   "execution_count": 6,
   "metadata": {},
   "outputs": [
    {
     "data": {
      "text/plain": [
       "(101766, 98053)"
      ]
     },
     "execution_count": 6,
     "metadata": {},
     "output_type": "execute_result"
    }
   ],
   "source": [
    "len(df_diabete),len(df_diabete.dropna())"
   ]
  },
  {
   "cell_type": "code",
   "execution_count": 7,
   "metadata": {},
   "outputs": [],
   "source": [
    "df_diabete = df_diabete.dropna().reset_index().drop('index',1)"
   ]
  },
  {
   "cell_type": "code",
   "execution_count": 8,
   "metadata": {},
   "outputs": [],
   "source": [
    "df_diabete = df_diabete.sample(n=14644,random_state=0).reset_index().drop('index',1)"
   ]
  },
  {
   "cell_type": "code",
   "execution_count": 9,
   "metadata": {},
   "outputs": [],
   "source": [
    "diag_1_numerosity = df_diabete.groupby('diag_1').size()\n",
    "frequent_diag1 = diag_1_numerosity[diag_1_numerosity.values>np.percentile(diag_1_numerosity.values,75)].index.values\n",
    "\n",
    "diag_2_numerosity = df_diabete.groupby('diag_2').size()\n",
    "frequent_diag2 = diag_2_numerosity[diag_2_numerosity.values>np.percentile(diag_2_numerosity.values,75)].index.values\n",
    "\n",
    "diag_3_numerosity = df_diabete.groupby('diag_3').size()\n",
    "frequent_diag3 = diag_3_numerosity[diag_3_numerosity.values>np.percentile(diag_3_numerosity.values,75)].index.values"
   ]
  },
  {
   "cell_type": "code",
   "execution_count": 13,
   "metadata": {},
   "outputs": [],
   "source": [
    "df_diabete=df_diabete[(df_diabete.diag_1.isin(frequent_diag1))&(df_diabete.diag_2.isin(frequent_diag2))&(df_diabete.diag_3.isin(frequent_diag3))].reset_index().drop('index',1)"
   ]
  },
  {
   "cell_type": "code",
   "execution_count": 14,
   "metadata": {},
   "outputs": [
    {
     "data": {
      "text/plain": [
       "(10670, 45)"
      ]
     },
     "execution_count": 14,
     "metadata": {},
     "output_type": "execute_result"
    }
   ],
   "source": [
    "df_diabete.shape"
   ]
  },
  {
   "cell_type": "code",
   "execution_count": 19,
   "metadata": {},
   "outputs": [
    {
     "data": {
      "text/html": [
       "<div>\n",
       "<style scoped>\n",
       "    .dataframe tbody tr th:only-of-type {\n",
       "        vertical-align: middle;\n",
       "    }\n",
       "\n",
       "    .dataframe tbody tr th {\n",
       "        vertical-align: top;\n",
       "    }\n",
       "\n",
       "    .dataframe thead th {\n",
       "        text-align: right;\n",
       "    }\n",
       "</style>\n",
       "<table border=\"1\" class=\"dataframe\">\n",
       "  <thead>\n",
       "    <tr style=\"text-align: right;\">\n",
       "      <th></th>\n",
       "      <th>diag_1</th>\n",
       "      <th>diag_2</th>\n",
       "      <th>diag_3</th>\n",
       "    </tr>\n",
       "  </thead>\n",
       "  <tbody>\n",
       "    <tr>\n",
       "      <th>0</th>\n",
       "      <td>414</td>\n",
       "      <td>425</td>\n",
       "      <td>466</td>\n",
       "    </tr>\n",
       "    <tr>\n",
       "      <th>1</th>\n",
       "      <td>996</td>\n",
       "      <td>403</td>\n",
       "      <td>585</td>\n",
       "    </tr>\n",
       "    <tr>\n",
       "      <th>2</th>\n",
       "      <td>250.12</td>\n",
       "      <td>276</td>\n",
       "      <td>250.6</td>\n",
       "    </tr>\n",
       "    <tr>\n",
       "      <th>3</th>\n",
       "      <td>250.6</td>\n",
       "      <td>682</td>\n",
       "      <td>707</td>\n",
       "    </tr>\n",
       "    <tr>\n",
       "      <th>4</th>\n",
       "      <td>414</td>\n",
       "      <td>428</td>\n",
       "      <td>250.01</td>\n",
       "    </tr>\n",
       "  </tbody>\n",
       "</table>\n",
       "</div>"
      ],
      "text/plain": [
       "   diag_1 diag_2  diag_3\n",
       "0     414    425     466\n",
       "1     996    403     585\n",
       "2  250.12    276   250.6\n",
       "3   250.6    682     707\n",
       "4     414    428  250.01"
      ]
     },
     "execution_count": 19,
     "metadata": {},
     "output_type": "execute_result"
    }
   ],
   "source": [
    "df_diabete[['diag_1','diag_2','diag_3']].head()"
   ]
  },
  {
   "cell_type": "code",
   "execution_count": 16,
   "metadata": {
    "scrolled": true
   },
   "outputs": [],
   "source": [
    "#age diventa la metà del range (var continua)\n",
    "df_diabete['age']=df_diabete.age.apply(lambda x: float(x.strip('[').strip(')').split('-')[1])-5)"
   ]
  },
  {
   "cell_type": "code",
   "execution_count": 17,
   "metadata": {},
   "outputs": [
    {
     "data": {
      "text/plain": [
       "(45, 45)"
      ]
     },
     "execution_count": 17,
     "metadata": {},
     "output_type": "execute_result"
    }
   ],
   "source": [
    "len(columns_type_dataset['diabete'][1]+columns_type_dataset['diabete'][0]),len(df_diabete.columns)"
   ]
  },
  {
   "cell_type": "code",
   "execution_count": 20,
   "metadata": {},
   "outputs": [
    {
     "data": {
      "text/html": [
       "<div>\n",
       "<style scoped>\n",
       "    .dataframe tbody tr th:only-of-type {\n",
       "        vertical-align: middle;\n",
       "    }\n",
       "\n",
       "    .dataframe tbody tr th {\n",
       "        vertical-align: top;\n",
       "    }\n",
       "\n",
       "    .dataframe thead th {\n",
       "        text-align: right;\n",
       "    }\n",
       "</style>\n",
       "<table border=\"1\" class=\"dataframe\">\n",
       "  <thead>\n",
       "    <tr style=\"text-align: right;\">\n",
       "      <th></th>\n",
       "      <th>race=AfricanAmerican</th>\n",
       "      <th>race=Asian</th>\n",
       "      <th>race=Caucasian</th>\n",
       "      <th>race=Hispanic</th>\n",
       "      <th>race=Other</th>\n",
       "      <th>gender=Female</th>\n",
       "      <th>gender=Male</th>\n",
       "      <th>admission_type_id=1</th>\n",
       "      <th>admission_type_id=2</th>\n",
       "      <th>admission_type_id=3</th>\n",
       "      <th>...</th>\n",
       "      <th>diag_3=V58</th>\n",
       "      <th>age</th>\n",
       "      <th>time_in_hospital</th>\n",
       "      <th>num_lab_procedures</th>\n",
       "      <th>num_procedures</th>\n",
       "      <th>num_medications</th>\n",
       "      <th>number_outpatient</th>\n",
       "      <th>number_emergency</th>\n",
       "      <th>number_inpatient</th>\n",
       "      <th>number_diagnoses</th>\n",
       "    </tr>\n",
       "  </thead>\n",
       "  <tbody>\n",
       "    <tr>\n",
       "      <th>0</th>\n",
       "      <td>0.0</td>\n",
       "      <td>0.0</td>\n",
       "      <td>1.0</td>\n",
       "      <td>0.0</td>\n",
       "      <td>0.0</td>\n",
       "      <td>0.0</td>\n",
       "      <td>1.0</td>\n",
       "      <td>1.0</td>\n",
       "      <td>0.0</td>\n",
       "      <td>0.0</td>\n",
       "      <td>...</td>\n",
       "      <td>0.0</td>\n",
       "      <td>75.0</td>\n",
       "      <td>3</td>\n",
       "      <td>66</td>\n",
       "      <td>1</td>\n",
       "      <td>18</td>\n",
       "      <td>0</td>\n",
       "      <td>0</td>\n",
       "      <td>1</td>\n",
       "      <td>9</td>\n",
       "    </tr>\n",
       "    <tr>\n",
       "      <th>1</th>\n",
       "      <td>0.0</td>\n",
       "      <td>0.0</td>\n",
       "      <td>1.0</td>\n",
       "      <td>0.0</td>\n",
       "      <td>0.0</td>\n",
       "      <td>0.0</td>\n",
       "      <td>1.0</td>\n",
       "      <td>0.0</td>\n",
       "      <td>0.0</td>\n",
       "      <td>1.0</td>\n",
       "      <td>...</td>\n",
       "      <td>0.0</td>\n",
       "      <td>75.0</td>\n",
       "      <td>2</td>\n",
       "      <td>29</td>\n",
       "      <td>2</td>\n",
       "      <td>15</td>\n",
       "      <td>1</td>\n",
       "      <td>0</td>\n",
       "      <td>3</td>\n",
       "      <td>9</td>\n",
       "    </tr>\n",
       "    <tr>\n",
       "      <th>2</th>\n",
       "      <td>0.0</td>\n",
       "      <td>0.0</td>\n",
       "      <td>1.0</td>\n",
       "      <td>0.0</td>\n",
       "      <td>0.0</td>\n",
       "      <td>0.0</td>\n",
       "      <td>1.0</td>\n",
       "      <td>1.0</td>\n",
       "      <td>0.0</td>\n",
       "      <td>0.0</td>\n",
       "      <td>...</td>\n",
       "      <td>0.0</td>\n",
       "      <td>45.0</td>\n",
       "      <td>4</td>\n",
       "      <td>56</td>\n",
       "      <td>0</td>\n",
       "      <td>11</td>\n",
       "      <td>0</td>\n",
       "      <td>0</td>\n",
       "      <td>1</td>\n",
       "      <td>7</td>\n",
       "    </tr>\n",
       "    <tr>\n",
       "      <th>3</th>\n",
       "      <td>0.0</td>\n",
       "      <td>0.0</td>\n",
       "      <td>1.0</td>\n",
       "      <td>0.0</td>\n",
       "      <td>0.0</td>\n",
       "      <td>0.0</td>\n",
       "      <td>1.0</td>\n",
       "      <td>0.0</td>\n",
       "      <td>1.0</td>\n",
       "      <td>0.0</td>\n",
       "      <td>...</td>\n",
       "      <td>0.0</td>\n",
       "      <td>65.0</td>\n",
       "      <td>3</td>\n",
       "      <td>27</td>\n",
       "      <td>0</td>\n",
       "      <td>15</td>\n",
       "      <td>0</td>\n",
       "      <td>0</td>\n",
       "      <td>0</td>\n",
       "      <td>8</td>\n",
       "    </tr>\n",
       "    <tr>\n",
       "      <th>4</th>\n",
       "      <td>0.0</td>\n",
       "      <td>0.0</td>\n",
       "      <td>1.0</td>\n",
       "      <td>0.0</td>\n",
       "      <td>0.0</td>\n",
       "      <td>0.0</td>\n",
       "      <td>1.0</td>\n",
       "      <td>0.0</td>\n",
       "      <td>1.0</td>\n",
       "      <td>0.0</td>\n",
       "      <td>...</td>\n",
       "      <td>0.0</td>\n",
       "      <td>75.0</td>\n",
       "      <td>3</td>\n",
       "      <td>75</td>\n",
       "      <td>0</td>\n",
       "      <td>15</td>\n",
       "      <td>0</td>\n",
       "      <td>0</td>\n",
       "      <td>0</td>\n",
       "      <td>6</td>\n",
       "    </tr>\n",
       "  </tbody>\n",
       "</table>\n",
       "<p>5 rows × 511 columns</p>\n",
       "</div>"
      ],
      "text/plain": [
       "   race=AfricanAmerican  race=Asian  race=Caucasian  race=Hispanic  \\\n",
       "0                   0.0         0.0             1.0            0.0   \n",
       "1                   0.0         0.0             1.0            0.0   \n",
       "2                   0.0         0.0             1.0            0.0   \n",
       "3                   0.0         0.0             1.0            0.0   \n",
       "4                   0.0         0.0             1.0            0.0   \n",
       "\n",
       "   race=Other  gender=Female  gender=Male  admission_type_id=1  \\\n",
       "0         0.0            0.0          1.0                  1.0   \n",
       "1         0.0            0.0          1.0                  0.0   \n",
       "2         0.0            0.0          1.0                  1.0   \n",
       "3         0.0            0.0          1.0                  0.0   \n",
       "4         0.0            0.0          1.0                  0.0   \n",
       "\n",
       "   admission_type_id=2  admission_type_id=3        ...         diag_3=V58  \\\n",
       "0                  0.0                  0.0        ...                0.0   \n",
       "1                  0.0                  1.0        ...                0.0   \n",
       "2                  0.0                  0.0        ...                0.0   \n",
       "3                  1.0                  0.0        ...                0.0   \n",
       "4                  1.0                  0.0        ...                0.0   \n",
       "\n",
       "    age  time_in_hospital  num_lab_procedures  num_procedures  \\\n",
       "0  75.0                 3                  66               1   \n",
       "1  75.0                 2                  29               2   \n",
       "2  45.0                 4                  56               0   \n",
       "3  65.0                 3                  27               0   \n",
       "4  75.0                 3                  75               0   \n",
       "\n",
       "   num_medications  number_outpatient  number_emergency  number_inpatient  \\\n",
       "0               18                  0                 0                 1   \n",
       "1               15                  1                 0                 3   \n",
       "2               11                  0                 0                 1   \n",
       "3               15                  0                 0                 0   \n",
       "4               15                  0                 0                 0   \n",
       "\n",
       "   number_diagnoses  \n",
       "0                 9  \n",
       "1                 9  \n",
       "2                 7  \n",
       "3                 8  \n",
       "4                 6  \n",
       "\n",
       "[5 rows x 511 columns]"
      ]
     },
     "execution_count": 20,
     "metadata": {},
     "output_type": "execute_result"
    }
   ],
   "source": [
    "from sklearn.preprocessing import OneHotEncoder\n",
    "enc = OneHotEncoder(categories='auto')\n",
    "encoded_dataframes = []\n",
    "categorical_variables_diabetes = []\n",
    "\n",
    "for col in columns_type_dataset['diabete'][1]:\n",
    "    enc.fit(df_diabete[col].values.reshape(-1,1))\n",
    "    categories_names = enc.categories_\n",
    "    columns_names = [col+'='+str(name) for name in categories_names[0]]\n",
    "    values_encoded = enc.transform(df_diabete[col].values.reshape(-1, 1)).toarray()\n",
    "    encoded_dataframes.append(pd.DataFrame(values_encoded, columns=columns_names))\n",
    "    categorical_variables_diabetes.append(columns_names)\n",
    "\n",
    "categorical_variables_diabetes_names = [item for sublist in categorical_variables_diabetes for item in sublist]\n",
    "\n",
    "\n",
    "diabete_encoded = pd.concat([pd.concat(encoded_dataframes,1),df_diabete[columns_type_dataset['diabete'][0]]],1)\n",
    "diabete_encoded.head()"
   ]
  },
  {
   "cell_type": "code",
   "execution_count": 32,
   "metadata": {},
   "outputs": [
    {
     "data": {
      "text/plain": [
       "diag_1=414    1.0\n",
       "diag_2=425    1.0\n",
       "diag_3=466    1.0\n",
       "Name: 0, dtype: float64"
      ]
     },
     "execution_count": 32,
     "metadata": {},
     "output_type": "execute_result"
    }
   ],
   "source": [
    "s = diabete_encoded[target_cols].loc[0]\n",
    "s.iloc[s.nonzero()[0]]"
   ]
  },
  {
   "cell_type": "code",
   "execution_count": 33,
   "metadata": {},
   "outputs": [],
   "source": [
    "target_cols = [col for col in diabete_encoded.columns if 'diag_' in col]\n",
    "for i in diabete_encoded.index.values:\n",
    "    if len(diabete_encoded[target_cols].loc[i].nonzero()[0]) != 3:\n",
    "        print(i)"
   ]
  },
  {
   "cell_type": "code",
   "execution_count": 34,
   "metadata": {},
   "outputs": [],
   "source": [
    "columns_type_dataset['diabete'][1] = [i for i in categorical_variables_diabetes_names if 'diag_' not in i]"
   ]
  },
  {
   "cell_type": "code",
   "execution_count": 35,
   "metadata": {},
   "outputs": [],
   "source": [
    "cols_Y = [col for col in diabete_encoded.columns if col.startswith('diag_')]\n",
    "cols_X = [col for col in diabete_encoded.columns if col not in cols_Y]\n",
    "\n",
    "X = diabete_encoded[cols_X].values\n",
    "y = diabete_encoded[cols_Y].values"
   ]
  },
  {
   "cell_type": "code",
   "execution_count": 36,
   "metadata": {
    "scrolled": true
   },
   "outputs": [
    {
     "data": {
      "text/plain": [
       "array([[0., 0., 0., ..., 0., 0., 0.],\n",
       "       [0., 0., 0., ..., 0., 0., 0.],\n",
       "       [0., 0., 0., ..., 0., 0., 0.],\n",
       "       ...,\n",
       "       [0., 0., 0., ..., 0., 0., 0.],\n",
       "       [0., 0., 0., ..., 0., 0., 0.],\n",
       "       [0., 0., 0., ..., 0., 0., 0.]])"
      ]
     },
     "execution_count": 36,
     "metadata": {},
     "output_type": "execute_result"
    }
   ],
   "source": [
    "diabete_encoded[cols_Y].values"
   ]
  },
  {
   "cell_type": "code",
   "execution_count": 41,
   "metadata": {},
   "outputs": [
    {
     "name": "stdout",
     "output_type": "stream",
     "text": [
      "number of columns: 511 \n",
      "sum of cols X + cols Y: 511 \n",
      "number of features: 134 \n",
      "number of target cols: 377\n"
     ]
    }
   ],
   "source": [
    "print('number of columns: %d \\nsum of cols X + cols Y: %d \\nnumber of features: %d \\nnumber of target cols: %d' %(len(diabete_encoded.columns),len(cols_X)+len(cols_Y),len(cols_X),len(cols_Y)))"
   ]
  },
  {
   "cell_type": "code",
   "execution_count": 42,
   "metadata": {},
   "outputs": [],
   "source": [
    "X_bb, X_2e, y_bb, y_2e = train_test_split(X, y, test_size=0.3, random_state=0)"
   ]
  },
  {
   "cell_type": "code",
   "execution_count": 43,
   "metadata": {},
   "outputs": [
    {
     "name": "stdout",
     "output_type": "stream",
     "text": [
      "(7469, 134)\n",
      "(7469, 377)\n"
     ]
    }
   ],
   "source": [
    "print(X_bb.shape)\n",
    "print(y_bb.shape)"
   ]
  },
  {
   "cell_type": "code",
   "execution_count": 44,
   "metadata": {
    "scrolled": true
   },
   "outputs": [],
   "source": [
    "df_bb = pd.concat([pd.DataFrame(data=X_bb,columns=cols_X),pd.DataFrame(data=y_bb,columns=cols_Y)],1)\n",
    "df_2e = pd.concat([pd.DataFrame(data=X_2e,columns=cols_X),pd.DataFrame(data=y_2e,columns=cols_Y)],1)"
   ]
  },
  {
   "cell_type": "code",
   "execution_count": 45,
   "metadata": {},
   "outputs": [],
   "source": [
    "df_bb.to_csv('../dataset/diabete_bb.csv', sep=',', index=False)\n",
    "df_2e.to_csv('../dataset/diabete_2e.csv', sep=',', index=False)"
   ]
  },
  {
   "cell_type": "markdown",
   "metadata": {},
   "source": [
    "# Woman Health Care"
   ]
  },
  {
   "cell_type": "code",
   "execution_count": null,
   "metadata": {},
   "outputs": [],
   "source": [
    "woman = pd.read_csv('../dataset/dataset_raw/women_health_care.csv', sep=',')"
   ]
  },
  {
   "cell_type": "code",
   "execution_count": null,
   "metadata": {},
   "outputs": [],
   "source": [
    "woman.head()"
   ]
  },
  {
   "cell_type": "code",
   "execution_count": null,
   "metadata": {},
   "outputs": [],
   "source": [
    "len(woman)"
   ]
  },
  {
   "cell_type": "code",
   "execution_count": null,
   "metadata": {},
   "outputs": [],
   "source": [
    "mv = woman.isnull().sum(axis=0)\n",
    "\n",
    "columns2drop = list()\n",
    "for k, v in zip(mv.index, mv.values):\n",
    "    if v != 0.0:\n",
    "        columns2drop.append(k)"
   ]
  },
  {
   "cell_type": "code",
   "execution_count": null,
   "metadata": {},
   "outputs": [],
   "source": [
    "woman.drop(columns2drop, axis=1, inplace=True)"
   ]
  },
  {
   "cell_type": "raw",
   "metadata": {},
   "source": [
    "df_hc, f2b = binarize_features(df_hc)"
   ]
  },
  {
   "cell_type": "code",
   "execution_count": null,
   "metadata": {},
   "outputs": [],
   "source": [
    "enc = OneHotEncoder(categories='auto')\n",
    "encoded_dataframes = []\n",
    "categorical_variables_woman = []\n",
    "\n",
    "for col in columns_type_dataset['woman'][1]:\n",
    "    enc.fit(woman[col].values.reshape(-1,1))\n",
    "    categories_names = enc.categories_\n",
    "    columns_names = [col+str(name) for name in categories_names[0]]\n",
    "    values_encoded = enc.transform(woman[col].values.reshape(-1, 1)).toarray()\n",
    "    encoded_dataframes.append(pd.DataFrame(values_encoded, columns=columns_names))\n",
    "    categorical_variables_woman.append(columns_names)\n",
    "\n",
    "categorical_variables_woman_names = [item for sublist in categorical_variables_woman for item in sublist]\n",
    "\n",
    "woman_encoded = pd.concat([pd.concat(encoded_dataframes,1),woman.drop(columns_type_dataset['woman'][1],1)],1)\n",
    "woman_encoded.head()"
   ]
  },
  {
   "cell_type": "code",
   "execution_count": null,
   "metadata": {},
   "outputs": [],
   "source": [
    "columns_type_dataset['woman'][1] = categorical_variables_woman_names"
   ]
  },
  {
   "cell_type": "code",
   "execution_count": null,
   "metadata": {},
   "outputs": [],
   "source": [
    "df_hc_label = pd.read_csv('../dataset/dataset_raw/women_health_care_labels.csv', sep=',')"
   ]
  },
  {
   "cell_type": "code",
   "execution_count": null,
   "metadata": {},
   "outputs": [],
   "source": [
    "df_hc_label.head()"
   ]
  },
  {
   "cell_type": "code",
   "execution_count": null,
   "metadata": {},
   "outputs": [],
   "source": [
    "len(df_hc_label)"
   ]
  },
  {
   "cell_type": "code",
   "execution_count": null,
   "metadata": {},
   "outputs": [],
   "source": [
    "df_hc = woman_encoded.set_index('id').join(df_hc_label.set_index('id'), how='inner').reset_index().drop('id',1)"
   ]
  },
  {
   "cell_type": "code",
   "execution_count": null,
   "metadata": {},
   "outputs": [],
   "source": [
    "cols_Y = [col for col in df_hc.columns if col.startswith('service')]\n",
    "cols_X = [col for col in df_hc.columns if col not in cols_Y]\n",
    "\n",
    "X = df_hc[cols_X].values\n",
    "y = df_hc[cols_Y].values"
   ]
  },
  {
   "cell_type": "code",
   "execution_count": null,
   "metadata": {},
   "outputs": [],
   "source": [
    "X_bb, X_2e, y_bb, y_2e = train_test_split(X, y, test_size=0.3, random_state=0)"
   ]
  },
  {
   "cell_type": "code",
   "execution_count": null,
   "metadata": {},
   "outputs": [],
   "source": [
    "df_bb = pd.DataFrame(data=np.concatenate((X_bb, y_bb), axis=1), columns=df_hc.columns)\n",
    "df_2e = pd.DataFrame(data=np.concatenate((X_2e, y_2e), axis=1), columns=df_hc.columns)"
   ]
  },
  {
   "cell_type": "code",
   "execution_count": null,
   "metadata": {},
   "outputs": [],
   "source": [
    "df_bb.to_csv('../dataset/woman_bb.csv', sep=',', index=False)\n",
    "df_2e.to_csv('../dataset/woman_2e.csv', sep=',', index=False)"
   ]
  },
  {
   "cell_type": "markdown",
   "metadata": {},
   "source": [
    "#### Save dictionary of varibles names divided in categorical and continuous ones for later use"
   ]
  },
  {
   "cell_type": "code",
   "execution_count": null,
   "metadata": {
    "scrolled": true
   },
   "outputs": [],
   "source": [
    "#columns_type_dataset.pop('diabete')"
   ]
  },
  {
   "cell_type": "code",
   "execution_count": null,
   "metadata": {},
   "outputs": [],
   "source": [
    "with open('../dataset/dict_names.pickle', 'wb') as handle:\n",
    "    pickle.dump(columns_type_dataset, handle, protocol=pickle.HIGHEST_PROTOCOL)"
   ]
  }
 ],
 "metadata": {
  "kernelspec": {
   "display_name": "Python 3",
   "language": "python",
   "name": "python3"
  },
  "language_info": {
   "codemirror_mode": {
    "name": "ipython",
    "version": 3
   },
   "file_extension": ".py",
   "mimetype": "text/x-python",
   "name": "python",
   "nbconvert_exporter": "python",
   "pygments_lexer": "ipython3",
   "version": "3.6.6"
  }
 },
 "nbformat": 4,
 "nbformat_minor": 2
}
