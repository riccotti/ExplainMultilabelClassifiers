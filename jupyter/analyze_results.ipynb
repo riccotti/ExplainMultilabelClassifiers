{
 "cells": [
  {
   "cell_type": "code",
   "execution_count": 1,
   "metadata": {},
   "outputs": [],
   "source": [
    "%matplotlib inline\n",
    "\n",
    "import numpy as np\n",
    "import pandas as pd\n",
    "import matplotlib.pyplot as plt\n",
    "from os import listdir\n",
    "\n",
    "import json\n",
    "import gzip\n",
    "import pickle\n",
    "import datetime\n",
    "\n",
    "from collections import defaultdict\n",
    "from scipy.spatial.distance import hamming\n",
    "from sklearn.metrics import f1_score, precision_score, recall_score"
   ]
  },
  {
   "cell_type": "code",
   "execution_count": 2,
   "metadata": {},
   "outputs": [],
   "source": [
    "dataset_list = ['yeast', 'woman'] #, 'diabete']\n",
    "blackbox_list = ['rf', 'svm', 'mlp']"
   ]
  },
  {
   "cell_type": "code",
   "execution_count": 3,
   "metadata": {},
   "outputs": [
    {
     "name": "stdout",
     "output_type": "stream",
     "text": [
      "2018-11-04 18:52:30.454559 dataset: yeast\n",
      "2018-11-04 18:52:30.454660 blackbox: rf\n",
      "2018-11-04 18:52:30.493450 blackbox: svm\n",
      "2018-11-04 18:52:30.526205 blackbox: mlp\n",
      "2018-11-04 18:52:30.556077 dataset: woman\n",
      "2018-11-04 18:52:30.556153 blackbox: rf\n",
      "2018-11-04 18:52:30.719458 blackbox: svm\n",
      "2018-11-04 18:52:30.880775 blackbox: mlp\n"
     ]
    }
   ],
   "source": [
    "hit_gdt = defaultdict(lambda: defaultdict(list))\n",
    "rules_gdt = defaultdict(lambda: defaultdict(list))\n",
    "gdt_labels = defaultdict(lambda: defaultdict(list))\n",
    "\n",
    "for dataset in dataset_list:\n",
    "    print(datetime.datetime.now(), 'dataset: %s' % dataset)\n",
    "    for bb_name in blackbox_list:\n",
    "        print(datetime.datetime.now(), 'blackbox: %s' % bb_name)\n",
    "        \n",
    "        resfile = gzip.open('../global_dt/GDT_to_mimic_%s_%s_metrics.json.gz' % (dataset, bb_name), 'rb')\n",
    "        for row in resfile:\n",
    "            r = json.loads(row.decode('utf-8').strip())\n",
    "            bb_name = r['bb_name']\n",
    "            dataset_name = r['dataset_name']\n",
    "            #saving hit\n",
    "            hit_gdt[dataset_name][bb_name].append(1.0 - r['hit_sm'])\n",
    "            #saving rule lenght\n",
    "            rules_gdt[dataset_name][bb_name].append(r['len_rule'])\n",
    "            #saving label\n",
    "            gdt_labels[dataset][bb_name].append(r['i2e_GDT_label'])\n",
    "            \n",
    "        resfile.close()"
   ]
  },
  {
   "cell_type": "markdown",
   "metadata": {},
   "source": [
    "### Comparison between mixed and union approaches"
   ]
  },
  {
   "cell_type": "code",
   "execution_count": 4,
   "metadata": {},
   "outputs": [
    {
     "data": {
      "text/plain": [
       "['20181103_0226_yeast_rf_explanationsandmetrics.json.gz',\n",
       " '20181103_0228_woman_rf_explanationsandmetrics.json.gz',\n",
       " '20181103_0228_woman_svm_explanationsandmetrics.json.gz',\n",
       " '20181103_0226_yeast_svm_explanationsandmetrics.json.gz',\n",
       " '20181103_0227_yeast_mlp_explanationsandmetrics.json.gz',\n",
       " '20181103_0229_woman_mlp_explanationsandmetrics.json.gz']"
      ]
     },
     "execution_count": 4,
     "metadata": {},
     "output_type": "execute_result"
    }
   ],
   "source": [
    "output_files = []\n",
    "names_output = listdir('../output/')\n",
    "for name in names_output:\n",
    "    if name.startswith('20181103'):\n",
    "        output_files.append(name)\n",
    "output_files"
   ]
  },
  {
   "cell_type": "code",
   "execution_count": 5,
   "metadata": {},
   "outputs": [
    {
     "name": "stdout",
     "output_type": "stream",
     "text": [
      "2018-11-04 18:52:31.066008 dataset: yeast\n",
      "2018-11-04 18:52:31.066207 blackbox: rf\n",
      "2018-11-04 18:52:31.105530 blackbox: svm\n",
      "2018-11-04 18:52:31.141481 blackbox: mlp\n",
      "2018-11-04 18:52:31.175505 dataset: woman\n",
      "2018-11-04 18:52:31.175542 blackbox: rf\n",
      "2018-11-04 18:52:31.386771 blackbox: svm\n",
      "2018-11-04 18:52:31.598149 blackbox: mlp\n"
     ]
    }
   ],
   "source": [
    "mixed_fidelity_sn = defaultdict(list)\n",
    "mixed_fidelity_rn = defaultdict(list)\n",
    "union_fidelity_sn = defaultdict(list)\n",
    "union_fidelity_rn = defaultdict(list)\n",
    "\n",
    "for idx, dataset in enumerate(dataset_list):\n",
    "    print(datetime.datetime.now(), 'dataset: %s' % dataset)\n",
    "    for bb_name in blackbox_list: \n",
    "        print(datetime.datetime.now(), 'blackbox: %s' % bb_name)\n",
    "        \n",
    "        file_name = [output for output in output_files if dataset in output and bb_name in output][0]\n",
    "        resfile = gzip.open('../output/'+file_name, 'rb')\n",
    "        for row in resfile:\n",
    "            r = json.loads(row.decode('utf-8').strip())\n",
    "            bb_name = r['bb_name']\n",
    "\n",
    "            mixed_fidelity_sn[bb_name].append(r['fidelity_tree1_syn'])\n",
    "            mixed_fidelity_rn[bb_name].append(r['fidelity_tree1_kNN'])\n",
    "\n",
    "            union_fidelity_sn[bb_name].append(r['fidelity_tree2_syn'])\n",
    "            union_fidelity_rn[bb_name].append(r['fidelity_tree2_kNN'])\n",
    "\n",
    "        resfile.close()"
   ]
  },
  {
   "cell_type": "code",
   "execution_count": 6,
   "metadata": {},
   "outputs": [
    {
     "name": "stdout",
     "output_type": "stream",
     "text": [
      "Table 2\n",
      "rf\n",
      "\tmixed fidelity sn: 0.939 \\pm 0.021\n",
      "\tunion fidelity sn: 0.902 \\pm 0.047\n",
      "---\n",
      "\tmixed fidelity rn: 0.888 \\pm 0.091\n",
      "\tunion fidelity rn: 0.870 \\pm 0.110\n",
      "svm\n",
      "\tmixed fidelity sn: 0.909 \\pm 0.045\n",
      "\tunion fidelity sn: 0.879 \\pm 0.059\n",
      "---\n",
      "\tmixed fidelity rn: 0.594 \\pm 0.209\n",
      "\tunion fidelity rn: 0.606 \\pm 0.232\n",
      "mlp\n",
      "\tmixed fidelity sn: 0.947 \\pm 0.032\n",
      "\tunion fidelity sn: 0.938 \\pm 0.045\n",
      "---\n",
      "\tmixed fidelity rn: 0.613 \\pm 0.266\n",
      "\tunion fidelity rn: 0.619 \\pm 0.245\n"
     ]
    }
   ],
   "source": [
    "values = []\n",
    "print('Table 2')\n",
    "for bb_name in blackbox_list:\n",
    "    print(bb_name)\n",
    "    print('\\tmixed fidelity sn: %.3f \\pm %.3f' % (\n",
    "        np.mean(mixed_fidelity_sn[bb_name]), np.std(mixed_fidelity_sn[bb_name])))\n",
    "    values.append(np.mean(mixed_fidelity_sn[bb_name]))\n",
    "    values.append(np.std(mixed_fidelity_sn[bb_name]))            \n",
    "    print('\\tunion fidelity sn: %.3f \\pm %.3f' % (\n",
    "        np.mean(union_fidelity_sn[bb_name]), np.std(union_fidelity_sn[bb_name])))\n",
    "    values.append(np.mean(union_fidelity_sn[bb_name]))\n",
    "    values.append(np.std(union_fidelity_sn[bb_name]))\n",
    "    print('---')\n",
    "    print('\\tmixed fidelity rn: %.3f \\pm %.3f' % (\n",
    "        np.mean(mixed_fidelity_rn[bb_name]), np.std(mixed_fidelity_rn[bb_name])))\n",
    "    values.append(np.mean(mixed_fidelity_rn[bb_name]))\n",
    "    values.append(np.std(mixed_fidelity_rn[bb_name]))\n",
    "    print('\\tunion fidelity rn: %.3f \\pm %.3f' % (\n",
    "        np.mean(union_fidelity_rn[bb_name]), np.std(union_fidelity_rn[bb_name])))\n",
    "    values.append(np.mean(union_fidelity_rn[bb_name]))\n",
    "    values.append(np.std(union_fidelity_rn[bb_name]))"
   ]
  },
  {
   "cell_type": "code",
   "execution_count": 7,
   "metadata": {},
   "outputs": [
    {
     "name": "stdout",
     "output_type": "stream",
     "text": [
      "\n",
      "\\begin{table}[h]\n",
      "\\vspace{2mm}\n",
      "\\centering\n",
      "\\setlength{\\tabcolsep}{1.5mm}\n",
      "\\small\n",
      "\\begin{tabular}{|c|cc|cc|}\n",
      "\\hline\n",
      "\\multicolumn{1}{|c|}{} & \\multicolumn{2}{c|}{\\textit{s-fidelity}} & \\multicolumn{2}{c|}{\\textit{r-fidelity}} \\\\\n",
      " & \\textit{mixed} & \\textit{union} & \\textit{mixed} & \\textit{union} \\\\\n",
      " \\hline\n",
      "\\textit{RF}  & 0.94 $\\pm$ 0.02 & 0.90 $\\pm$ 0.05 & 0.89 $\\pm$ 0.09 & 0.87 $\\pm$ 0.11 \\\\\n",
      "\\textit{SVM} & 0.91 $\\pm$ 0.04 & 0.88 $\\pm$ 0.06 & 0.59 $\\pm$ 0.21 & 0.61 $\\pm$ 0.23 \\\\\n",
      "\\textit{MLP} & 0.95 $\\pm$ 0.03 & 0.94 $\\pm$ 0.05 & 0.61 $\\pm$ 0.27 & 0.62 $\\pm$ 0.24 \\\\\n",
      "\\hline\n",
      "\\end{tabular}\n",
      "\\caption{Comparison between \\emph{mixed} and \\emph{union} approaches: averages and standard deviations of fidelity measures on the synthetic neighborhood \\textit{s-fidelity} and on the neighborhood of real data points used to generate the synthetic one \\textit{r-fidelity}.}\n",
      "\\label{tab:neigh_comp}\n",
      "\\end{table}\n",
      "\n"
     ]
    }
   ],
   "source": [
    "print(r\"\"\"\n",
    "\\begin{table}[h]\n",
    "\\vspace{2mm}\n",
    "\\centering\n",
    "\\setlength{\\tabcolsep}{1.5mm}\n",
    "\\small\n",
    "\\begin{tabular}{|c|cc|cc|}\n",
    "\\hline\n",
    "\\multicolumn{1}{|c|}{} & \\multicolumn{2}{c|}{\\textit{s-fidelity}} & \\multicolumn{2}{c|}{\\textit{r-fidelity}} \\\\\n",
    " & \\textit{mixed} & \\textit{union} & \\textit{mixed} & \\textit{union} \\\\\n",
    " \\hline\n",
    "\\textit{RF}  & %.2f $\\pm$ %.2f & %.2f $\\pm$ %.2f & %.2f $\\pm$ %.2f & %.2f $\\pm$ %.2f \\\\\n",
    "\\textit{SVM} & %.2f $\\pm$ %.2f & %.2f $\\pm$ %.2f & %.2f $\\pm$ %.2f & %.2f $\\pm$ %.2f \\\\\n",
    "\\textit{MLP} & %.2f $\\pm$ %.2f & %.2f $\\pm$ %.2f & %.2f $\\pm$ %.2f & %.2f $\\pm$ %.2f \\\\\n",
    "\\hline\n",
    "\\end{tabular}\n",
    "\\caption{Comparison between \\emph{mixed} and \\emph{union} approaches: averages and standard deviations of fidelity measures on the synthetic neighborhood \\textit{s-fidelity} and on the neighborhood of real data points used to generate the synthetic one \\textit{r-fidelity}.}\n",
    "\\label{tab:neigh_comp}\n",
    "\\end{table}\n",
    "\"\"\" % tuple(values))"
   ]
  },
  {
   "cell_type": "markdown",
   "metadata": {},
   "source": [
    "## Hit performances MARLENA vs GDT"
   ]
  },
  {
   "cell_type": "code",
   "execution_count": 8,
   "metadata": {},
   "outputs": [
    {
     "name": "stdout",
     "output_type": "stream",
     "text": [
      "2018-11-04 18:52:31.843698 dataset: yeast\n",
      "2018-11-04 18:52:31.843799 blackbox: rf\n",
      "2018-11-04 18:52:31.882654 blackbox: svm\n",
      "2018-11-04 18:52:31.918967 blackbox: mlp\n",
      "2018-11-04 18:52:31.954025 dataset: woman\n",
      "2018-11-04 18:52:31.954074 blackbox: rf\n",
      "2018-11-04 18:52:32.163988 blackbox: svm\n",
      "2018-11-04 18:52:32.376055 blackbox: mlp\n"
     ]
    }
   ],
   "source": [
    "#saving hit values for MARLENA (both mixed and union)\n",
    "hit_mixed = defaultdict(lambda: defaultdict(list))\n",
    "hit_union = defaultdict(lambda: defaultdict(list))\n",
    "\n",
    "for idx, dataset in enumerate(dataset_list):\n",
    "    print(datetime.datetime.now(), 'dataset: %s' % dataset)\n",
    "    for bb_name in blackbox_list: \n",
    "        \n",
    "        print(datetime.datetime.now(), 'blackbox: %s' % bb_name)\n",
    "        file_name = [output for output in output_files if dataset in output and bb_name in output][0]\n",
    "        resfile = gzip.open('../output/'+file_name, 'rb')\n",
    "        \n",
    "        for row in resfile:\n",
    "            r = json.loads(row.decode('utf-8').strip())\n",
    "            bb_name = r['bb_name']\n",
    "            dataset_name = r['dataset_name']\n",
    "\n",
    "            hit_mixed[dataset_name][bb_name].append(1.0 - r['hit_sm_tree1'])\n",
    "            hit_union[dataset_name][bb_name].append(1.0 - r['hit_sm_tree2'])\n",
    "\n",
    "        resfile.close()"
   ]
  },
  {
   "cell_type": "code",
   "execution_count": 9,
   "metadata": {},
   "outputs": [
    {
     "name": "stdout",
     "output_type": "stream",
     "text": [
      "Table 3 e plot-MIXED\n",
      "yeast\n",
      "\t rf\n",
      "\t\thit MARLENA 0.973 pm 0.046\n",
      "\t\thit GDT 0.982 pm 0.037\n",
      "\t svm\n",
      "\t\thit MARLENA 0.949 pm 0.062\n",
      "\t\thit GDT 0.932 pm 0.067\n",
      "\t mlp\n",
      "\t\thit MARLENA 0.970 pm 0.048\n",
      "\t\thit GDT 0.942 pm 0.066\n",
      "woman\n",
      "\t rf\n",
      "\t\thit MARLENA 0.951 pm 0.065\n",
      "\t\thit GDT 0.985 pm 0.036\n",
      "\t svm\n",
      "\t\thit MARLENA 0.864 pm 0.093\n",
      "\t\thit GDT 0.993 pm 0.025\n",
      "\t mlp\n",
      "\t\thit MARLENA 0.804 pm 0.147\n",
      "\t\thit GDT 0.988 pm 0.034\n"
     ]
    },
    {
     "data": {
      "image/png": "[encoded data removed]",
      "text/plain": [
       "<Figure size 504x288 with 1 Axes>"
      ]
     },
     "metadata": {
      "needs_background": "light"
     },
     "output_type": "display_data"
    }
   ],
   "source": [
    "print('Table 3 e plot-MIXED')\n",
    "values_hit = []\n",
    "plt.figure(figsize=(7,4))\n",
    "index = 0\n",
    "for dataset_name in dataset_list:\n",
    "    print(dataset_name)\n",
    "    for bb_name in blackbox_list:\n",
    "        print('\\t', bb_name)\n",
    "        print('\\t\\thit MARLENA %.3f pm %.3f' % ( \n",
    "            np.mean(hit_mixed[dataset_name][bb_name]), np.std(hit_mixed[dataset_name][bb_name])))\n",
    "        values_hit.append(np.mean(hit_mixed[dataset_name][bb_name]))\n",
    "        values_hit.append(np.std(hit_mixed[dataset_name][bb_name]))\n",
    "        if dataset_name == 'yeast' and bb_name == 'rf':\n",
    "            plt.bar(index, np.mean(hit_mixed[dataset_name][bb_name]), \n",
    "                    yerr=np.std(hit_mixed[dataset_name][bb_name]), color='#2678b2', label='MARLENA')\n",
    "        else:\n",
    "            plt.bar(index, np.mean(hit_mixed[dataset_name][bb_name]), \n",
    "                    yerr=np.std(hit_mixed[dataset_name][bb_name]), color='#2678b2')\n",
    "        index += 1\n",
    "        print('\\t\\thit GDT %.3f pm %.3f' % ( \n",
    "            np.mean(hit_gdt[dataset_name][bb_name]), np.std(hit_gdt[dataset_name][bb_name])))\n",
    "        values_hit.append(np.mean(hit_gdt[dataset_name][bb_name]))\n",
    "        values_hit.append(np.std(hit_gdt[dataset_name][bb_name]))\n",
    "        if dataset_name == 'yeast' and bb_name == 'rf':\n",
    "            plt.bar(index, np.mean(hit_gdt[dataset_name][bb_name]), \n",
    "                    yerr=np.std(hit_gdt[dataset_name][bb_name]), color='#fd974b', label='GDT', hatch='/')\n",
    "        else:\n",
    "            plt.bar(index, np.mean(hit_gdt[dataset_name][bb_name]), \n",
    "                    yerr=np.std(hit_gdt[dataset_name][bb_name]), color='#fd974b')\n",
    "        index +=2\n",
    "    index += 1\n",
    "plt.xticks([0.5, 3.0, 6.5, 10.5, 13.5, 16.5], ['RF', 'SVM', 'MLP']*2)\n",
    "plt.legend(loc=(0,1), fontsize=16, ncol=2, labelspacing=0, handlelength=1, frameon=False)\n",
    "plt.title('Mixed approach',fontsize=20,y=1.10)\n",
    "plt.tick_params(axis='both', which='major', labelsize=16)\n",
    "plt.xlabel('yeast                               woman', fontsize=16)\n",
    "plt.savefig('../fig/MIXED_barplot.png', format='png', bbox_inches='tight')\n",
    "plt.show()"
   ]
  },
  {
   "cell_type": "code",
   "execution_count": 10,
   "metadata": {
    "scrolled": true
   },
   "outputs": [
    {
     "name": "stdout",
     "output_type": "stream",
     "text": [
      "\\begin{table}[t]\n",
      "\\vspace{2mm}\n",
      "\\setlength{\\tabcolsep}{1mm}\n",
      "\\centering\n",
      "\\small\n",
      "\\begin{tabular}{|c|cc|cc|}\n",
      "\\hline\n",
      "\\textit{Dataset} & \\multicolumn{2}{c|}{\\textit{yeast}} & \\multicolumn{2}{c|}{\\textit{woman}} \\\\\n",
      "\\hline\n",
      "\\textit{Black Box} & MARLENA & GDT & MARLENA & GDT \\\\\n",
      "\\hline\n",
      "\\textit{RF} & 0.97 $\\pm$ 0.05 & 0.98 $\\pm$ 0.04 & 0.95 $\\pm$ 0.06 & 0.93 $\\pm$ 0.07 \\\\\n",
      "\\textit{SVM} & 0.97 $\\pm$ 0.05 & 0.94 $\\pm$ 0.07 & 0.95 $\\pm$ 0.06 & 0.99 $\\pm$ 0.04 \\\\\n",
      "\\textit{MLP} & 0.86 $\\pm$ 0.09 & 0.99 $\\pm$ 0.03 & 0.80 $\\pm$ 0.15 & 0.99 $\\pm$ 0.03 \\\\\n",
      "\\hline\n",
      "\\end{tabular}\n",
      "\\caption{Hit performance comparison between MARLENA \\textbf{mixed-approach} and a global decision tree (GDT) trained directly on the dataset containing the instances to be explained.}\n",
      "\\label{tab:hit_mixed}\n",
      "\\end{table}\n"
     ]
    }
   ],
   "source": [
    "print(r\"\"\"\\begin{table}[t]\n",
    "\\vspace{2mm}\n",
    "\\setlength{\\tabcolsep}{1mm}\n",
    "\\centering\n",
    "\\small\n",
    "\\begin{tabular}{|c|cc|cc|}\n",
    "\\hline\n",
    "\\textit{Dataset} & \\multicolumn{2}{c|}{\\textit{yeast}} & \\multicolumn{2}{c|}{\\textit{woman}} \\\\\n",
    "\\hline\n",
    "\\textit{Black Box} & MARLENA & GDT & MARLENA & GDT \\\\\n",
    "\\hline\n",
    "\\textit{RF} & %.2f $\\pm$ %.2f & %.2f $\\pm$ %.2f & %.2f $\\pm$ %.2f & %.2f $\\pm$ %.2f \\\\\n",
    "\\textit{SVM} & %.2f $\\pm$ %.2f & %.2f $\\pm$ %.2f & %.2f $\\pm$ %.2f & %.2f $\\pm$ %.2f \\\\\n",
    "\\textit{MLP} & %.2f $\\pm$ %.2f & %.2f $\\pm$ %.2f & %.2f $\\pm$ %.2f & %.2f $\\pm$ %.2f \\\\\n",
    "\\hline\n",
    "\\end{tabular}\n",
    "\\caption{Hit performance comparison between MARLENA \\textbf{mixed-approach} and a global decision tree (GDT) trained directly on the dataset containing the instances to be explained.}\n",
    "\\label{tab:hit_mixed}\n",
    "\\end{table}\"\"\" % tuple(values_hit))"
   ]
  },
  {
   "cell_type": "code",
   "execution_count": 11,
   "metadata": {},
   "outputs": [
    {
     "name": "stdout",
     "output_type": "stream",
     "text": [
      "Table 3 e plot-UNION\n",
      "yeast\n",
      "\t rf\n",
      "\t\thit MARLENA 0.969 pm 0.047\n",
      "\t\thit GDT 0.982 pm 0.037\n",
      "\t svm\n",
      "\t\thit MARLENA 0.948 pm 0.061\n",
      "\t\thit GDT 0.932 pm 0.067\n",
      "\t mlp\n",
      "\t\thit MARLENA 0.965 pm 0.052\n",
      "\t\thit GDT 0.942 pm 0.066\n",
      "woman\n",
      "\t rf\n",
      "\t\thit MARLENA 0.942 pm 0.066\n",
      "\t\thit GDT 0.985 pm 0.036\n",
      "\t svm\n",
      "\t\thit MARLENA 0.868 pm 0.094\n",
      "\t\thit GDT 0.993 pm 0.025\n",
      "\t mlp\n",
      "\t\thit MARLENA 0.797 pm 0.124\n",
      "\t\thit GDT 0.988 pm 0.034\n"
     ]
    },
    {
     "data": {
      "image/png": "[encoded data removed]",
      "text/plain": [
       "<Figure size 504x288 with 1 Axes>"
      ]
     },
     "metadata": {
      "needs_background": "light"
     },
     "output_type": "display_data"
    },
    {
     "name": "stdout",
     "output_type": "stream",
     "text": [
      "\\begin{table}[t]\n",
      "\\vspace{2mm}\n",
      "\\setlength{\\tabcolsep}{1mm}\n",
      "\\centering\n",
      "\\small\n",
      "\\begin{tabular}{|c|cc|cc|}\n",
      "\\hline\n",
      "\\textit{Dataset} & \\multicolumn{2}{c|}{\\textit{yeast}} & \\multicolumn{2}{c|}{\\textit{woman}} \\\\\n",
      "\\hline\n",
      "\\textit{Black Box} & MARLENA & GDT & MARLENA & GDT \\\\\n",
      "\\hline\n",
      "\\textit{RF} & 0.97 $\\pm$ 0.05 & 0.98 $\\pm$ 0.04 & 0.95 $\\pm$ 0.06 & 0.93 $\\pm$ 0.07 \\\\\n",
      "\\textit{SVM} & 0.96 $\\pm$ 0.05 & 0.94 $\\pm$ 0.07 & 0.94 $\\pm$ 0.07 & 0.99 $\\pm$ 0.04 \\\\\n",
      "\\textit{MLP} & 0.87 $\\pm$ 0.09 & 0.99 $\\pm$ 0.03 & 0.80 $\\pm$ 0.12 & 0.99 $\\pm$ 0.03 \\\\\n",
      "\\hline\n",
      "\\end{tabular}\n",
      "\\caption{Hit performance comparison between MARLENA \\textbf{unified-approach} and a global decision tree (GDT) trained directly on the dataset containing the instances to be explained.}\n",
      "\\label{tab:hit_union}\n",
      "\\end{table}\n"
     ]
    }
   ],
   "source": [
    "print('Table 3 e plot-UNION')\n",
    "values_hit = []\n",
    "\n",
    "plt.figure(figsize=(7,4))\n",
    "index = 0\n",
    "for dataset_name in dataset_list:\n",
    "    print(dataset_name)\n",
    "    for bb_name in blackbox_list:\n",
    "        print('\\t', bb_name)\n",
    "        print('\\t\\thit MARLENA %.3f pm %.3f' % ( \n",
    "            np.mean(hit_union[dataset_name][bb_name]), np.std(hit_union[dataset_name][bb_name])))\n",
    "        values_hit.append(np.mean(hit_union[dataset_name][bb_name]))\n",
    "        values_hit.append(np.std(hit_union[dataset_name][bb_name]))\n",
    "        if dataset_name == 'yeast' and bb_name == 'rf':\n",
    "            plt.bar(index, np.mean(hit_union[dataset_name][bb_name]), \n",
    "                    yerr=np.std(hit_union[dataset_name][bb_name]), color='#2678b2', label='MARLENA')\n",
    "        else:\n",
    "            plt.bar(index, np.mean(hit_union[dataset_name][bb_name]), \n",
    "                    yerr=np.std(hit_union[dataset_name][bb_name]), color='#2678b2')\n",
    "        index += 1\n",
    "        print('\\t\\thit GDT %.3f pm %.3f' % ( \n",
    "            np.mean(hit_gdt[dataset_name][bb_name]), np.std(hit_gdt[dataset_name][bb_name])))\n",
    "        values_hit.append(np.mean(hit_gdt[dataset_name][bb_name]))\n",
    "        values_hit.append(np.std(hit_gdt[dataset_name][bb_name]))\n",
    "        if dataset_name == 'yeast' and bb_name == 'rf':\n",
    "            plt.bar(index, np.mean(hit_gdt[dataset_name][bb_name]), \n",
    "                    yerr=np.std(hit_gdt[dataset_name][bb_name]), color='#fd974b', label='GDT', hatch='/')\n",
    "        else:\n",
    "            plt.bar(index, np.mean(hit_gdt[dataset_name][bb_name]), \n",
    "                    yerr=np.std(hit_gdt[dataset_name][bb_name]), color='#fd974b')\n",
    "        index +=2\n",
    "    index += 1\n",
    "plt.xticks([0.5, 3.0, 6.5, 10.5, 13.5, 16.5], ['RF', 'SVM', 'MLP']*2)\n",
    "plt.legend(loc=(0,1), fontsize=16, ncol=2, labelspacing=0, handlelength=1, frameon=False)\n",
    "plt.title('Union approach',fontsize=20,y=1.10)\n",
    "plt.tick_params(axis='both', which='major', labelsize=16)\n",
    "plt.xlabel('yeast                               woman', fontsize=16)\n",
    "plt.savefig('../fig/UNION_barplot.png', format='png', bbox_inches='tight')\n",
    "plt.show()\n",
    "\n",
    "\n",
    "\n",
    "print(r\"\"\"\\begin{table}[t]\n",
    "\\vspace{2mm}\n",
    "\\setlength{\\tabcolsep}{1mm}\n",
    "\\centering\n",
    "\\small\n",
    "\\begin{tabular}{|c|cc|cc|}\n",
    "\\hline\n",
    "\\textit{Dataset} & \\multicolumn{2}{c|}{\\textit{yeast}} & \\multicolumn{2}{c|}{\\textit{woman}} \\\\\n",
    "\\hline\n",
    "\\textit{Black Box} & MARLENA & GDT & MARLENA & GDT \\\\\n",
    "\\hline\n",
    "\\textit{RF} & %.2f $\\pm$ %.2f & %.2f $\\pm$ %.2f & %.2f $\\pm$ %.2f & %.2f $\\pm$ %.2f \\\\\n",
    "\\textit{SVM} & %.2f $\\pm$ %.2f & %.2f $\\pm$ %.2f & %.2f $\\pm$ %.2f & %.2f $\\pm$ %.2f \\\\\n",
    "\\textit{MLP} & %.2f $\\pm$ %.2f & %.2f $\\pm$ %.2f & %.2f $\\pm$ %.2f & %.2f $\\pm$ %.2f \\\\\n",
    "\\hline\n",
    "\\end{tabular}\n",
    "\\caption{Hit performance comparison between MARLENA \\textbf{unified-approach} and a global decision tree (GDT) trained directly on the dataset containing the instances to be explained.}\n",
    "\\label{tab:hit_union}\n",
    "\\end{table}\"\"\" % tuple(values_hit))"
   ]
  },
  {
   "cell_type": "markdown",
   "metadata": {},
   "source": [
    "## Fidelities performances on interesting classes: MARLENA vs GDT"
   ]
  },
  {
   "cell_type": "code",
   "execution_count": 12,
   "metadata": {},
   "outputs": [
    {
     "name": "stdout",
     "output_type": "stream",
     "text": [
      "2018-11-04 18:52:33.211699 dataset: yeast\n",
      "2018-11-04 18:52:33.211931 blackbox: rf\n",
      "2018-11-04 18:52:33.257292 blackbox: svm\n",
      "2018-11-04 18:52:33.296997 blackbox: mlp\n",
      "2018-11-04 18:52:33.332919 dataset: woman\n",
      "2018-11-04 18:52:33.332957 blackbox: rf\n",
      "2018-11-04 18:52:33.546749 blackbox: svm\n",
      "2018-11-04 18:52:33.762701 blackbox: mlp\n"
     ]
    }
   ],
   "source": [
    "bb_labels = defaultdict(lambda: defaultdict(list))\n",
    "mixed_marlena_labels = defaultdict(lambda: defaultdict(list))\n",
    "union_marlena_labels = defaultdict(lambda: defaultdict(list))\n",
    "mixed_marlena_rule_lenght = defaultdict(lambda: defaultdict(list))\n",
    "union_marlena_rule_lenght = defaultdict(lambda: defaultdict(list))\n",
    "\n",
    "\n",
    "for idx, dataset in enumerate(dataset_list):\n",
    "    print(datetime.datetime.now(), 'dataset: %s' % dataset)\n",
    "    for bb_name in blackbox_list: \n",
    "        print(datetime.datetime.now(), 'blackbox: %s' % bb_name)\n",
    "        \n",
    "        file_name = [output for output in output_files if dataset in output and bb_name in output][0]\n",
    "        resfile = gzip.open('../output/'+file_name, 'rb')\n",
    "        \n",
    "        for row in resfile:\n",
    "            r = json.loads(row.decode('utf-8').strip())\n",
    "            bb_name = r['bb_name']\n",
    "            dataset_name = r['dataset_name']\n",
    "            bb_labels[dataset_name][bb_name].append(r['i2e_bb_label'])\n",
    "            mixed_marlena_labels[dataset_name][bb_name].append(r['i2e_tree1_label']) \n",
    "            union_marlena_labels[dataset_name][bb_name].append(r['i2e_tree2_label']) \n",
    "            mixed_marlena_rule_lenght[dataset_name][bb_name].append(r['lenght_rule_tree1'])\n",
    "            union_marlena_rule_lenght[dataset_name][bb_name].append(r['lenght_rule_tree2'])\n",
    "        resfile.close()"
   ]
  },
  {
   "cell_type": "code",
   "execution_count": 13,
   "metadata": {},
   "outputs": [
    {
     "name": "stdout",
     "output_type": "stream",
     "text": [
      "Table 4 - MIXED\n",
      "yeast\n",
      "\t rf\n",
      "MARLENA: avg 0.525, std 0.405, median 0.750\n",
      "GDT:\t avg 0.795, std 0.271, median 0.881\n",
      "\t svm\n",
      "MARLENA: avg 0.618, std 0.357, median 0.764\n",
      "GDT:\t avg 0.544, std 0.356, median 0.631\n",
      "\t mlp\n",
      "MARLENA: avg 0.890, std 0.078, median 0.897\n",
      "GDT:\t avg 0.771, std 0.168, median 0.766\n",
      "\n",
      "woman\n",
      "\t rf\n",
      "MARLENA: avg 0.410, std 0.391, median 0.504\n",
      "GDT:\t avg 0.653, std 0.378, median 0.831\n",
      "\t svm\n",
      "MARLENA: avg 0.175, std 0.277, median 0.041\n",
      "GDT:\t avg 0.793, std 0.288, median 0.893\n",
      "\t mlp\n",
      "MARLENA: avg 0.260, std 0.319, median 0.022\n",
      "GDT:\t avg 0.612, std 0.374, median 0.704\n",
      "\n"
     ]
    },
    {
     "name": "stderr",
     "output_type": "stream",
     "text": [
      "/home/user/venvs/LORE_env/lib/python3.6/site-packages/sklearn/metrics/classification.py:1143: UndefinedMetricWarning: F-score is ill-defined and being set to 0.0 in labels with no predicted samples.\n",
      "  'precision', 'predicted', average, warn_for)\n",
      "/home/user/venvs/LORE_env/lib/python3.6/site-packages/sklearn/metrics/classification.py:1145: UndefinedMetricWarning: F-score is ill-defined and being set to 0.0 in labels with no true samples.\n",
      "  'recall', 'true', average, warn_for)\n"
     ]
    }
   ],
   "source": [
    "print('Table 4 - MIXED')\n",
    "\n",
    "for idx, dataset in enumerate(dataset_list):\n",
    "    print(dataset)\n",
    "    for bb_name in blackbox_list:\n",
    "        print('\\t', bb_name)\n",
    "        bl = np.asarray(bb_labels[dataset][bb_name])\n",
    "        ml = np.asarray(mixed_marlena_labels[dataset][bb_name])\n",
    "        nbr_instances = len(bl)\n",
    "        gl = np.asarray(gdt_labels[dataset][bb_name][:nbr_instances])\n",
    "\n",
    "        f1score_marlena = f1_score(bl, ml, average=None)\n",
    "        f1score_gdt = f1_score(bl, gl, average=None)\n",
    "\n",
    "        marlena_values = list()\n",
    "        gdt_values = list()\n",
    "        for i in range(0, len(bl[0])):\n",
    "            #qui faccio solo la media e la deviazione standard per le features che sono interessanti,\n",
    "            #ovvero quelle che non sono tutte 0 o tutte 1 \n",
    "            flag = 0 < np.sum(bl[:,i])/len(bl) < 1\n",
    "            if flag:\n",
    "                marlena_values.append(f1score_marlena[i])\n",
    "                gdt_values.append(f1score_gdt[i])\n",
    "\n",
    "        print('MARLENA: avg %.3f, std %.3f, median %.3f' % (\n",
    "            np.mean(marlena_values), np.std(marlena_values), np.median(marlena_values)))\n",
    "        print('GDT:\\t avg %.3f, std %.3f, median %.3f' % (\n",
    "            np.mean(gdt_values), np.std(gdt_values), np.median(gdt_values)))\n",
    "    print('')"
   ]
  },
  {
   "cell_type": "code",
   "execution_count": 14,
   "metadata": {},
   "outputs": [
    {
     "name": "stdout",
     "output_type": "stream",
     "text": [
      "Table 4 - UNION\n",
      "yeast\n",
      "\t rf\n",
      "MARLENA: avg 0.546, std 0.377, median 0.681\n",
      "GDT:\t avg 0.795, std 0.271, median 0.881\n",
      "\t svm\n",
      "MARLENA: avg 0.617, std 0.353, median 0.755\n",
      "GDT:\t avg 0.544, std 0.356, median 0.631\n",
      "\t mlp\n",
      "MARLENA: avg 0.880, std 0.074, median 0.873\n",
      "GDT:\t avg 0.771, std 0.168, median 0.766\n",
      "\n",
      "woman\n",
      "\t rf\n",
      "MARLENA: avg 0.380, std 0.381, median 0.382\n",
      "GDT:\t avg 0.653, std 0.378, median 0.831\n",
      "\t svm\n",
      "MARLENA: avg 0.166, std 0.278, median 0.055\n",
      "GDT:\t avg 0.793, std 0.288, median 0.893\n",
      "\t mlp\n",
      "MARLENA: avg 0.263, std 0.328, median 0.025\n",
      "GDT:\t avg 0.612, std 0.374, median 0.704\n",
      "\n"
     ]
    }
   ],
   "source": [
    "print('Table 4 - UNION')\n",
    "\n",
    "for idx, dataset in enumerate(dataset_list):\n",
    "    print(dataset)\n",
    "    for bb_name in blackbox_list:\n",
    "        print('\\t', bb_name)\n",
    "        bl = np.asarray(bb_labels[dataset][bb_name])\n",
    "        ml = np.asarray(union_marlena_labels[dataset][bb_name])\n",
    "        nbr_instances = len(bl)\n",
    "        gl = np.asarray(gdt_labels[dataset][bb_name][:nbr_instances])\n",
    "\n",
    "        f1score_marlena = f1_score(bl, ml, average=None)\n",
    "        f1score_gdt = f1_score(bl, gl, average=None)\n",
    "\n",
    "        marlena_values = list()\n",
    "        gdt_values = list()\n",
    "        for i in range(0, len(bl[0])):\n",
    "            flag = 0 < np.sum(bl[:,i])/len(bl) < 1\n",
    "            if flag:\n",
    "                marlena_values.append(f1score_marlena[i])\n",
    "                gdt_values.append(f1score_gdt[i])\n",
    "\n",
    "        print('MARLENA: avg %.3f, std %.3f, median %.3f' % (\n",
    "            np.mean(marlena_values), np.std(marlena_values), np.median(marlena_values)))\n",
    "        print('GDT:\\t avg %.3f, std %.3f, median %.3f' % (\n",
    "            np.mean(gdt_values), np.std(gdt_values), np.median(gdt_values)))\n",
    "    print('')"
   ]
  },
  {
   "cell_type": "markdown",
   "metadata": {},
   "source": [
    "# Measures of rule lenght for the GDT"
   ]
  },
  {
   "cell_type": "code",
   "execution_count": 15,
   "metadata": {},
   "outputs": [
    {
     "name": "stdout",
     "output_type": "stream",
     "text": [
      "yeast\n",
      "\t rf\n",
      "MARLENA: mixed mean rule lenght\t 2.92 pm 2.27\n",
      "MARLENA: union mean rule lenght\t 2.91 pm 2.44\n",
      "GDT: mean rule lenght\t\t 9.09 pm 3.35\n",
      "\t svm\n",
      "MARLENA: mixed mean rule lenght\t 3.29 pm 2.24\n",
      "MARLENA: union mean rule lenght\t 3.18 pm 1.99\n",
      "GDT: mean rule lenght\t\t 5.68 pm 1.47\n",
      "\t mlp\n",
      "MARLENA: mixed mean rule lenght\t 2.44 pm 1.99\n",
      "MARLENA: union mean rule lenght\t 2.70 pm 2.30\n",
      "GDT: mean rule lenght\t\t 6.70 pm 2.36\n",
      "\n",
      "woman\n",
      "\t rf\n",
      "MARLENA: mixed mean rule lenght\t 4.30 pm 0.98\n",
      "MARLENA: union mean rule lenght\t 4.36 pm 1.19\n",
      "GDT: mean rule lenght\t\t 13.20 pm 4.56\n",
      "\t svm\n",
      "MARLENA: mixed mean rule lenght\t 4.31 pm 1.51\n",
      "MARLENA: union mean rule lenght\t 4.36 pm 1.62\n",
      "GDT: mean rule lenght\t\t 16.30 pm 6.61\n",
      "\t mlp\n",
      "MARLENA: mixed mean rule lenght\t 2.93 pm 1.17\n",
      "MARLENA: union mean rule lenght\t 2.77 pm 1.42\n",
      "GDT: mean rule lenght\t\t 14.85 pm 6.17\n",
      "\n",
      "\\begin{table}[h]\n",
      "\\setlength{\\tabcolsep}{2mm}\n",
      "\\centering\n",
      "\\small\n",
      "\\begin{tabular}{|c|lll|lll|}\n",
      "\\hline\n",
      "\\textit{Dataset} & \\multicolumn{3}{c|}{\\textit{yeast}} \\\\ \\hline\n",
      "\\textit{Approach} & \\multicolumn{2}{c}{MARLENA} & \\multicolumn{1}{c|}{GDT} \\\\ \\hline\n",
      "\\multicolumn{1}{|l|}{\\textit{Black Box}} & \\textit{mixed} & \\textit{unified} &   \\\\ \\hline\n",
      "\\textit{RF} &  2.92 $\\pm$ 2.27 &  2.91 $\\pm$ 2.44 & 9.09 $\\pm$ 3.35 \\\\\n",
      "\\textit{SVM} &  3.29 $\\pm$ 2.24 &  3.18 $\\pm$ 1.99 &  5.68 $\\pm$ 1.47 \\\\\n",
      "\\textit{MLP} &  2.44 $\\pm$ 1.99 &  2.70 $\\pm$ 2.30 &  6.70 $\\pm$ 2.36  \\\\ \\hline\n",
      "\n",
      "\n",
      "\\textit{Dataset} & \\multicolumn{3}{c|}{\\textit{woman}} \\\\ \\hline\n",
      "\\textit{Approach} & \\multicolumn{2}{c}{MARLENA} & \\multicolumn{1}{c|}{GDT} \\\\ \\hline\n",
      "\\multicolumn{1}{|l|}{\\textit{Black Box}} & \\textit{mixed} & \\textit{unified} &   \\\\ \\hline\n",
      "\\textit{RF} &  4.30 $\\pm$ 0.98 &  4.36 $\\pm$ 1.19 &  13.20 $\\pm$ 4.56 \\\\\n",
      "\\textit{SVM} &  4.31 $\\pm$ 1.51 &  4.36 $\\pm$ 1.62 &  16.30 $\\pm$ 6.61  \\\\\n",
      "\\textit{MLP} &  2.93 $\\pm$ 1.17 &  2.77 $\\pm$ 1.42 &  14.85 $\\pm$ 6.17 \\\\ \\hline\n",
      "\n",
      "\\end{tabular}\n",
      "\\caption{Rule lenght comparison among all the approaches}\n",
      "\\label{tab:rule_len}\n",
      "\\end{table}\n"
     ]
    }
   ],
   "source": [
    "rule_len_values = []\n",
    "for idx, dataset in enumerate(dataset_list):\n",
    "    print(dataset)\n",
    "    for bb_name in blackbox_list:\n",
    "        \n",
    "        print('\\t', bb_name)\n",
    "        mixed_mr = np.asarray(mixed_marlena_rule_lenght[dataset][bb_name])\n",
    "        union_mr = np.asarray(union_marlena_rule_lenght[dataset][bb_name])\n",
    "        gdt_mr = np.asarray(list(map(int, rules_gdt[dataset][bb_name])))\n",
    "        \n",
    "        print('MARLENA: mixed mean rule lenght\\t %.2f pm %.2f' % (np.mean(mixed_mr),np.std(mixed_mr)))\n",
    "        rule_len_values.append(np.mean(mixed_mr))\n",
    "        rule_len_values.append(np.std(mixed_mr))\n",
    "        print('MARLENA: union mean rule lenght\\t %.2f pm %.2f' % (np.mean(union_mr),np.std(union_mr)))\n",
    "        rule_len_values.append(np.mean(union_mr))\n",
    "        rule_len_values.append(np.std(union_mr))\n",
    "        print('GDT: mean rule lenght\\t\\t %.2f pm %.2f' % (np.mean(gdt_mr),np.std(gdt_mr)))\n",
    "        rule_len_values.append(np.mean(gdt_mr))\n",
    "        rule_len_values.append(np.std(gdt_mr))\n",
    "\n",
    "    print('')\n",
    "    \n",
    "    \n",
    "print(r\"\"\"\\begin{table}[h]\n",
    "\\setlength{\\tabcolsep}{2mm}\n",
    "\\centering\n",
    "\\small\n",
    "\\begin{tabular}{|c|lll|lll|}\n",
    "\\hline\n",
    "\\textit{Dataset} & \\multicolumn{3}{c|}{\\textit{yeast}} \\\\ \\hline\n",
    "\\textit{Approach} & \\multicolumn{2}{c}{MARLENA} & \\multicolumn{1}{c|}{GDT} \\\\ \\hline\n",
    "\\multicolumn{1}{|l|}{\\textit{Black Box}} & \\textit{mixed} & \\textit{unified} &   \\\\ \\hline\n",
    "\\textit{RF} &  %.2f $\\pm$ %.2f &  %.2f $\\pm$ %.2f & %.2f $\\pm$ %.2f \\\\\n",
    "\\textit{SVM} &  %.2f $\\pm$ %.2f &  %.2f $\\pm$ %.2f &  %.2f $\\pm$ %.2f \\\\\n",
    "\\textit{MLP} &  %.2f $\\pm$ %.2f &  %.2f $\\pm$ %.2f &  %.2f $\\pm$ %.2f  \\\\ \\hline\n",
    "\n",
    "\n",
    "\\textit{Dataset} & \\multicolumn{3}{c|}{\\textit{woman}} \\\\ \\hline\n",
    "\\textit{Approach} & \\multicolumn{2}{c}{MARLENA} & \\multicolumn{1}{c|}{GDT} \\\\ \\hline\n",
    "\\multicolumn{1}{|l|}{\\textit{Black Box}} & \\textit{mixed} & \\textit{unified} &   \\\\ \\hline\n",
    "\\textit{RF} &  %.2f $\\pm$ %.2f &  %.2f $\\pm$ %.2f &  %.2f $\\pm$ %.2f \\\\\n",
    "\\textit{SVM} &  %.2f $\\pm$ %.2f &  %.2f $\\pm$ %.2f &  %.2f $\\pm$ %.2f  \\\\\n",
    "\\textit{MLP} &  %.2f $\\pm$ %.2f &  %.2f $\\pm$ %.2f &  %.2f $\\pm$ %.2f \\\\ \\hline\n",
    "\n",
    "\\end{tabular}\n",
    "\\caption{Rule lenght comparison among all the approaches}\n",
    "\\label{tab:rule_len}\n",
    "\\end{table}\"\"\" % tuple(rule_len_values))"
   ]
  }
 ],
 "metadata": {
  "kernelspec": {
   "display_name": "Python 3",
   "language": "python",
   "name": "python3"
  },
  "language_info": {
   "codemirror_mode": {
    "name": "ipython",
    "version": 3
   },
   "file_extension": ".py",
   "mimetype": "text/x-python",
   "name": "python",
   "nbconvert_exporter": "python",
   "pygments_lexer": "ipython3",
   "version": "3.6.6"
  }
 },
 "nbformat": 4,
 "nbformat_minor": 2
}
