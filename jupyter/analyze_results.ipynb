{
 "cells": [
  {
   "cell_type": "code",
   "execution_count": 1,
   "metadata": {},
   "outputs": [],
   "source": [
    "%matplotlib inline\n",
    "\n",
    "import numpy as np\n",
    "import pandas as pd\n",
    "import matplotlib.pyplot as plt\n",
    "\n",
    "import json\n",
    "import gzip\n",
    "import pickle\n",
    "import datetime\n",
    "\n",
    "from collections import defaultdict\n",
    "from scipy.spatial.distance import hamming\n",
    "from sklearn.metrics import f1_score, precision_score, recall_score"
   ]
  },
  {
   "cell_type": "code",
   "execution_count": 2,
   "metadata": {},
   "outputs": [],
   "source": [
    "dataset_list = ['yeast', 'woman'] #, 'diabete']\n",
    "blackbox_list = ['rf', 'svm', 'mlp']"
   ]
  },
  {
   "cell_type": "markdown",
   "metadata": {},
   "source": [
    "### Comparison between mixed and union approaches"
   ]
  },
  {
   "cell_type": "code",
   "execution_count": 3,
   "metadata": {},
   "outputs": [
    {
     "name": "stdout",
     "output_type": "stream",
     "text": [
      "2018-11-02 12:45:03.513027 dataset: yeast\n",
      "2018-11-02 12:45:03.513134 blackbox: rf\n",
      "2018-11-02 12:45:03.559821 blackbox: svm\n",
      "2018-11-02 12:45:03.599886 blackbox: mlp\n",
      "2018-11-02 12:45:03.639021 dataset: woman\n",
      "2018-11-02 12:45:03.639099 blackbox: rf\n",
      "2018-11-02 12:45:03.846425 blackbox: svm\n",
      "2018-11-02 12:45:04.050817 blackbox: mlp\n"
     ]
    }
   ],
   "source": [
    "mixed_fidelity_sn = defaultdict(list)\n",
    "mixed_fidelity_rn = defaultdict(list)\n",
    "union_fidelity_sn = defaultdict(list)\n",
    "union_fidelity_rn = defaultdict(list)\n",
    "\n",
    "for idx, dataset in enumerate(dataset_list):\n",
    "    print(datetime.datetime.now(), 'dataset: %s' % dataset)\n",
    "    for bb_name in blackbox_list: \n",
    "        print(datetime.datetime.now(), 'blackbox: %s' % bb_name)\n",
    "        \n",
    "        resfile = gzip.open('../output/20181031_1500_%s_%s_explanationsandmetrics.json.gz' % (dataset, bb_name), 'rb')\n",
    "        for row in resfile:\n",
    "            r = json.loads(row.decode('utf-8').strip())\n",
    "            bb_name = r['bb_name']\n",
    "\n",
    "            mixed_fidelity_sn[bb_name].append(r['fidelity_tree1_syn'])\n",
    "            mixed_fidelity_rn[bb_name].append(r['fidelity_tree1_kNN'])\n",
    "\n",
    "            union_fidelity_sn[bb_name].append(r['fidelity_tree2_syn'])\n",
    "            union_fidelity_rn[bb_name].append(r['fidelity_tree2_kNN'])\n",
    "\n",
    "        resfile.close()"
   ]
  },
  {
   "cell_type": "code",
   "execution_count": 4,
   "metadata": {},
   "outputs": [
    {
     "name": "stdout",
     "output_type": "stream",
     "text": [
      "Table 2\n",
      "rf\n",
      "\tmixed fidelity sn: 1.000 \\pm 0.000\n",
      "\tunion fidelity sn: 0.876 \\pm 0.047\n",
      "---\n",
      "\tmixed fidelity rn: 0.833 \\pm 0.089\n",
      "\tunion fidelity rn: 0.831 \\pm 0.111\n",
      "svm\n",
      "\tmixed fidelity sn: 1.000 \\pm 0.000\n",
      "\tunion fidelity sn: 0.853 \\pm 0.067\n",
      "---\n",
      "\tmixed fidelity rn: 0.605 \\pm 0.203\n",
      "\tunion fidelity rn: 0.613 \\pm 0.229\n",
      "mlp\n",
      "\tmixed fidelity sn: 1.000 \\pm 0.000\n",
      "\tunion fidelity sn: 0.918 \\pm 0.051\n",
      "---\n",
      "\tmixed fidelity rn: 0.530 \\pm 0.242\n",
      "\tunion fidelity rn: 0.547 \\pm 0.254\n"
     ]
    }
   ],
   "source": [
    "print('Table 2')\n",
    "for bb_name in blackbox_list:\n",
    "    print(bb_name)\n",
    "    print('\\tmixed fidelity sn: %.3f \\pm %.3f' % (\n",
    "        np.mean(mixed_fidelity_sn[bb_name]), np.std(mixed_fidelity_sn[bb_name])))\n",
    "    print('\\tunion fidelity sn: %.3f \\pm %.3f' % (\n",
    "        np.mean(union_fidelity_sn[bb_name]), np.std(union_fidelity_sn[bb_name])))\n",
    "    print('---')\n",
    "    print('\\tmixed fidelity rn: %.3f \\pm %.3f' % (\n",
    "        np.mean(mixed_fidelity_rn[bb_name]), np.std(mixed_fidelity_rn[bb_name])))\n",
    "    print('\\tunion fidelity rn: %.3f \\pm %.3f' % (\n",
    "        np.mean(union_fidelity_rn[bb_name]), np.std(union_fidelity_rn[bb_name])))"
   ]
  },
  {
   "cell_type": "markdown",
   "metadata": {},
   "source": [
    "### Plot of fidelity changing alpha"
   ]
  },
  {
   "cell_type": "code",
   "execution_count": 5,
   "metadata": {},
   "outputs": [
    {
     "name": "stdout",
     "output_type": "stream",
     "text": [
      "Plot var alpha\n"
     ]
    }
   ],
   "source": [
    "print('Plot var alpha')\n",
    "#TODO"
   ]
  },
  {
   "cell_type": "code",
   "execution_count": 6,
   "metadata": {},
   "outputs": [],
   "source": [
    "mixed_fidelity_sn = defaultdict(lambda: defaultdict(list))\n",
    "mixed_fidelity_rn = defaultdict(lambda: defaultdict(list))\n",
    "mixed_hit = defaultdict(lambda: defaultdict(list))\n",
    "\n",
    "\n",
    "resfile = gzip.open('../output/yeast_alphabeta.json.gz', 'rb')\n",
    "for row in resfile:\n",
    "    r = json.loads(row.decode('utf-8').strip())\n",
    "    bb_name = r['bb_name']\n",
    "    dataset_name = r['dataset_name']\n",
    "    alpha = float(r['alpha'])\n",
    "    mixed_fidelity_sn[bb_name][alpha].append(float(r['fidelity_tree1_syn']))\n",
    "    mixed_fidelity_rn[bb_name][alpha].append(float(r['fidelity_tree1_kNN']))\n",
    "    mixed_hit[bb_name][alpha].append(1.0 - float(r['hit_sm_tree1']))\n",
    "resfile.close()"
   ]
  },
  {
   "cell_type": "code",
   "execution_count": 7,
   "metadata": {},
   "outputs": [],
   "source": [
    "bb_name_map = {\n",
    "    'rf': 'RF',\n",
    "    'svm': 'SVM',\n",
    "    'mlp': 'MLP'\n",
    "}"
   ]
  },
  {
   "cell_type": "code",
   "execution_count": 8,
   "metadata": {},
   "outputs": [
    {
     "data": {
      "image/png": "[encoded data removed]",
      "text/plain": [
       "<Figure size 360x216 with 1 Axes>"
      ]
     },
     "metadata": {
      "needs_background": "light"
     },
     "output_type": "display_data"
    },
    {
     "data": {
      "image/png": "[encoded data removed]",
      "text/plain": [
       "<Figure size 360x216 with 1 Axes>"
      ]
     },
     "metadata": {
      "needs_background": "light"
     },
     "output_type": "display_data"
    },
    {
     "data": {
      "image/png": "[encoded data removed]",
      "text/plain": [
       "<Figure size 360x216 with 1 Axes>"
      ]
     },
     "metadata": {
      "needs_background": "light"
     },
     "output_type": "display_data"
    }
   ],
   "source": [
    "alphas = [np.round(x, 2) for x in np.arange(0.0, 1.1, 0.1)]\n",
    "\n",
    "for bb_name in blackbox_list:\n",
    "    fs_means = list()\n",
    "    fs_std = list()\n",
    "    fr_means = list()\n",
    "    fr_std = list()\n",
    "    hit_means = list()\n",
    "    hit_std = list()\n",
    "    for alpha in alphas:\n",
    "        fs_means.append(np.mean(mixed_fidelity_sn[bb_name][alpha]))\n",
    "        fs_std.append(np.std(mixed_fidelity_sn[bb_name][alpha]))\n",
    "        fr_means.append(np.mean(mixed_fidelity_rn[bb_name][alpha]))\n",
    "        fr_std.append(np.std(mixed_fidelity_rn[bb_name][alpha]))\n",
    "        hit_means.append(np.mean(mixed_hit[bb_name][alpha]))\n",
    "        hit_std.append(np.std(mixed_hit[bb_name][alpha]))\n",
    "    \n",
    "    plt.figure(figsize=(5,3))\n",
    "    plt.errorbar(alphas, fr_means, yerr=np.array(fr_std)/2, marker='o', label='r-fidelity')\n",
    "    plt.errorbar(alphas, hit_means, yerr=np.array(hit_std)/2, marker='', label='hit')\n",
    "    plt.ylim([0.5, 1.0])\n",
    "    plt.title(bb_name_map[bb_name] , fontsize=16)\n",
    "    plt.xlabel(r'$\\alpha$', fontsize=18)\n",
    "    plt.tick_params(axis='both', which='major', labelsize=16)\n",
    "    plt.legend(loc='lower left', fontsize=16, ncol=2, labelspacing=0, handlelength=0.2, frameon=False)\n",
    "    plt.savefig('../fig/alpha_%s.png' % bb_name, format='png', bbox_inches='tight')\n",
    "    plt.show()"
   ]
  },
  {
   "cell_type": "code",
   "execution_count": 31,
   "metadata": {},
   "outputs": [
    {
     "data": {
      "image/png": "[encoded data removed]",
      "text/plain": [
       "<Figure size 360x648 with 3 Axes>"
      ]
     },
     "metadata": {
      "needs_background": "light"
     },
     "output_type": "display_data"
    }
   ],
   "source": [
    "fig, axes = plt.subplots(nrows=3, ncols=1, sharex=True, figsize=(5, 9))\n",
    "alphas = [np.round(x, 2) for x in np.arange(0.0, 1.1, 0.1)]\n",
    "\n",
    "#for ax, title, y in zip(axes.flat, titles, y_vals):\n",
    "#    ax.plot(x, y)\n",
    "#    ax.set_title(title)\n",
    "#    ax.grid(True)\n",
    "\n",
    "for ax, bb_name in zip(axes.flat,blackbox_list):\n",
    "    fs_means = list()\n",
    "    fs_std = list()\n",
    "    fr_means = list()\n",
    "    fr_std = list()\n",
    "    hit_means = list()\n",
    "    hit_std = list()\n",
    "    for alpha in alphas:\n",
    "        fs_means.append(np.mean(mixed_fidelity_sn[bb_name][alpha]))\n",
    "        fs_std.append(np.std(mixed_fidelity_sn[bb_name][alpha]))\n",
    "        fr_means.append(np.mean(mixed_fidelity_rn[bb_name][alpha]))\n",
    "        fr_std.append(np.std(mixed_fidelity_rn[bb_name][alpha]))\n",
    "        hit_means.append(np.mean(mixed_hit[bb_name][alpha]))\n",
    "        hit_std.append(np.std(mixed_hit[bb_name][alpha]))\n",
    "    \n",
    "    #plt.figure(figsize=(5,3))\n",
    "    ax.errorbar(alphas, fr_means, yerr=np.array(fr_std)/2, marker='o', label='r-fidelity')\n",
    "    ax.errorbar(alphas, hit_means, yerr=np.array(hit_std)/2, marker='', label='hit')\n",
    "    ax.set_ylim([0.5, 1.0])\n",
    "    ax.set_title(bb_name_map[bb_name] , fontsize=16)\n",
    "    ax.set_xlabel(r'$\\alpha$', fontsize=18)\n",
    "    ax.tick_params(axis='both', which='major', labelsize=16)\n",
    "    ax.legend(loc='lower left', fontsize=16, ncol=2, labelspacing=0, handlelength=0.2, frameon=False)\n",
    "    \n",
    "    #plt.show()\n",
    "\n",
    "fig.tight_layout()\n",
    "fig.savefig('../fig/all_bb_alpha.png', format='png', bbox_inches='tight')"
   ]
  },
  {
   "cell_type": "markdown",
   "metadata": {},
   "source": [
    "## Hit performances MARLENA vs GDT"
   ]
  },
  {
   "cell_type": "code",
   "execution_count": 9,
   "metadata": {},
   "outputs": [
    {
     "name": "stdout",
     "output_type": "stream",
     "text": [
      "2018-11-02 12:45:05.153266 dataset: yeast\n",
      "2018-11-02 12:45:05.153429 blackbox: rf\n",
      "2018-11-02 12:45:05.193853 blackbox: svm\n",
      "2018-11-02 12:45:05.233287 blackbox: mlp\n",
      "2018-11-02 12:45:05.273774 dataset: woman\n",
      "2018-11-02 12:45:05.273843 blackbox: rf\n",
      "2018-11-02 12:45:05.481829 blackbox: svm\n",
      "2018-11-02 12:45:05.685786 blackbox: mlp\n"
     ]
    }
   ],
   "source": [
    "#saving hit values for MARLENA (both mixed and union)\n",
    "hit_mixed = defaultdict(lambda: defaultdict(list))\n",
    "hit_union = defaultdict(lambda: defaultdict(list))\n",
    "\n",
    "for idx, dataset in enumerate(dataset_list):\n",
    "    print(datetime.datetime.now(), 'dataset: %s' % dataset)\n",
    "    for bb_name in blackbox_list: \n",
    "        print(datetime.datetime.now(), 'blackbox: %s' % bb_name)\n",
    "        \n",
    "        resfile = gzip.open('../output/20181031_1500_%s_%s_explanationsandmetrics.json.gz' % (dataset, bb_name), 'rb')\n",
    "        for row in resfile:\n",
    "            r = json.loads(row.decode('utf-8').strip())\n",
    "            bb_name = r['bb_name']\n",
    "            dataset_name = r['dataset_name']\n",
    "\n",
    "            hit_mixed[dataset_name][bb_name].append(1.0 - r['hit_sm_tree1'])\n",
    "            hit_union[dataset_name][bb_name].append(1.0 - r['hit_sm_tree2'])\n",
    "\n",
    "        resfile.close()"
   ]
  },
  {
   "cell_type": "code",
   "execution_count": 10,
   "metadata": {},
   "outputs": [
    {
     "name": "stdout",
     "output_type": "stream",
     "text": [
      "2018-11-02 12:45:05.899009 dataset: yeast\n",
      "2018-11-02 12:45:05.899190 blackbox: rf\n",
      "2018-11-02 12:45:05.917803 blackbox: svm\n",
      "2018-11-02 12:45:05.937104 blackbox: mlp\n",
      "2018-11-02 12:45:05.954112 dataset: woman\n",
      "2018-11-02 12:45:05.954147 blackbox: rf\n",
      "2018-11-02 12:45:06.043617 blackbox: svm\n",
      "2018-11-02 12:45:06.144289 blackbox: mlp\n"
     ]
    }
   ],
   "source": [
    "#saving hit values for GDT\n",
    "hit_gdt = defaultdict(lambda: defaultdict(list))\n",
    "for idx, dataset in enumerate(dataset_list):\n",
    "    print(datetime.datetime.now(), 'dataset: %s' % dataset)\n",
    "    for bb_name in blackbox_list: \n",
    "        print(datetime.datetime.now(), 'blackbox: %s' % bb_name)\n",
    "        \n",
    "        resfile = gzip.open('../global_dt/%s_%s_labels.json.gz' % (bb_name, dataset), 'rb')\n",
    "        for row in resfile:\n",
    "            r = json.loads(row.decode('utf-8').strip())\n",
    "            bb_label = r['bb_label']\n",
    "            gdt_label = r['gdt_label']\n",
    "\n",
    "            hit_gdt[dataset][bb_name].append(1.0 - hamming(bb_label, gdt_label))\n",
    "        resfile.close()"
   ]
  },
  {
   "cell_type": "code",
   "execution_count": 11,
   "metadata": {},
   "outputs": [
    {
     "name": "stdout",
     "output_type": "stream",
     "text": [
      "Table 3 e plot-MIXED\n",
      "yeast\n",
      "\t rf\n",
      "\t\thit MARLENA 0.964 pm 0.051\n",
      "\t\thit GDT 0.947 pm 0.066\n",
      "\t svm\n",
      "\t\thit MARLENA 0.915 pm 0.081\n",
      "\t\thit GDT 0.939 pm 0.068\n",
      "\t mlp\n",
      "\t\thit MARLENA 0.948 pm 0.064\n",
      "\t\thit GDT 0.970 pm 0.052\n",
      "woman\n",
      "\t rf\n",
      "\t\thit MARLENA 0.928 pm 0.068\n",
      "\t\thit GDT 0.981 pm 0.041\n",
      "\t svm\n",
      "\t\thit MARLENA 0.846 pm 0.123\n",
      "\t\thit GDT 0.993 pm 0.025\n",
      "\t mlp\n",
      "\t\thit MARLENA 0.736 pm 0.164\n",
      "\t\thit GDT 0.979 pm 0.048\n"
     ]
    },
    {
     "data": {
      "image/png": "[encoded data removed]",
      "text/plain": [
       "<Figure size 504x288 with 1 Axes>"
      ]
     },
     "metadata": {
      "needs_background": "light"
     },
     "output_type": "display_data"
    }
   ],
   "source": [
    "print('Table 3 e plot-MIXED')\n",
    "\n",
    "plt.figure(figsize=(7,4))\n",
    "index = 0\n",
    "for dataset_name in dataset_list:\n",
    "    print(dataset_name)\n",
    "    for bb_name in blackbox_list:\n",
    "        print('\\t', bb_name)\n",
    "        print('\\t\\thit MARLENA %.3f pm %.3f' % ( \n",
    "            np.mean(hit_mixed[dataset_name][bb_name]), np.std(hit_mixed[dataset_name][bb_name])))\n",
    "        if dataset_name == 'yeast' and bb_name == 'rf':\n",
    "            plt.bar(index, np.mean(hit_mixed[dataset_name][bb_name]), \n",
    "                    yerr=np.std(hit_mixed[dataset_name][bb_name]), color='#2678b2', label='MARLENA')\n",
    "        else:\n",
    "            plt.bar(index, np.mean(hit_mixed[dataset_name][bb_name]), \n",
    "                    yerr=np.std(hit_mixed[dataset_name][bb_name]), color='#2678b2')\n",
    "        index += 1\n",
    "        print('\\t\\thit GDT %.3f pm %.3f' % ( \n",
    "            np.mean(hit_gdt[dataset_name][bb_name]), np.std(hit_gdt[dataset_name][bb_name])))\n",
    "        if dataset_name == 'yeast' and bb_name == 'rf':\n",
    "            plt.bar(index, np.mean(hit_gdt[dataset_name][bb_name]), \n",
    "                    yerr=np.std(hit_gdt[dataset_name][bb_name]), color='#fd974b', label='GDT', hatch='/')\n",
    "        else:\n",
    "            plt.bar(index, np.mean(hit_gdt[dataset_name][bb_name]), \n",
    "                    yerr=np.std(hit_gdt[dataset_name][bb_name]), color='#fd974b')\n",
    "        index +=2\n",
    "    index += 1\n",
    "plt.xticks([0.5, 3.0, 6.5, 10.5, 13.5, 16.5], ['RF', 'SVM', 'MLP']*2)\n",
    "plt.legend(loc=(0,1), fontsize=16, ncol=2, labelspacing=0, handlelength=1, frameon=False)\n",
    "plt.title('Mixed approach',fontsize=20,y=1.10)\n",
    "plt.tick_params(axis='both', which='major', labelsize=16)\n",
    "plt.xlabel('yeast                               woman', fontsize=16)\n",
    "plt.savefig('../fig/MIXED_barplot.png', format='png', bbox_inches='tight')\n",
    "plt.show()"
   ]
  },
  {
   "cell_type": "code",
   "execution_count": 12,
   "metadata": {},
   "outputs": [
    {
     "name": "stdout",
     "output_type": "stream",
     "text": [
      "Table 3 e plot-UNION\n",
      "yeast\n",
      "\t rf\n",
      "\t\thit MARLENA 0.963 pm 0.051\n",
      "\t\thit GDT 0.947 pm 0.066\n",
      "\t svm\n",
      "\t\thit MARLENA 0.920 pm 0.077\n",
      "\t\thit GDT 0.939 pm 0.068\n",
      "\t mlp\n",
      "\t\thit MARLENA 0.954 pm 0.059\n",
      "\t\thit GDT 0.970 pm 0.052\n",
      "woman\n",
      "\t rf\n",
      "\t\thit MARLENA 0.927 pm 0.069\n",
      "\t\thit GDT 0.981 pm 0.041\n",
      "\t svm\n",
      "\t\thit MARLENA 0.854 pm 0.121\n",
      "\t\thit GDT 0.993 pm 0.025\n",
      "\t mlp\n",
      "\t\thit MARLENA 0.745 pm 0.155\n",
      "\t\thit GDT 0.979 pm 0.048\n"
     ]
    },
    {
     "data": {
      "image/png": "[encoded data removed]",
      "text/plain": [
       "<Figure size 504x288 with 1 Axes>"
      ]
     },
     "metadata": {
      "needs_background": "light"
     },
     "output_type": "display_data"
    }
   ],
   "source": [
    "print('Table 3 e plot-UNION')\n",
    "\n",
    "plt.figure(figsize=(7,4))\n",
    "index = 0\n",
    "for dataset_name in dataset_list:\n",
    "    print(dataset_name)\n",
    "    for bb_name in blackbox_list:\n",
    "        print('\\t', bb_name)\n",
    "        print('\\t\\thit MARLENA %.3f pm %.3f' % ( \n",
    "            np.mean(hit_union[dataset_name][bb_name]), np.std(hit_union[dataset_name][bb_name])))\n",
    "        if dataset_name == 'yeast' and bb_name == 'rf':\n",
    "            plt.bar(index, np.mean(hit_union[dataset_name][bb_name]), \n",
    "                    yerr=np.std(hit_union[dataset_name][bb_name]), color='#2678b2', label='MARLENA')\n",
    "        else:\n",
    "            plt.bar(index, np.mean(hit_union[dataset_name][bb_name]), \n",
    "                    yerr=np.std(hit_union[dataset_name][bb_name]), color='#2678b2')\n",
    "        index += 1\n",
    "        print('\\t\\thit GDT %.3f pm %.3f' % ( \n",
    "            np.mean(hit_gdt[dataset_name][bb_name]), np.std(hit_gdt[dataset_name][bb_name])))\n",
    "        if dataset_name == 'yeast' and bb_name == 'rf':\n",
    "            plt.bar(index, np.mean(hit_gdt[dataset_name][bb_name]), \n",
    "                    yerr=np.std(hit_gdt[dataset_name][bb_name]), color='#fd974b', label='GDT', hatch='/')\n",
    "        else:\n",
    "            plt.bar(index, np.mean(hit_gdt[dataset_name][bb_name]), \n",
    "                    yerr=np.std(hit_gdt[dataset_name][bb_name]), color='#fd974b')\n",
    "        index +=2\n",
    "    index += 1\n",
    "plt.xticks([0.5, 3.0, 6.5, 10.5, 13.5, 16.5], ['RF', 'SVM', 'MLP']*2)\n",
    "plt.legend(loc=(0,1), fontsize=16, ncol=2, labelspacing=0, handlelength=1, frameon=False)\n",
    "plt.title('Union approach',fontsize=20,y=1.10)\n",
    "plt.tick_params(axis='both', which='major', labelsize=16)\n",
    "plt.xlabel('yeast                               woman', fontsize=16)\n",
    "plt.savefig('../fig/UNION_barplot.png', format='png', bbox_inches='tight')\n",
    "plt.show()"
   ]
  },
  {
   "cell_type": "markdown",
   "metadata": {},
   "source": [
    "## Fidelities performances on interesting classes: MARLENA vs GDT"
   ]
  },
  {
   "cell_type": "code",
   "execution_count": 13,
   "metadata": {},
   "outputs": [
    {
     "name": "stdout",
     "output_type": "stream",
     "text": [
      "2018-11-02 12:45:06.821162 dataset: yeast\n",
      "2018-11-02 12:45:06.821254 blackbox: rf\n",
      "2018-11-02 12:45:06.876239 blackbox: svm\n",
      "2018-11-02 12:45:06.918388 blackbox: mlp\n",
      "2018-11-02 12:45:06.956229 dataset: woman\n",
      "2018-11-02 12:45:06.956284 blackbox: rf\n",
      "2018-11-02 12:45:07.174862 blackbox: svm\n",
      "2018-11-02 12:45:07.446627 blackbox: mlp\n"
     ]
    }
   ],
   "source": [
    "bb_labels = defaultdict(lambda: defaultdict(list))\n",
    "mixed_marlena_labels = defaultdict(lambda: defaultdict(list))\n",
    "union_marlena_labels = defaultdict(lambda: defaultdict(list))\n",
    "\n",
    "\n",
    "for idx, dataset in enumerate(dataset_list):\n",
    "    print(datetime.datetime.now(), 'dataset: %s' % dataset)\n",
    "    for bb_name in blackbox_list: \n",
    "        print(datetime.datetime.now(), 'blackbox: %s' % bb_name)\n",
    "        \n",
    "        resfile = gzip.open('../output/20181031_1500_%s_%s_explanationsandmetrics.json.gz' % (dataset, bb_name), 'rb')\n",
    "        for row in resfile:\n",
    "            r = json.loads(row.decode('utf-8').strip())\n",
    "            bb_name = r['bb_name']\n",
    "            dataset_name = r['dataset_name']\n",
    "            bb_labels[dataset_name][bb_name].append(r['i2e_bb_label'])\n",
    "            mixed_marlena_labels[dataset_name][bb_name].append(r['i2e_tree1_label']) \n",
    "            union_marlena_labels[dataset_name][bb_name].append(r['i2e_tree2_label']) \n",
    "            \n",
    "        resfile.close()"
   ]
  },
  {
   "cell_type": "code",
   "execution_count": 14,
   "metadata": {},
   "outputs": [
    {
     "name": "stdout",
     "output_type": "stream",
     "text": [
      "2018-11-02 12:45:07.661541 dataset: yeast\n",
      "2018-11-02 12:45:07.661603 blackbox: rf\n",
      "2018-11-02 12:45:07.667273 blackbox: svm\n",
      "2018-11-02 12:45:07.673404 blackbox: mlp\n",
      "2018-11-02 12:45:07.678188 dataset: woman\n",
      "2018-11-02 12:45:07.678250 blackbox: rf\n",
      "2018-11-02 12:45:07.704573 blackbox: svm\n",
      "2018-11-02 12:45:07.735327 blackbox: mlp\n"
     ]
    }
   ],
   "source": [
    "gdt_labels = defaultdict(lambda: defaultdict(list))\n",
    "for idx, dataset in enumerate(dataset_list):\n",
    "    print(datetime.datetime.now(), 'dataset: %s' % dataset)\n",
    "    for bb_name in blackbox_list: \n",
    "        print(datetime.datetime.now(), 'blackbox: %s' % bb_name)\n",
    "        \n",
    "        resfile = gzip.open('../global_dt/%s_%s_labels.json.gz' % (bb_name, dataset), 'rb')\n",
    "        for row in resfile:\n",
    "            r = json.loads(row.decode('utf-8').strip())\n",
    "            gdt_label = r['gdt_label']\n",
    "\n",
    "            gdt_labels[dataset][bb_name].append(r['gdt_label'])\n",
    "        resfile.close() "
   ]
  },
  {
   "cell_type": "code",
   "execution_count": 15,
   "metadata": {},
   "outputs": [
    {
     "name": "stdout",
     "output_type": "stream",
     "text": [
      "Table 4 - MIXED\n",
      "yeast\n",
      "\t rf\n",
      "MARLENA: avg 0.514, std 0.382, median 0.666\n",
      "GDT:\t avg 0.439, std 0.324, median 0.522\n",
      "\t svm\n",
      "MARLENA: avg 0.540, std 0.345, median 0.697\n",
      "GDT:\t avg 0.613, std 0.323, median 0.738\n",
      "\t mlp\n",
      "MARLENA: avg 0.821, std 0.111, median 0.808\n",
      "GDT:\t avg 0.786, std 0.119, median 0.805\n",
      "\n",
      "woman\n",
      "\t rf\n",
      "MARLENA: avg 0.383, std 0.369, median 0.401\n",
      "GDT:\t avg 0.615, std 0.265, median 0.663\n",
      "\t svm\n",
      "MARLENA: avg 0.250, std 0.275, median 0.132\n",
      "GDT:\t avg 0.582, std 0.367, median 0.782\n",
      "\t mlp\n",
      "MARLENA: avg 0.249, std 0.287, median 0.059\n",
      "GDT:\t avg 0.553, std 0.369, median 0.661\n",
      "\n"
     ]
    },
    {
     "name": "stderr",
     "output_type": "stream",
     "text": [
      "/home/user/venvs/LORE_env/lib/python3.6/site-packages/sklearn/metrics/classification.py:1143: UndefinedMetricWarning: F-score is ill-defined and being set to 0.0 in labels with no predicted samples.\n",
      "  'precision', 'predicted', average, warn_for)\n",
      "/home/user/venvs/LORE_env/lib/python3.6/site-packages/sklearn/metrics/classification.py:1145: UndefinedMetricWarning: F-score is ill-defined and being set to 0.0 in labels with no true samples.\n",
      "  'recall', 'true', average, warn_for)\n"
     ]
    }
   ],
   "source": [
    "print('Table 4 - MIXED')\n",
    "\n",
    "for idx, dataset in enumerate(dataset_list):\n",
    "    print(dataset)\n",
    "    for bb_name in blackbox_list:\n",
    "        print('\\t', bb_name)\n",
    "        bl = np.asarray(bb_labels[dataset][bb_name])\n",
    "        ml = np.asarray(mixed_marlena_labels[dataset][bb_name])\n",
    "        nbr_instances = len(bl)\n",
    "        gl = np.asarray(gdt_labels[dataset][bb_name][:nbr_instances])\n",
    "\n",
    "        f1score_marlena = f1_score(bl, ml, average=None)\n",
    "        f1score_gdt = f1_score(bl, gl, average=None)\n",
    "\n",
    "        marlena_values = list()\n",
    "        gdt_values = list()\n",
    "        for i in range(0, len(bl[0])):\n",
    "            #qui faccio solo la media e la deviazione standard per le features che sono interessanti,\n",
    "            #ovvero quelle che non sono tutte 0 o tutte 1 \n",
    "            flag = 0 < np.sum(bl[:,i])/len(bl) < 1\n",
    "            if flag:\n",
    "                marlena_values.append(f1score_marlena[i])\n",
    "                gdt_values.append(f1score_gdt[i])\n",
    "\n",
    "        print('MARLENA: avg %.3f, std %.3f, median %.3f' % (\n",
    "            np.mean(marlena_values), np.std(marlena_values), np.median(marlena_values)))\n",
    "        print('GDT:\\t avg %.3f, std %.3f, median %.3f' % (\n",
    "            np.mean(gdt_values), np.std(gdt_values), np.median(gdt_values)))\n",
    "    print('')"
   ]
  },
  {
   "cell_type": "code",
   "execution_count": 16,
   "metadata": {},
   "outputs": [
    {
     "name": "stdout",
     "output_type": "stream",
     "text": [
      "Table 4 - UNION\n",
      "yeast\n",
      "\t rf\n",
      "MARLENA: avg 0.514, std 0.383, median 0.670\n",
      "GDT:\t avg 0.439, std 0.324, median 0.522\n",
      "\t svm\n",
      "MARLENA: avg 0.574, std 0.327, median 0.710\n",
      "GDT:\t avg 0.613, std 0.323, median 0.738\n",
      "\t mlp\n",
      "MARLENA: avg 0.846, std 0.092, median 0.823\n",
      "GDT:\t avg 0.786, std 0.119, median 0.805\n",
      "\n",
      "woman\n",
      "\t rf\n",
      "MARLENA: avg 0.361, std 0.366, median 0.319\n",
      "GDT:\t avg 0.615, std 0.265, median 0.663\n",
      "\t svm\n",
      "MARLENA: avg 0.225, std 0.282, median 0.104\n",
      "GDT:\t avg 0.582, std 0.367, median 0.782\n",
      "\t mlp\n",
      "MARLENA: avg 0.251, std 0.298, median 0.042\n",
      "GDT:\t avg 0.553, std 0.369, median 0.661\n",
      "\n"
     ]
    }
   ],
   "source": [
    "print('Table 4 - UNION')\n",
    "\n",
    "for idx, dataset in enumerate(dataset_list):\n",
    "    print(dataset)\n",
    "    for bb_name in blackbox_list:\n",
    "        print('\\t', bb_name)\n",
    "        bl = np.asarray(bb_labels[dataset][bb_name])\n",
    "        ml = np.asarray(union_marlena_labels[dataset][bb_name])\n",
    "        nbr_instances = len(bl)\n",
    "        gl = np.asarray(gdt_labels[dataset][bb_name][:nbr_instances])\n",
    "\n",
    "        f1score_marlena = f1_score(bl, ml, average=None)\n",
    "        f1score_gdt = f1_score(bl, gl, average=None)\n",
    "\n",
    "        marlena_values = list()\n",
    "        gdt_values = list()\n",
    "        for i in range(0, len(bl[0])):\n",
    "            flag = 0 < np.sum(bl[:,i])/len(bl) < 1\n",
    "            if flag:\n",
    "                marlena_values.append(f1score_marlena[i])\n",
    "                gdt_values.append(f1score_gdt[i])\n",
    "\n",
    "        print('MARLENA: avg %.3f, std %.3f, median %.3f' % (\n",
    "            np.mean(marlena_values), np.std(marlena_values), np.median(marlena_values)))\n",
    "        print('GDT:\\t avg %.3f, std %.3f, median %.3f' % (\n",
    "            np.mean(gdt_values), np.std(gdt_values), np.median(gdt_values)))\n",
    "    print('')"
   ]
  },
  {
   "cell_type": "code",
   "execution_count": null,
   "metadata": {},
   "outputs": [],
   "source": []
  },
  {
   "cell_type": "code",
   "execution_count": null,
   "metadata": {},
   "outputs": [],
   "source": []
  },
  {
   "cell_type": "code",
   "execution_count": null,
   "metadata": {},
   "outputs": [],
   "source": []
  },
  {
   "cell_type": "code",
   "execution_count": null,
   "metadata": {},
   "outputs": [],
   "source": []
  }
 ],
 "metadata": {
  "kernelspec": {
   "display_name": "Python 3",
   "language": "python",
   "name": "python3"
  },
  "language_info": {
   "codemirror_mode": {
    "name": "ipython",
    "version": 3
   },
   "file_extension": ".py",
   "mimetype": "text/x-python",
   "name": "python",
   "nbconvert_exporter": "python",
   "pygments_lexer": "ipython3",
   "version": "3.6.6"
  }
 },
 "nbformat": 4,
 "nbformat_minor": 2
}
