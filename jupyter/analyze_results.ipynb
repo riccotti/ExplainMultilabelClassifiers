{
 "cells": [
  {
   "cell_type": "code",
   "execution_count": 1,
   "metadata": {},
   "outputs": [],
   "source": [
    "%matplotlib inline\n",
    "\n",
    "import numpy as np\n",
    "import pandas as pd\n",
    "import matplotlib.pyplot as plt\n",
    "from os import listdir\n",
    "\n",
    "import json\n",
    "import gzip\n",
    "import pickle\n",
    "import datetime\n",
    "\n",
    "from collections import defaultdict\n",
    "from scipy.spatial.distance import hamming\n",
    "from sklearn.metrics import f1_score, precision_score, recall_score"
   ]
  },
  {
   "cell_type": "code",
   "execution_count": 2,
   "metadata": {},
   "outputs": [],
   "source": [
    "dataset_list = ['yeast', 'woman'] #, 'diabete']\n",
    "blackbox_list = ['rf', 'svm', 'mlp']"
   ]
  },
  {
   "cell_type": "code",
   "execution_count": 3,
   "metadata": {},
   "outputs": [
    {
     "name": "stdout",
     "output_type": "stream",
     "text": [
      "2018-11-03 16:43:35.807100 dataset: yeast\n",
      "2018-11-03 16:43:35.808405 blackbox: rf\n",
      "2018-11-03 16:43:35.887671 blackbox: svm\n",
      "2018-11-03 16:43:35.965826 blackbox: mlp\n",
      "2018-11-03 16:43:36.047229 dataset: woman\n",
      "2018-11-03 16:43:36.047610 blackbox: rf\n",
      "2018-11-03 16:43:36.512697 blackbox: svm\n",
      "2018-11-03 16:43:36.990092 blackbox: mlp\n"
     ]
    }
   ],
   "source": [
    "hit_gdt = defaultdict(lambda: defaultdict(list))\n",
    "rules_gdt = defaultdict(lambda: defaultdict(list))\n",
    "gdt_labels = defaultdict(lambda: defaultdict(list))\n",
    "\n",
    "for dataset in dataset_list:\n",
    "    print(datetime.datetime.now(), 'dataset: %s' % dataset)\n",
    "    for bb_name in blackbox_list:\n",
    "        print(datetime.datetime.now(), 'blackbox: %s' % bb_name)\n",
    "        \n",
    "        resfile = gzip.open('../global_dt/GDT_to_mimic_%s_%s_metrics.json.gz' % (dataset, bb_name), 'rb')\n",
    "        for row in resfile:\n",
    "            r = json.loads(row.decode('utf-8').strip())\n",
    "            bb_name = r['bb_name']\n",
    "            dataset_name = r['dataset_name']\n",
    "            #saving hit\n",
    "            hit_gdt[dataset_name][bb_name].append(1.0 - r['hit_sm'])\n",
    "            #saving rule lenght\n",
    "            rules_gdt[dataset_name][bb_name].append(r['len_rule'])\n",
    "            #saving label\n",
    "            gdt_labels[dataset][bb_name].append(r['i2e_GDT_label'])\n",
    "            \n",
    "        resfile.close()"
   ]
  },
  {
   "cell_type": "markdown",
   "metadata": {},
   "source": [
    "### Comparison between mixed and union approaches"
   ]
  },
  {
   "cell_type": "code",
   "execution_count": 4,
   "metadata": {},
   "outputs": [
    {
     "data": {
      "text/plain": [
       "['20181103_0226_yeast_rf_explanationsandmetrics.json.gz',\n",
       " '20181103_0228_woman_rf_explanationsandmetrics.json.gz',\n",
       " '20181103_0228_woman_svm_explanationsandmetrics.json.gz',\n",
       " '20181103_0226_yeast_svm_explanationsandmetrics.json.gz',\n",
       " '20181103_0227_yeast_mlp_explanationsandmetrics.json.gz',\n",
       " '20181103_0229_woman_mlp_explanationsandmetrics.json.gz']"
      ]
     },
     "execution_count": 4,
     "metadata": {},
     "output_type": "execute_result"
    }
   ],
   "source": [
    "output_files = []\n",
    "names_output = listdir('../output/')\n",
    "for name in names_output:\n",
    "    if name.startswith('20181103'):\n",
    "        output_files.append(name)\n",
    "output_files"
   ]
  },
  {
   "cell_type": "code",
   "execution_count": 5,
   "metadata": {},
   "outputs": [
    {
     "name": "stdout",
     "output_type": "stream",
     "text": [
      "2018-11-03 16:43:39.125116 dataset: yeast\n",
      "2018-11-03 16:43:39.130369 blackbox: rf\n",
      "2018-11-03 16:43:39.197159 blackbox: svm\n",
      "2018-11-03 16:43:39.267444 blackbox: mlp\n",
      "2018-11-03 16:43:39.326655 dataset: woman\n",
      "2018-11-03 16:43:39.326775 blackbox: rf\n",
      "2018-11-03 16:43:39.642382 blackbox: svm\n",
      "2018-11-03 16:43:39.969938 blackbox: mlp\n"
     ]
    }
   ],
   "source": [
    "mixed_fidelity_sn = defaultdict(list)\n",
    "mixed_fidelity_rn = defaultdict(list)\n",
    "union_fidelity_sn = defaultdict(list)\n",
    "union_fidelity_rn = defaultdict(list)\n",
    "\n",
    "for idx, dataset in enumerate(dataset_list):\n",
    "    print(datetime.datetime.now(), 'dataset: %s' % dataset)\n",
    "    for bb_name in blackbox_list: \n",
    "        print(datetime.datetime.now(), 'blackbox: %s' % bb_name)\n",
    "        \n",
    "        file_name = [output for output in output_files if dataset in output and bb_name in output][0]\n",
    "        resfile = gzip.open('../output/'+file_name, 'rb')\n",
    "        for row in resfile:\n",
    "            r = json.loads(row.decode('utf-8').strip())\n",
    "            bb_name = r['bb_name']\n",
    "\n",
    "            mixed_fidelity_sn[bb_name].append(r['fidelity_tree1_syn'])\n",
    "            mixed_fidelity_rn[bb_name].append(r['fidelity_tree1_kNN'])\n",
    "\n",
    "            union_fidelity_sn[bb_name].append(r['fidelity_tree2_syn'])\n",
    "            union_fidelity_rn[bb_name].append(r['fidelity_tree2_kNN'])\n",
    "\n",
    "        resfile.close()"
   ]
  },
  {
   "cell_type": "code",
   "execution_count": 6,
   "metadata": {},
   "outputs": [
    {
     "name": "stdout",
     "output_type": "stream",
     "text": [
      "Table 2\n",
      "rf\n",
      "\tmixed fidelity sn: 0.939 \\pm 0.022\n",
      "\tunion fidelity sn: 0.903 \\pm 0.048\n",
      "---\n",
      "\tmixed fidelity rn: 0.888 \\pm 0.089\n",
      "\tunion fidelity rn: 0.870 \\pm 0.112\n",
      "svm\n",
      "\tmixed fidelity sn: 0.908 \\pm 0.047\n",
      "\tunion fidelity sn: 0.878 \\pm 0.060\n",
      "---\n",
      "\tmixed fidelity rn: 0.598 \\pm 0.211\n",
      "\tunion fidelity rn: 0.612 \\pm 0.233\n",
      "mlp\n",
      "\tmixed fidelity sn: 0.945 \\pm 0.034\n",
      "\tunion fidelity sn: 0.937 \\pm 0.046\n",
      "---\n",
      "\tmixed fidelity rn: 0.629 \\pm 0.261\n",
      "\tunion fidelity rn: 0.632 \\pm 0.243\n"
     ]
    }
   ],
   "source": [
    "print('Table 2')\n",
    "for bb_name in blackbox_list:\n",
    "    print(bb_name)\n",
    "    print('\\tmixed fidelity sn: %.3f \\pm %.3f' % (\n",
    "        np.mean(mixed_fidelity_sn[bb_name]), np.std(mixed_fidelity_sn[bb_name])))\n",
    "    print('\\tunion fidelity sn: %.3f \\pm %.3f' % (\n",
    "        np.mean(union_fidelity_sn[bb_name]), np.std(union_fidelity_sn[bb_name])))\n",
    "    print('---')\n",
    "    print('\\tmixed fidelity rn: %.3f \\pm %.3f' % (\n",
    "        np.mean(mixed_fidelity_rn[bb_name]), np.std(mixed_fidelity_rn[bb_name])))\n",
    "    print('\\tunion fidelity rn: %.3f \\pm %.3f' % (\n",
    "        np.mean(union_fidelity_rn[bb_name]), np.std(union_fidelity_rn[bb_name])))"
   ]
  },
  {
   "cell_type": "markdown",
   "metadata": {},
   "source": [
    "## Hit performances MARLENA vs GDT"
   ]
  },
  {
   "cell_type": "code",
   "execution_count": 7,
   "metadata": {},
   "outputs": [
    {
     "name": "stdout",
     "output_type": "stream",
     "text": [
      "2018-11-03 16:43:49.803073 dataset: yeast\n",
      "2018-11-03 16:43:49.804026 blackbox: rf\n",
      "2018-11-03 16:43:49.868084 blackbox: svm\n",
      "2018-11-03 16:43:49.929774 blackbox: mlp\n",
      "2018-11-03 16:43:49.991928 dataset: woman\n",
      "2018-11-03 16:43:49.992054 blackbox: rf\n",
      "2018-11-03 16:43:50.297120 blackbox: svm\n",
      "2018-11-03 16:43:50.633653 blackbox: mlp\n"
     ]
    }
   ],
   "source": [
    "#saving hit values for MARLENA (both mixed and union)\n",
    "hit_mixed = defaultdict(lambda: defaultdict(list))\n",
    "hit_union = defaultdict(lambda: defaultdict(list))\n",
    "\n",
    "for idx, dataset in enumerate(dataset_list):\n",
    "    print(datetime.datetime.now(), 'dataset: %s' % dataset)\n",
    "    for bb_name in blackbox_list: \n",
    "        \n",
    "        print(datetime.datetime.now(), 'blackbox: %s' % bb_name)\n",
    "        file_name = [output for output in output_files if dataset in output and bb_name in output][0]\n",
    "        resfile = gzip.open('../output/'+file_name, 'rb')\n",
    "        \n",
    "        for row in resfile:\n",
    "            r = json.loads(row.decode('utf-8').strip())\n",
    "            bb_name = r['bb_name']\n",
    "            dataset_name = r['dataset_name']\n",
    "\n",
    "            hit_mixed[dataset_name][bb_name].append(1.0 - r['hit_sm_tree1'])\n",
    "            hit_union[dataset_name][bb_name].append(1.0 - r['hit_sm_tree2'])\n",
    "\n",
    "        resfile.close()"
   ]
  },
  {
   "cell_type": "code",
   "execution_count": 8,
   "metadata": {},
   "outputs": [
    {
     "name": "stdout",
     "output_type": "stream",
     "text": [
      "Table 3 e plot-MIXED\n",
      "yeast\n",
      "\t rf\n",
      "\t\thit MARLENA 0.973 pm 0.047\n",
      "\t\thit GDT 0.982 pm 0.037\n",
      "\t svm\n",
      "\t\thit MARLENA 0.947 pm 0.065\n",
      "\t\thit GDT 0.932 pm 0.067\n",
      "\t mlp\n",
      "\t\thit MARLENA 0.967 pm 0.051\n",
      "\t\thit GDT 0.942 pm 0.066\n",
      "woman\n",
      "\t rf\n",
      "\t\thit MARLENA 0.950 pm 0.066\n",
      "\t\thit GDT 0.985 pm 0.036\n",
      "\t svm\n",
      "\t\thit MARLENA 0.864 pm 0.092\n",
      "\t\thit GDT 0.993 pm 0.025\n",
      "\t mlp\n",
      "\t\thit MARLENA 0.804 pm 0.147\n",
      "\t\thit GDT 0.988 pm 0.034\n"
     ]
    },
    {
     "data": {
      "image/png": "[encoded data removed]",
      "text/plain": [
       "<Figure size 504x288 with 1 Axes>"
      ]
     },
     "metadata": {
      "needs_background": "light"
     },
     "output_type": "display_data"
    }
   ],
   "source": [
    "print('Table 3 e plot-MIXED')\n",
    "\n",
    "plt.figure(figsize=(7,4))\n",
    "index = 0\n",
    "for dataset_name in dataset_list:\n",
    "    print(dataset_name)\n",
    "    for bb_name in blackbox_list:\n",
    "        print('\\t', bb_name)\n",
    "        print('\\t\\thit MARLENA %.3f pm %.3f' % ( \n",
    "            np.mean(hit_mixed[dataset_name][bb_name]), np.std(hit_mixed[dataset_name][bb_name])))\n",
    "        if dataset_name == 'yeast' and bb_name == 'rf':\n",
    "            plt.bar(index, np.mean(hit_mixed[dataset_name][bb_name]), \n",
    "                    yerr=np.std(hit_mixed[dataset_name][bb_name]), color='#2678b2', label='MARLENA')\n",
    "        else:\n",
    "            plt.bar(index, np.mean(hit_mixed[dataset_name][bb_name]), \n",
    "                    yerr=np.std(hit_mixed[dataset_name][bb_name]), color='#2678b2')\n",
    "        index += 1\n",
    "        print('\\t\\thit GDT %.3f pm %.3f' % ( \n",
    "            np.mean(hit_gdt[dataset_name][bb_name]), np.std(hit_gdt[dataset_name][bb_name])))\n",
    "        if dataset_name == 'yeast' and bb_name == 'rf':\n",
    "            plt.bar(index, np.mean(hit_gdt[dataset_name][bb_name]), \n",
    "                    yerr=np.std(hit_gdt[dataset_name][bb_name]), color='#fd974b', label='GDT', hatch='/')\n",
    "        else:\n",
    "            plt.bar(index, np.mean(hit_gdt[dataset_name][bb_name]), \n",
    "                    yerr=np.std(hit_gdt[dataset_name][bb_name]), color='#fd974b')\n",
    "        index +=2\n",
    "    index += 1\n",
    "plt.xticks([0.5, 3.0, 6.5, 10.5, 13.5, 16.5], ['RF', 'SVM', 'MLP']*2)\n",
    "plt.legend(loc=(0,1), fontsize=16, ncol=2, labelspacing=0, handlelength=1, frameon=False)\n",
    "plt.title('Mixed approach',fontsize=20,y=1.10)\n",
    "plt.tick_params(axis='both', which='major', labelsize=16)\n",
    "plt.xlabel('yeast                               woman', fontsize=16)\n",
    "plt.savefig('../fig/MIXED_barplot.png', format='png', bbox_inches='tight')\n",
    "plt.show()"
   ]
  },
  {
   "cell_type": "code",
   "execution_count": 9,
   "metadata": {},
   "outputs": [
    {
     "name": "stdout",
     "output_type": "stream",
     "text": [
      "Table 3 e plot-UNION\n",
      "yeast\n",
      "\t rf\n",
      "\t\thit MARLENA 0.969 pm 0.048\n",
      "\t\thit GDT 0.982 pm 0.037\n",
      "\t svm\n",
      "\t\thit MARLENA 0.946 pm 0.062\n",
      "\t\thit GDT 0.932 pm 0.067\n",
      "\t mlp\n",
      "\t\thit MARLENA 0.966 pm 0.051\n",
      "\t\thit GDT 0.942 pm 0.066\n",
      "woman\n",
      "\t rf\n",
      "\t\thit MARLENA 0.942 pm 0.067\n",
      "\t\thit GDT 0.985 pm 0.036\n",
      "\t svm\n",
      "\t\thit MARLENA 0.868 pm 0.093\n",
      "\t\thit GDT 0.993 pm 0.025\n",
      "\t mlp\n",
      "\t\thit MARLENA 0.797 pm 0.124\n",
      "\t\thit GDT 0.988 pm 0.034\n"
     ]
    },
    {
     "data": {
      "image/png": "[encoded data removed]",
      "text/plain": [
       "<Figure size 504x288 with 1 Axes>"
      ]
     },
     "metadata": {
      "needs_background": "light"
     },
     "output_type": "display_data"
    }
   ],
   "source": [
    "print('Table 3 e plot-UNION')\n",
    "\n",
    "plt.figure(figsize=(7,4))\n",
    "index = 0\n",
    "for dataset_name in dataset_list:\n",
    "    print(dataset_name)\n",
    "    for bb_name in blackbox_list:\n",
    "        print('\\t', bb_name)\n",
    "        print('\\t\\thit MARLENA %.3f pm %.3f' % ( \n",
    "            np.mean(hit_union[dataset_name][bb_name]), np.std(hit_union[dataset_name][bb_name])))\n",
    "        if dataset_name == 'yeast' and bb_name == 'rf':\n",
    "            plt.bar(index, np.mean(hit_union[dataset_name][bb_name]), \n",
    "                    yerr=np.std(hit_union[dataset_name][bb_name]), color='#2678b2', label='MARLENA')\n",
    "        else:\n",
    "            plt.bar(index, np.mean(hit_union[dataset_name][bb_name]), \n",
    "                    yerr=np.std(hit_union[dataset_name][bb_name]), color='#2678b2')\n",
    "        index += 1\n",
    "        print('\\t\\thit GDT %.3f pm %.3f' % ( \n",
    "            np.mean(hit_gdt[dataset_name][bb_name]), np.std(hit_gdt[dataset_name][bb_name])))\n",
    "        if dataset_name == 'yeast' and bb_name == 'rf':\n",
    "            plt.bar(index, np.mean(hit_gdt[dataset_name][bb_name]), \n",
    "                    yerr=np.std(hit_gdt[dataset_name][bb_name]), color='#fd974b', label='GDT', hatch='/')\n",
    "        else:\n",
    "            plt.bar(index, np.mean(hit_gdt[dataset_name][bb_name]), \n",
    "                    yerr=np.std(hit_gdt[dataset_name][bb_name]), color='#fd974b')\n",
    "        index +=2\n",
    "    index += 1\n",
    "plt.xticks([0.5, 3.0, 6.5, 10.5, 13.5, 16.5], ['RF', 'SVM', 'MLP']*2)\n",
    "plt.legend(loc=(0,1), fontsize=16, ncol=2, labelspacing=0, handlelength=1, frameon=False)\n",
    "plt.title('Union approach',fontsize=20,y=1.10)\n",
    "plt.tick_params(axis='both', which='major', labelsize=16)\n",
    "plt.xlabel('yeast                               woman', fontsize=16)\n",
    "plt.savefig('../fig/UNION_barplot.png', format='png', bbox_inches='tight')\n",
    "plt.show()"
   ]
  },
  {
   "cell_type": "markdown",
   "metadata": {},
   "source": [
    "## Fidelities performances on interesting classes: MARLENA vs GDT"
   ]
  },
  {
   "cell_type": "code",
   "execution_count": 10,
   "metadata": {},
   "outputs": [
    {
     "name": "stdout",
     "output_type": "stream",
     "text": [
      "2018-11-03 16:43:58.788995 dataset: yeast\n",
      "2018-11-03 16:43:58.790442 blackbox: rf\n",
      "2018-11-03 16:43:58.862444 blackbox: svm\n",
      "2018-11-03 16:43:58.925971 blackbox: mlp\n",
      "2018-11-03 16:43:58.985769 dataset: woman\n",
      "2018-11-03 16:43:58.985898 blackbox: rf\n",
      "2018-11-03 16:43:59.287322 blackbox: svm\n",
      "2018-11-03 16:43:59.618144 blackbox: mlp\n"
     ]
    }
   ],
   "source": [
    "bb_labels = defaultdict(lambda: defaultdict(list))\n",
    "mixed_marlena_labels = defaultdict(lambda: defaultdict(list))\n",
    "union_marlena_labels = defaultdict(lambda: defaultdict(list))\n",
    "mixed_marlena_rule_lenght = defaultdict(lambda: defaultdict(list))\n",
    "union_marlena_rule_lenght = defaultdict(lambda: defaultdict(list))\n",
    "\n",
    "\n",
    "for idx, dataset in enumerate(dataset_list):\n",
    "    print(datetime.datetime.now(), 'dataset: %s' % dataset)\n",
    "    for bb_name in blackbox_list: \n",
    "        print(datetime.datetime.now(), 'blackbox: %s' % bb_name)\n",
    "        \n",
    "        file_name = [output for output in output_files if dataset in output and bb_name in output][0]\n",
    "        resfile = gzip.open('../output/'+file_name, 'rb')\n",
    "        \n",
    "        for row in resfile:\n",
    "            r = json.loads(row.decode('utf-8').strip())\n",
    "            bb_name = r['bb_name']\n",
    "            dataset_name = r['dataset_name']\n",
    "            bb_labels[dataset_name][bb_name].append(r['i2e_bb_label'])\n",
    "            mixed_marlena_labels[dataset_name][bb_name].append(r['i2e_tree1_label']) \n",
    "            union_marlena_labels[dataset_name][bb_name].append(r['i2e_tree2_label']) \n",
    "            mixed_marlena_rule_lenght[dataset_name][bb_name].append(r['lenght_rule_tree1'])\n",
    "            union_marlena_rule_lenght[dataset_name][bb_name].append(r['lenght_rule_tree2'])\n",
    "        resfile.close()"
   ]
  },
  {
   "cell_type": "code",
   "execution_count": 11,
   "metadata": {},
   "outputs": [
    {
     "name": "stdout",
     "output_type": "stream",
     "text": [
      "Table 4 - MIXED\n",
      "yeast\n",
      "\t rf\n",
      "MARLENA: avg 0.489, std 0.399, median 0.735\n",
      "GDT:\t avg 0.778, std 0.278, median 0.860\n",
      "\t svm\n",
      "MARLENA: avg 0.621, std 0.348, median 0.756\n",
      "GDT:\t avg 0.553, std 0.358, median 0.696\n",
      "\t mlp\n",
      "MARLENA: avg 0.885, std 0.078, median 0.887\n",
      "GDT:\t avg 0.780, std 0.153, median 0.767\n",
      "\n",
      "woman\n",
      "\t rf\n",
      "MARLENA: avg 0.411, std 0.388, median 0.492\n",
      "GDT:\t avg 0.657, std 0.378, median 0.829\n",
      "\t svm\n",
      "MARLENA: avg 0.191, std 0.288, median 0.051\n",
      "GDT:\t avg 0.883, std 0.125, median 0.927\n",
      "\t mlp\n",
      "MARLENA: avg 0.260, std 0.320, median 0.026\n",
      "GDT:\t avg 0.620, std 0.373, median 0.732\n",
      "\n"
     ]
    },
    {
     "name": "stderr",
     "output_type": "stream",
     "text": [
      "/home/user/venvs/LORE_env/lib/python3.6/site-packages/sklearn/metrics/classification.py:1143: UndefinedMetricWarning: F-score is ill-defined and being set to 0.0 in labels with no predicted samples.\n",
      "  'precision', 'predicted', average, warn_for)\n",
      "/home/user/venvs/LORE_env/lib/python3.6/site-packages/sklearn/metrics/classification.py:1145: UndefinedMetricWarning: F-score is ill-defined and being set to 0.0 in labels with no true samples.\n",
      "  'recall', 'true', average, warn_for)\n"
     ]
    }
   ],
   "source": [
    "print('Table 4 - MIXED')\n",
    "\n",
    "for idx, dataset in enumerate(dataset_list):\n",
    "    print(dataset)\n",
    "    for bb_name in blackbox_list:\n",
    "        print('\\t', bb_name)\n",
    "        bl = np.asarray(bb_labels[dataset][bb_name])\n",
    "        ml = np.asarray(mixed_marlena_labels[dataset][bb_name])\n",
    "        nbr_instances = len(bl)\n",
    "        gl = np.asarray(gdt_labels[dataset][bb_name][:nbr_instances])\n",
    "\n",
    "        f1score_marlena = f1_score(bl, ml, average=None)\n",
    "        f1score_gdt = f1_score(bl, gl, average=None)\n",
    "\n",
    "        marlena_values = list()\n",
    "        gdt_values = list()\n",
    "        for i in range(0, len(bl[0])):\n",
    "            #qui faccio solo la media e la deviazione standard per le features che sono interessanti,\n",
    "            #ovvero quelle che non sono tutte 0 o tutte 1 \n",
    "            flag = 0 < np.sum(bl[:,i])/len(bl) < 1\n",
    "            if flag:\n",
    "                marlena_values.append(f1score_marlena[i])\n",
    "                gdt_values.append(f1score_gdt[i])\n",
    "\n",
    "        print('MARLENA: avg %.3f, std %.3f, median %.3f' % (\n",
    "            np.mean(marlena_values), np.std(marlena_values), np.median(marlena_values)))\n",
    "        print('GDT:\\t avg %.3f, std %.3f, median %.3f' % (\n",
    "            np.mean(gdt_values), np.std(gdt_values), np.median(gdt_values)))\n",
    "    print('')"
   ]
  },
  {
   "cell_type": "code",
   "execution_count": 12,
   "metadata": {},
   "outputs": [
    {
     "name": "stdout",
     "output_type": "stream",
     "text": [
      "Table 4 - UNION\n",
      "yeast\n",
      "\t rf\n",
      "MARLENA: avg 0.505, std 0.369, median 0.689\n",
      "GDT:\t avg 0.778, std 0.278, median 0.860\n",
      "\t svm\n",
      "MARLENA: avg 0.617, std 0.344, median 0.770\n",
      "GDT:\t avg 0.553, std 0.358, median 0.696\n",
      "\t mlp\n",
      "MARLENA: avg 0.885, std 0.075, median 0.881\n",
      "GDT:\t avg 0.780, std 0.153, median 0.767\n",
      "\n",
      "woman\n",
      "\t rf\n",
      "MARLENA: avg 0.379, std 0.379, median 0.369\n",
      "GDT:\t avg 0.657, std 0.378, median 0.829\n",
      "\t svm\n",
      "MARLENA: avg 0.185, std 0.287, median 0.066\n",
      "GDT:\t avg 0.883, std 0.125, median 0.927\n",
      "\t mlp\n",
      "MARLENA: avg 0.260, std 0.330, median 0.020\n",
      "GDT:\t avg 0.620, std 0.373, median 0.732\n",
      "\n"
     ]
    }
   ],
   "source": [
    "print('Table 4 - UNION')\n",
    "\n",
    "for idx, dataset in enumerate(dataset_list):\n",
    "    print(dataset)\n",
    "    for bb_name in blackbox_list:\n",
    "        print('\\t', bb_name)\n",
    "        bl = np.asarray(bb_labels[dataset][bb_name])\n",
    "        ml = np.asarray(union_marlena_labels[dataset][bb_name])\n",
    "        nbr_instances = len(bl)\n",
    "        gl = np.asarray(gdt_labels[dataset][bb_name][:nbr_instances])\n",
    "\n",
    "        f1score_marlena = f1_score(bl, ml, average=None)\n",
    "        f1score_gdt = f1_score(bl, gl, average=None)\n",
    "\n",
    "        marlena_values = list()\n",
    "        gdt_values = list()\n",
    "        for i in range(0, len(bl[0])):\n",
    "            flag = 0 < np.sum(bl[:,i])/len(bl) < 1\n",
    "            if flag:\n",
    "                marlena_values.append(f1score_marlena[i])\n",
    "                gdt_values.append(f1score_gdt[i])\n",
    "\n",
    "        print('MARLENA: avg %.3f, std %.3f, median %.3f' % (\n",
    "            np.mean(marlena_values), np.std(marlena_values), np.median(marlena_values)))\n",
    "        print('GDT:\\t avg %.3f, std %.3f, median %.3f' % (\n",
    "            np.mean(gdt_values), np.std(gdt_values), np.median(gdt_values)))\n",
    "    print('')"
   ]
  },
  {
   "cell_type": "markdown",
   "metadata": {},
   "source": [
    "# Measures of rule lenght for the GDT"
   ]
  },
  {
   "cell_type": "code",
   "execution_count": 13,
   "metadata": {},
   "outputs": [
    {
     "name": "stdout",
     "output_type": "stream",
     "text": [
      "yeast\n",
      "\t rf\n",
      "MARLENA: mixed mean rule lenght\t 2.88 pm 2.37\n",
      "MARLENA: union mean rule lenght\t 2.84 pm 2.15\n",
      "GDT: mean rule lenght\t\t 9.09 pm 3.35\n",
      "\t svm\n",
      "MARLENA: mixed mean rule lenght\t 3.32 pm 2.31\n",
      "MARLENA: union mean rule lenght\t 3.21 pm 2.03\n",
      "GDT: mean rule lenght\t\t 5.68 pm 1.47\n",
      "\t mlp\n",
      "MARLENA: mixed mean rule lenght\t 2.48 pm 2.06\n",
      "MARLENA: union mean rule lenght\t 2.69 pm 2.28\n",
      "GDT: mean rule lenght\t\t 6.70 pm 2.36\n",
      "\n",
      "woman\n",
      "\t rf\n",
      "MARLENA: mixed mean rule lenght\t 4.30 pm 0.97\n",
      "MARLENA: union mean rule lenght\t 4.35 pm 1.19\n",
      "GDT: mean rule lenght\t\t 13.20 pm 4.56\n",
      "\t svm\n",
      "MARLENA: mixed mean rule lenght\t 4.32 pm 1.52\n",
      "MARLENA: union mean rule lenght\t 4.37 pm 1.61\n",
      "GDT: mean rule lenght\t\t 16.30 pm 6.61\n",
      "\t mlp\n",
      "MARLENA: mixed mean rule lenght\t 2.93 pm 1.18\n",
      "MARLENA: union mean rule lenght\t 2.76 pm 1.42\n",
      "GDT: mean rule lenght\t\t 14.85 pm 6.17\n",
      "\n"
     ]
    }
   ],
   "source": [
    "for idx, dataset in enumerate(dataset_list):\n",
    "    print(dataset)\n",
    "    for bb_name in blackbox_list:\n",
    "        \n",
    "        print('\\t', bb_name)\n",
    "        mixed_mr = np.asarray(mixed_marlena_rule_lenght[dataset][bb_name])\n",
    "        union_mr = np.asarray(union_marlena_rule_lenght[dataset][bb_name])\n",
    "        gdt_mr = np.asarray(list(map(int, rules_gdt[dataset][bb_name])))\n",
    "        \n",
    "        print('MARLENA: mixed mean rule lenght\\t %.2f pm %.2f' % (np.mean(mixed_mr),np.std(mixed_mr)))\n",
    "        print('MARLENA: union mean rule lenght\\t %.2f pm %.2f' % (np.mean(union_mr),np.std(union_mr)))\n",
    "        print('GDT: mean rule lenght\\t\\t %.2f pm %.2f' % (np.mean(gdt_mr),np.std(gdt_mr)))\n",
    "\n",
    "    print('')"
   ]
  },
  {
   "cell_type": "code",
   "execution_count": null,
   "metadata": {},
   "outputs": [],
   "source": []
  }
 ],
 "metadata": {
  "kernelspec": {
   "display_name": "Python 3",
   "language": "python",
   "name": "python3"
  },
  "language_info": {
   "codemirror_mode": {
    "name": "ipython",
    "version": 3
   },
   "file_extension": ".py",
   "mimetype": "text/x-python",
   "name": "python",
   "nbconvert_exporter": "python",
   "pygments_lexer": "ipython3",
   "version": "3.6.6"
  }
 },
 "nbformat": 4,
 "nbformat_minor": 2
}
