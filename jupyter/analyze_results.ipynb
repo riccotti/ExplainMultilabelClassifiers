{
 "cells": [
  {
   "cell_type": "code",
   "execution_count": 1,
   "metadata": {},
   "outputs": [],
   "source": [
    "%matplotlib inline\n",
    "\n",
    "import numpy as np\n",
    "import pandas as pd\n",
    "import matplotlib.pyplot as plt\n",
    "\n",
    "import json\n",
    "import gzip\n",
    "import pickle\n",
    "import datetime\n",
    "\n",
    "from collections import defaultdict\n",
    "from scipy.spatial.distance import hamming\n",
    "from sklearn.metrics import f1_score, precision_score, recall_score\n",
    "\n",
    "\n",
    "import warnings\n",
    "warnings.filterwarnings(\"ignore\")"
   ]
  },
  {
   "cell_type": "code",
   "execution_count": 2,
   "metadata": {},
   "outputs": [],
   "source": [
    "#resfile = open('../results/yeast_records.txt', 'r')\n",
    "#result = json.load(resfile)['records']\n",
    "#resfile.close()"
   ]
  },
  {
   "cell_type": "code",
   "execution_count": 3,
   "metadata": {},
   "outputs": [],
   "source": [
    "#json_file = gzip.open('../results/yeast_records.json.gz', 'wb')\n",
    "#for res in result:\n",
    "#    json_str = ('%s\\n' % json.dumps(res)).encode('utf-8')\n",
    "#    json_file.write(json_str)\n",
    "#json_file.close()"
   ]
  },
  {
   "cell_type": "code",
   "execution_count": null,
   "metadata": {},
   "outputs": [],
   "source": []
  },
  {
   "cell_type": "code",
   "execution_count": null,
   "metadata": {},
   "outputs": [],
   "source": []
  },
  {
   "cell_type": "code",
   "execution_count": 4,
   "metadata": {},
   "outputs": [],
   "source": [
    "dataset_list = ['yeast', 'woman'] #, 'diabete']\n",
    "blackbox_list = ['rf', 'svm', 'mlp']"
   ]
  },
  {
   "cell_type": "code",
   "execution_count": 5,
   "metadata": {},
   "outputs": [
    {
     "name": "stdout",
     "output_type": "stream",
     "text": [
      "2018-10-30 15:12:04.590820 dataset: yeast\n",
      "2018-10-30 15:12:04.591081 blackbox: rf\n",
      "2018-10-30 15:12:04.605163 blackbox: svm\n",
      "2018-10-30 15:12:04.613357 blackbox: mlp\n",
      "2018-10-30 15:12:04.622721 dataset: woman\n",
      "2018-10-30 15:12:04.622853 blackbox: rf\n",
      "2018-10-30 15:12:04.625203 blackbox: svm\n",
      "2018-10-30 15:12:04.627427 blackbox: mlp\n"
     ]
    }
   ],
   "source": [
    "mixed_fidelity_sn = defaultdict(list)\n",
    "mixed_fidelity_rn = defaultdict(list)\n",
    "union_fidelity_sn = defaultdict(list)\n",
    "union_fidelity_rn = defaultdict(list)\n",
    "\n",
    "for idx, dataset in enumerate(dataset_list):\n",
    "    print(datetime.datetime.now(), 'dataset: %s' % dataset)\n",
    "    for bb_name in blackbox_list: \n",
    "        print(datetime.datetime.now(), 'blackbox: %s' % bb_name)\n",
    "        \n",
    "        resfile = gzip.open('../output_ric/%s_%s_records.json.gz' % (dataset, bb_name), 'rb')\n",
    "        for row in resfile:\n",
    "            r = json.loads(row.decode('utf-8').strip())\n",
    "            bb_name = r['bb_name']\n",
    "\n",
    "            mixed_fidelity_sn[bb_name].append(r['fidelity_tree1_syn'])\n",
    "            mixed_fidelity_rn[bb_name].append(r['fidelity_tree1_kNN'])\n",
    "\n",
    "            union_fidelity_sn[bb_name].append(r['fidelity_tree2_syn'])\n",
    "            union_fidelity_rn[bb_name].append(r['fidelity_tree2_kNN'])\n",
    "\n",
    "        resfile.close()"
   ]
  },
  {
   "cell_type": "code",
   "execution_count": 6,
   "metadata": {},
   "outputs": [
    {
     "name": "stdout",
     "output_type": "stream",
     "text": [
      "Table 2\n",
      "rf\n",
      "\tmixed fidelity sn: 1.000 \\pm 0.000\n",
      "\tunion fidelity sn: 0.704 \\pm 0.102\n",
      "---\n",
      "\tmixed fidelity rn: 0.705 \\pm 0.123\n",
      "\tunion fidelity rn: 0.720 \\pm 0.132\n",
      "svm\n",
      "\tmixed fidelity sn: 1.000 \\pm 0.000\n",
      "\tunion fidelity sn: 0.788 \\pm 0.100\n",
      "---\n",
      "\tmixed fidelity rn: 0.740 \\pm 0.164\n",
      "\tunion fidelity rn: 0.750 \\pm 0.204\n",
      "mlp\n",
      "\tmixed fidelity sn: 1.000 \\pm 0.000\n",
      "\tunion fidelity sn: 0.750 \\pm 0.151\n",
      "---\n",
      "\tmixed fidelity rn: 0.700 \\pm 0.155\n",
      "\tunion fidelity rn: 0.733 \\pm 0.166\n"
     ]
    }
   ],
   "source": [
    "print('Table 2')\n",
    "for bb_name in blackbox_list:\n",
    "    print(bb_name)\n",
    "    print('\\tmixed fidelity sn: %.3f \\pm %.3f' % (\n",
    "        np.mean(mixed_fidelity_sn[bb_name]), np.std(mixed_fidelity_sn[bb_name])))\n",
    "    print('\\tunion fidelity sn: %.3f \\pm %.3f' % (\n",
    "        np.mean(union_fidelity_sn[bb_name]), np.std(union_fidelity_sn[bb_name])))\n",
    "    print('---')\n",
    "    print('\\tmixed fidelity rn: %.3f \\pm %.3f' % (\n",
    "        np.mean(mixed_fidelity_rn[bb_name]), np.std(mixed_fidelity_rn[bb_name])))\n",
    "    print('\\tunion fidelity rn: %.3f \\pm %.3f' % (\n",
    "        np.mean(union_fidelity_rn[bb_name]), np.std(union_fidelity_rn[bb_name])))"
   ]
  },
  {
   "cell_type": "code",
   "execution_count": 7,
   "metadata": {},
   "outputs": [
    {
     "name": "stdout",
     "output_type": "stream",
     "text": [
      "Plot var alpha\n"
     ]
    }
   ],
   "source": [
    "print('Plot var alpha')\n",
    "#TODO"
   ]
  },
  {
   "cell_type": "code",
   "execution_count": 8,
   "metadata": {},
   "outputs": [],
   "source": [
    "mixed_fidelity_sn = defaultdict(lambda: defaultdict(list))\n",
    "mixed_fidelity_rn = defaultdict(lambda: defaultdict(list))\n",
    "mixed_hit = defaultdict(lambda: defaultdict(list))\n",
    "\n",
    "\n",
    "resfile = gzip.open('../output/yeast_alphabeta.json.gz', 'rb')\n",
    "for row in resfile:\n",
    "    r = json.loads(row.decode('utf-8').strip())\n",
    "    bb_name = r['bb_name']\n",
    "    dataset_name = r['dataset_name']\n",
    "    alpha = float(r['alpha'])\n",
    "    mixed_fidelity_sn[bb_name][alpha].append(float(r['fidelity_tree1_syn']))\n",
    "    mixed_fidelity_rn[bb_name][alpha].append(float(r['fidelity_tree1_kNN']))\n",
    "    mixed_hit[bb_name][alpha].append(1.0 - float(r['hit_sm_tree1']))\n",
    "resfile.close()"
   ]
  },
  {
   "cell_type": "code",
   "execution_count": 9,
   "metadata": {},
   "outputs": [],
   "source": [
    "bb_name_map = {\n",
    "    'rf': 'RF',\n",
    "    'svm': 'SVM',\n",
    "    'mlp': 'MLP'\n",
    "}"
   ]
  },
  {
   "cell_type": "code",
   "execution_count": 10,
   "metadata": {},
   "outputs": [
    {
     "data": {
      "image/png": "[encoded data removed]",
      "text/plain": [
       "<Figure size 360x216 with 1 Axes>"
      ]
     },
     "metadata": {},
     "output_type": "display_data"
    },
    {
     "data": {
      "image/png": "[encoded data removed]",
      "text/plain": [
       "<Figure size 360x216 with 1 Axes>"
      ]
     },
     "metadata": {},
     "output_type": "display_data"
    },
    {
     "data": {
      "image/png": "[encoded data removed]",
      "text/plain": [
       "<Figure size 360x216 with 1 Axes>"
      ]
     },
     "metadata": {},
     "output_type": "display_data"
    }
   ],
   "source": [
    "alphas = [np.round(x, 2) for x in np.arange(0.0, 1.1, 0.1)]\n",
    "\n",
    "for bb_name in blackbox_list:\n",
    "    fs_means = list()\n",
    "    fs_std = list()\n",
    "    fr_means = list()\n",
    "    fr_std = list()\n",
    "    hit_means = list()\n",
    "    hit_std = list()\n",
    "    for alpha in alphas:\n",
    "        fs_means.append(np.mean(mixed_fidelity_sn[bb_name][alpha]))\n",
    "        fs_std.append(np.std(mixed_fidelity_sn[bb_name][alpha]))\n",
    "        fr_means.append(np.mean(mixed_fidelity_rn[bb_name][alpha]))\n",
    "        fr_std.append(np.std(mixed_fidelity_rn[bb_name][alpha]))\n",
    "        hit_means.append(np.mean(mixed_hit[bb_name][alpha]))\n",
    "        hit_std.append(np.std(mixed_hit[bb_name][alpha]))\n",
    "    \n",
    "    plt.figure(figsize=(5,3))\n",
    "    plt.errorbar(alphas, fr_means, yerr=np.array(fr_std)/2, marker='o', label='r-fidelity')\n",
    "    plt.errorbar(alphas, hit_means, yerr=np.array(hit_std)/2, marker='', label='hit')\n",
    "    plt.ylim([0.5, 1.0])\n",
    "    plt.title(bb_name_map[bb_name], fontsize=16)\n",
    "    plt.xlabel(r'$\\alpha$', fontsize=18)\n",
    "    plt.tick_params(axis='both', which='major', labelsize=16)\n",
    "    plt.legend(loc='lower left', fontsize=16, ncol=2, labelspacing=0, handlelength=0.2, frameon=False)\n",
    "    plt.savefig('../fig/alpha_%s.png' % bb_name, format='png', bbox_inches='tight')\n",
    "    plt.show()"
   ]
  },
  {
   "cell_type": "code",
   "execution_count": null,
   "metadata": {},
   "outputs": [],
   "source": []
  },
  {
   "cell_type": "code",
   "execution_count": 11,
   "metadata": {},
   "outputs": [
    {
     "name": "stdout",
     "output_type": "stream",
     "text": [
      "2018-10-30 15:12:17.985674 dataset: yeast\n",
      "2018-10-30 15:12:17.985995 blackbox: rf\n",
      "2018-10-30 15:12:18.002944 blackbox: svm\n",
      "2018-10-30 15:12:18.016388 blackbox: mlp\n",
      "2018-10-30 15:12:18.027574 dataset: woman\n",
      "2018-10-30 15:12:18.027738 blackbox: rf\n",
      "2018-10-30 15:12:18.030441 blackbox: svm\n",
      "2018-10-30 15:12:18.032918 blackbox: mlp\n"
     ]
    }
   ],
   "source": [
    "hit = defaultdict(lambda: defaultdict(list))\n",
    "for idx, dataset in enumerate(dataset_list):\n",
    "    print(datetime.datetime.now(), 'dataset: %s' % dataset)\n",
    "    for bb_name in blackbox_list: \n",
    "        print(datetime.datetime.now(), 'blackbox: %s' % bb_name)\n",
    "        \n",
    "        resfile = gzip.open('../output_ric/%s_%s_records.json.gz' % (dataset, bb_name), 'rb')\n",
    "        for row in resfile:\n",
    "            r = json.loads(row.decode('utf-8').strip())\n",
    "            bb_name = r['bb_name']\n",
    "            dataset_name = r['dataset_name']\n",
    "\n",
    "            hit[dataset_name][bb_name].append(1.0 - r['hit_sm_tree1'])\n",
    "\n",
    "        resfile.close()"
   ]
  },
  {
   "cell_type": "code",
   "execution_count": 12,
   "metadata": {},
   "outputs": [
    {
     "name": "stdout",
     "output_type": "stream",
     "text": [
      "2018-10-30 15:12:18.688308 dataset: yeast\n",
      "2018-10-30 15:12:18.688546 blackbox: rf\n",
      "2018-10-30 15:12:18.731619 blackbox: svm\n",
      "2018-10-30 15:12:18.767692 blackbox: mlp\n",
      "2018-10-30 15:12:18.795333 dataset: woman\n",
      "2018-10-30 15:12:18.795434 blackbox: rf\n",
      "2018-10-30 15:12:18.952957 blackbox: svm\n",
      "2018-10-30 15:12:19.119590 blackbox: mlp\n"
     ]
    }
   ],
   "source": [
    "hit_gdt = defaultdict(lambda: defaultdict(list))\n",
    "for idx, dataset in enumerate(dataset_list):\n",
    "    print(datetime.datetime.now(), 'dataset: %s' % dataset)\n",
    "    for bb_name in blackbox_list: \n",
    "        print(datetime.datetime.now(), 'blackbox: %s' % bb_name)\n",
    "        \n",
    "        resfile = gzip.open('../global_dt/%s_%s_labels.json.gz' % (bb_name, dataset), 'rb')\n",
    "        for row in resfile:\n",
    "            r = json.loads(row.decode('utf-8').strip())\n",
    "            bb_label = r['bb_label']\n",
    "            gdt_label = r['gdt_label']\n",
    "\n",
    "            hit_gdt[dataset][bb_name].append(1.0 - hamming(bb_label, gdt_label))\n",
    "        resfile.close()"
   ]
  },
  {
   "cell_type": "code",
   "execution_count": 13,
   "metadata": {},
   "outputs": [
    {
     "name": "stdout",
     "output_type": "stream",
     "text": [
      "Table 3 e plot\n",
      "yeast\n",
      "\t rf\n",
      "\t\thit MARLENA 0.905 pm 0.081\n",
      "\t\thit GDT 0.947 pm 0.066\n",
      "\t svm\n",
      "\t\thit MARLENA 0.901 pm 0.094\n",
      "\t\thit GDT 0.939 pm 0.068\n",
      "\t mlp\n",
      "\t\thit MARLENA 0.880 pm 0.108\n",
      "\t\thit GDT 0.970 pm 0.052\n",
      "woman\n",
      "\t rf\n",
      "\t\thit MARLENA 0.857 pm 0.112\n",
      "\t\thit GDT 0.981 pm 0.041\n",
      "\t svm\n",
      "\t\thit MARLENA 0.777 pm 0.132\n",
      "\t\thit GDT 0.993 pm 0.025\n",
      "\t mlp\n",
      "\t\thit MARLENA 0.786 pm 0.117\n",
      "\t\thit GDT 0.979 pm 0.048\n"
     ]
    },
    {
     "data": {
      "image/png": "[encoded data removed]",
      "text/plain": [
       "<Figure size 504x288 with 1 Axes>"
      ]
     },
     "metadata": {},
     "output_type": "display_data"
    }
   ],
   "source": [
    "print('Table 3 e plot')\n",
    "\n",
    "plt.figure(figsize=(7,4))\n",
    "index = 0\n",
    "for dataset_name in dataset_list:\n",
    "    print(dataset_name)\n",
    "    for bb_name in blackbox_list:\n",
    "        print('\\t', bb_name)\n",
    "        print('\\t\\thit MARLENA %.3f pm %.3f' % ( \n",
    "            np.mean(hit[dataset_name][bb_name]), np.std(hit[dataset_name][bb_name])))\n",
    "        if dataset_name == 'yeast' and bb_name == 'rf':\n",
    "            plt.bar(index, np.mean(hit[dataset_name][bb_name]), \n",
    "                    yerr=np.std(hit[dataset_name][bb_name]), color='#2678b2', label='MARLENA')\n",
    "        else:\n",
    "            plt.bar(index, np.mean(hit[dataset_name][bb_name]), \n",
    "                    yerr=np.std(hit[dataset_name][bb_name]), color='#2678b2')\n",
    "        index += 1\n",
    "        print('\\t\\thit GDT %.3f pm %.3f' % ( \n",
    "            np.mean(hit_gdt[dataset_name][bb_name]), np.std(hit_gdt[dataset_name][bb_name])))\n",
    "        if dataset_name == 'yeast' and bb_name == 'rf':\n",
    "            plt.bar(index, np.mean(hit_gdt[dataset_name][bb_name]), \n",
    "                    yerr=np.std(hit_gdt[dataset_name][bb_name]), color='#fd974b', label='GDT', hatch='/')\n",
    "        else:\n",
    "            plt.bar(index, np.mean(hit_gdt[dataset_name][bb_name]), \n",
    "                    yerr=np.std(hit_gdt[dataset_name][bb_name]), color='#fd974b')\n",
    "        index +=2\n",
    "    index += 1\n",
    "plt.xticks([0.5, 3.0, 6.5, 10.5, 13.5, 16.5], ['RF', 'SVM', 'MLP']*2)\n",
    "plt.legend(loc=(0,1), fontsize=16, ncol=2, labelspacing=0, handlelength=1, frameon=False)\n",
    "plt.tick_params(axis='both', which='major', labelsize=16)\n",
    "plt.xlabel('yeast                               woman', fontsize=16)\n",
    "plt.savefig('../fig/barplot.png', format='png', bbox_inches='tight')\n",
    "plt.show()"
   ]
  },
  {
   "cell_type": "code",
   "execution_count": null,
   "metadata": {},
   "outputs": [],
   "source": []
  },
  {
   "cell_type": "code",
   "execution_count": 108,
   "metadata": {},
   "outputs": [
    {
     "name": "stdout",
     "output_type": "stream",
     "text": [
      "2018-10-30 15:08:26.882339 dataset: yeast\n",
      "2018-10-30 15:08:26.882494 blackbox: rf\n",
      "2018-10-30 15:08:26.890998 blackbox: svm\n",
      "2018-10-30 15:08:26.896030 blackbox: mlp\n",
      "2018-10-30 15:08:26.900621 dataset: woman\n",
      "2018-10-30 15:08:26.900743 blackbox: rf\n",
      "2018-10-30 15:08:26.902874 blackbox: svm\n",
      "2018-10-30 15:08:26.904463 blackbox: mlp\n"
     ]
    }
   ],
   "source": [
    "bb_labels = defaultdict(lambda: defaultdict(list))\n",
    "marlena_labels = defaultdict(lambda: defaultdict(list))\n",
    "\n",
    "for idx, dataset in enumerate(dataset_list):\n",
    "    print(datetime.datetime.now(), 'dataset: %s' % dataset)\n",
    "    for bb_name in blackbox_list: \n",
    "        print(datetime.datetime.now(), 'blackbox: %s' % bb_name)\n",
    "        \n",
    "        resfile = gzip.open('../output_ric/%s_%s_records.json.gz' % (dataset, bb_name), 'rb')\n",
    "        for row in resfile:\n",
    "            r = json.loads(row.decode('utf-8').strip())\n",
    "            bb_name = r['bb_name']\n",
    "            dataset_name = r['dataset_name']\n",
    "            bb_labels[dataset_name][bb_name].append(r['i2e_bb_label'])\n",
    "            marlena_labels[dataset_name][bb_name].append(r['i2e_tree1_label'])  \n",
    "        resfile.close()"
   ]
  },
  {
   "cell_type": "code",
   "execution_count": 109,
   "metadata": {},
   "outputs": [
    {
     "name": "stdout",
     "output_type": "stream",
     "text": [
      "2018-10-30 15:08:27.663882 dataset: yeast\n",
      "2018-10-30 15:08:27.664219 blackbox: rf\n",
      "2018-10-30 15:08:27.674366 blackbox: svm\n",
      "2018-10-30 15:08:27.682674 blackbox: mlp\n",
      "2018-10-30 15:08:27.690303 dataset: woman\n",
      "2018-10-30 15:08:27.690444 blackbox: rf\n",
      "2018-10-30 15:08:27.740086 blackbox: svm\n",
      "2018-10-30 15:08:27.782035 blackbox: mlp\n"
     ]
    }
   ],
   "source": [
    "gdt_labels = defaultdict(lambda: defaultdict(list))\n",
    "for idx, dataset in enumerate(dataset_list):\n",
    "    print(datetime.datetime.now(), 'dataset: %s' % dataset)\n",
    "    for bb_name in blackbox_list: \n",
    "        print(datetime.datetime.now(), 'blackbox: %s' % bb_name)\n",
    "        \n",
    "        resfile = gzip.open('../global_dt/%s_%s_labels.json.gz' % (bb_name, dataset), 'rb')\n",
    "        for row in resfile:\n",
    "            r = json.loads(row.decode('utf-8').strip())\n",
    "            gdt_label = r['gdt_label']\n",
    "\n",
    "            gdt_labels[dataset][bb_name].append(r['gdt_label'])\n",
    "        resfile.close() "
   ]
  },
  {
   "cell_type": "code",
   "execution_count": 112,
   "metadata": {},
   "outputs": [
    {
     "name": "stdout",
     "output_type": "stream",
     "text": [
      "Table 4\n",
      "yeast\n",
      "\t rf\n",
      "MARLENA: avg 0.463, std 0.376, median 0.621\n",
      "GDT:\t avg 0.604, std 0.384, median 0.759\n",
      "\t svm\n",
      "MARLENA: avg 0.595, std 0.299, median 0.632\n",
      "GDT:\t avg 0.699, std 0.279, median 0.800\n",
      "\t mlp\n",
      "MARLENA: avg 0.538, std 0.311, median 0.667\n",
      "GDT:\t avg 0.929, std 0.060, median 0.939\n",
      "\n",
      "woman\n",
      "\t rf\n",
      "MARLENA: avg 0.143, std 0.247, median 0.000\n",
      "GDT:\t avg 0.500, std 0.500, median 0.500\n",
      "\t svm\n",
      "MARLENA: avg 0.071, std 0.124, median 0.000\n",
      "GDT:\t avg 1.000, std 0.000, median 1.000\n",
      "\t mlp\n",
      "MARLENA: avg 0.324, std 0.239, median 0.400\n",
      "GDT:\t avg 1.000, std 0.000, median 1.000\n",
      "\n"
     ]
    }
   ],
   "source": [
    "print('Table 4')\n",
    "\n",
    "for idx, dataset in enumerate(dataset_list):\n",
    "    print(dataset)\n",
    "    for bb_name in blackbox_list:\n",
    "        print('\\t', bb_name)\n",
    "        bl = np.asarray(bb_labels[dataset][bb_name])\n",
    "        ml = np.asarray(marlena_labels[dataset][bb_name])\n",
    "        nbr_instances = len(bl)\n",
    "        gl = np.asarray(gdt_labels[dataset][bb_name][:nbr_instances])\n",
    "\n",
    "        f1score_marlena = f1_score(bl, ml, average=None)\n",
    "        f1score_gdt = f1_score(bl, gl, average=None)\n",
    "\n",
    "        marlena_values = list()\n",
    "        gdt_values = list()\n",
    "        for i in range(0, len(bl[0])):\n",
    "            flag = 0 < np.sum(bl[:,i])/len(bl) < 1\n",
    "            if flag:\n",
    "                marlena_values.append(f1score_marlena[i])\n",
    "                gdt_values.append(f1score_gdt[i])\n",
    "\n",
    "        print('MARLENA: avg %.3f, std %.3f, median %.3f' % (\n",
    "            np.mean(marlena_values), np.std(marlena_values), np.median(marlena_values)))\n",
    "        print('GDT:\\t avg %.3f, std %.3f, median %.3f' % (\n",
    "            np.mean(gdt_values), np.std(gdt_values), np.median(gdt_values)))\n",
    "    print('')"
   ]
  },
  {
   "cell_type": "code",
   "execution_count": null,
   "metadata": {},
   "outputs": [],
   "source": []
  },
  {
   "cell_type": "code",
   "execution_count": null,
   "metadata": {},
   "outputs": [],
   "source": []
  },
  {
   "cell_type": "code",
   "execution_count": 38,
   "metadata": {},
   "outputs": [],
   "source": []
  },
  {
   "cell_type": "code",
   "execution_count": 15,
   "metadata": {},
   "outputs": [],
   "source": []
  },
  {
   "cell_type": "code",
   "execution_count": null,
   "metadata": {},
   "outputs": [],
   "source": []
  }
 ],
 "metadata": {
  "kernelspec": {
   "display_name": "Python 3",
   "language": "python",
   "name": "python3"
  },
  "language_info": {
   "codemirror_mode": {
    "name": "ipython",
    "version": 3
   },
   "file_extension": ".py",
   "mimetype": "text/x-python",
   "name": "python",
   "nbconvert_exporter": "python",
   "pygments_lexer": "ipython3",
   "version": "3.6.5"
  }
 },
 "nbformat": 4,
 "nbformat_minor": 2
}
