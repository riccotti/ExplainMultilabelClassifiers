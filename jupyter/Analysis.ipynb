{
 "cells": [
  {
   "cell_type": "markdown",
   "metadata": {},
   "source": [
    "# Fidelity, hit measures and rules"
   ]
  },
  {
   "cell_type": "code",
   "execution_count": 1,
   "metadata": {},
   "outputs": [],
   "source": [
    "%matplotlib inline\n",
    "\n",
    "import numpy as np\n",
    "import pandas as pd\n",
    "import matplotlib.pyplot as plt\n",
    "from os import listdir\n",
    "\n",
    "import json\n",
    "import gzip\n",
    "import pickle\n",
    "import datetime\n",
    "\n",
    "from collections import defaultdict\n",
    "from scipy.spatial.distance import hamming\n",
    "from sklearn.metrics import f1_score, precision_score, recall_score"
   ]
  },
  {
   "cell_type": "code",
   "execution_count": 2,
   "metadata": {},
   "outputs": [],
   "source": [
    "dataset_list = ['yeast', 'woman','medical'] #, 'diabete']\n",
    "blackbox_list = ['rf', 'svm', 'mlp']"
   ]
  },
  {
   "cell_type": "code",
   "execution_count": 3,
   "metadata": {},
   "outputs": [
    {
     "name": "stdout",
     "output_type": "stream",
     "text": [
      "2018-11-10 10:20:45.067310 dataset: yeast\n",
      "2018-11-10 10:20:45.067452 blackbox: rf\n",
      "2018-11-10 10:20:45.100100 blackbox: svm\n",
      "2018-11-10 10:20:45.128725 blackbox: mlp\n",
      "2018-11-10 10:20:45.157201 dataset: woman\n",
      "2018-11-10 10:20:45.157254 blackbox: rf\n",
      "2018-11-10 10:20:45.334451 blackbox: svm\n",
      "2018-11-10 10:20:45.513949 blackbox: mlp\n",
      "2018-11-10 10:20:45.679529 dataset: medical\n",
      "2018-11-10 10:20:45.679596 blackbox: rf\n",
      "2018-11-10 10:20:45.744863 blackbox: svm\n",
      "2018-11-10 10:20:45.811812 blackbox: mlp\n"
     ]
    }
   ],
   "source": [
    "hit_gdt = defaultdict(lambda: defaultdict(list))\n",
    "rules_len_gdt = defaultdict(lambda: defaultdict(list))\n",
    "gdt_labels = defaultdict(lambda: defaultdict(list))\n",
    "gdt_rules = defaultdict(lambda: defaultdict(list))\n",
    "\n",
    "for dataset in dataset_list:\n",
    "    print(datetime.datetime.now(), 'dataset: %s' % dataset)\n",
    "    for bb_name in blackbox_list:\n",
    "        print(datetime.datetime.now(), 'blackbox: %s' % bb_name)\n",
    "        \n",
    "        resfile = gzip.open('../global_dt/GDT_to_mimic_%s_%s_metrics.json.gz' % (dataset, bb_name), 'rb')\n",
    "        for row in resfile:\n",
    "            r = json.loads(row.decode('utf-8').strip())\n",
    "            bb_name = r['bb_name']\n",
    "            dataset_name = r['dataset_name']\n",
    "            #saving hit\n",
    "            hit_gdt[dataset_name][bb_name].append(1.0 - r['hit_sm'])\n",
    "            #saving rule lenght\n",
    "            rules_len_gdt[dataset_name][bb_name].append(r['len_rule'])\n",
    "            #saving rule\n",
    "            gdt_rules[dataset_name][bb_name].append((r['i2e_id'],r['rule']))\n",
    "            #saving label\n",
    "            gdt_labels[dataset][bb_name].append(r['i2e_GDT_label'])\n",
    "            \n",
    "        resfile.close()"
   ]
  },
  {
   "cell_type": "markdown",
   "metadata": {},
   "source": [
    "### Comparison between mixed and union approaches"
   ]
  },
  {
   "cell_type": "code",
   "execution_count": 4,
   "metadata": {},
   "outputs": [
    {
     "data": {
      "text/plain": [
       "['20181103_0226_yeast_rf_explanationsandmetrics.json.gz',\n",
       " '20181109_0217_medical_mlp_explanationsandmetrics.json.gz',\n",
       " '20181109_0217_medical_rf_explanationsandmetrics.json.gz',\n",
       " '20181103_0228_woman_rf_explanationsandmetrics.json.gz',\n",
       " '20181103_0228_woman_svm_explanationsandmetrics.json.gz',\n",
       " '20181103_0226_yeast_svm_explanationsandmetrics.json.gz',\n",
       " '20181103_0227_yeast_mlp_explanationsandmetrics.json.gz',\n",
       " '20181103_0229_woman_mlp_explanationsandmetrics.json.gz',\n",
       " '20181109_0217_medical_svm_explanationsandmetrics.json.gz']"
      ]
     },
     "execution_count": 4,
     "metadata": {},
     "output_type": "execute_result"
    }
   ],
   "source": [
    "output_files = []\n",
    "names_output = listdir('../output/')\n",
    "for name in names_output:\n",
    "    if name.startswith('20181103') or name.startswith('20181109'):\n",
    "        output_files.append(name)\n",
    "output_files"
   ]
  },
  {
   "cell_type": "code",
   "execution_count": 5,
   "metadata": {},
   "outputs": [
    {
     "name": "stdout",
     "output_type": "stream",
     "text": [
      "2018-11-10 10:20:45.901931 dataset: yeast\n",
      "2018-11-10 10:20:45.902170 blackbox: rf\n",
      "2018-11-10 10:20:45.946122 blackbox: svm\n",
      "2018-11-10 10:20:45.983762 blackbox: mlp\n",
      "2018-11-10 10:20:46.017926 dataset: woman\n",
      "2018-11-10 10:20:46.017964 blackbox: rf\n",
      "2018-11-10 10:20:46.226537 blackbox: svm\n",
      "2018-11-10 10:20:46.432329 blackbox: mlp\n",
      "2018-11-10 10:20:46.661237 dataset: medical\n",
      "2018-11-10 10:20:46.661483 blackbox: rf\n",
      "2018-11-10 10:20:46.697079 blackbox: svm\n",
      "2018-11-10 10:20:46.732010 blackbox: mlp\n"
     ]
    }
   ],
   "source": [
    "mixed_fidelity_sn = defaultdict(list)\n",
    "mixed_fidelity_rn = defaultdict(list)\n",
    "union_fidelity_sn = defaultdict(list)\n",
    "union_fidelity_rn = defaultdict(list)\n",
    "\n",
    "for idx, dataset in enumerate(dataset_list):\n",
    "    print(datetime.datetime.now(), 'dataset: %s' % dataset)\n",
    "    for bb_name in blackbox_list: \n",
    "        print(datetime.datetime.now(), 'blackbox: %s' % bb_name)\n",
    "        \n",
    "        file_name = [output for output in output_files if dataset in output and bb_name in output][0]\n",
    "        resfile = gzip.open('../output/'+file_name, 'rb')\n",
    "        for row in resfile:\n",
    "            r = json.loads(row.decode('utf-8').strip())\n",
    "            bb_name = r['bb_name']\n",
    "            \n",
    "            if r['fidelity_tree1_syn'] > 0 and r['fidelity_tree1_kNN'] > 0 and \\\n",
    "                r['fidelity_tree2_syn'] > 0 and r['fidelity_tree2_kNN'] > 0:\n",
    "\n",
    "                mixed_fidelity_sn[bb_name].append(r['fidelity_tree1_syn'])\n",
    "                mixed_fidelity_rn[bb_name].append(r['fidelity_tree1_kNN'])\n",
    "\n",
    "                union_fidelity_sn[bb_name].append(r['fidelity_tree2_syn'])\n",
    "                union_fidelity_rn[bb_name].append(r['fidelity_tree2_kNN'])\n",
    "\n",
    "        resfile.close()"
   ]
  },
  {
   "cell_type": "code",
   "execution_count": 6,
   "metadata": {},
   "outputs": [
    {
     "name": "stdout",
     "output_type": "stream",
     "text": [
      "Table 2\n",
      "rf\n",
      "\tmixed fidelity sn: 0.939 \\pm 0.024\n",
      "\tunion fidelity sn: 0.902 \\pm 0.052\n",
      "---\n",
      "\tmixed fidelity rn: 0.890 \\pm 0.091\n",
      "\tunion fidelity rn: 0.874 \\pm 0.110\n",
      "svm\n",
      "\tmixed fidelity sn: 0.913 \\pm 0.048\n",
      "\tunion fidelity sn: 0.875 \\pm 0.073\n",
      "---\n",
      "\tmixed fidelity rn: 0.652 \\pm 0.205\n",
      "\tunion fidelity rn: 0.678 \\pm 0.213\n",
      "mlp\n",
      "\tmixed fidelity sn: 0.928 \\pm 0.071\n",
      "\tunion fidelity sn: 0.911 \\pm 0.109\n",
      "---\n",
      "\tmixed fidelity rn: 0.677 \\pm 0.221\n",
      "\tunion fidelity rn: 0.682 \\pm 0.213\n"
     ]
    }
   ],
   "source": [
    "values = []\n",
    "print('Table 2')\n",
    "for bb_name in blackbox_list:\n",
    "    \n",
    "    val = []\n",
    "    print(bb_name)\n",
    "    print('\\tmixed fidelity sn: %.3f \\pm %.3f' % (\n",
    "        np.mean(mixed_fidelity_sn[bb_name]), np.std(mixed_fidelity_sn[bb_name])))\n",
    "    values.append(np.mean(mixed_fidelity_sn[bb_name]))\n",
    "    values.append(np.std(mixed_fidelity_sn[bb_name]))            \n",
    "    print('\\tunion fidelity sn: %.3f \\pm %.3f' % (\n",
    "        np.mean(union_fidelity_sn[bb_name]), np.std(union_fidelity_sn[bb_name])))\n",
    "    values.append(np.mean(union_fidelity_sn[bb_name]))\n",
    "    values.append(np.std(union_fidelity_sn[bb_name]))\n",
    "    print('---')\n",
    "    print('\\tmixed fidelity rn: %.3f \\pm %.3f' % (\n",
    "        np.mean(mixed_fidelity_rn[bb_name]), np.std(mixed_fidelity_rn[bb_name])))\n",
    "    values.append(np.mean(mixed_fidelity_rn[bb_name]))\n",
    "    values.append(np.std(mixed_fidelity_rn[bb_name]))\n",
    "    print('\\tunion fidelity rn: %.3f \\pm %.3f' % (\n",
    "        np.mean(union_fidelity_rn[bb_name]), np.std(union_fidelity_rn[bb_name])))\n",
    "    values.append(np.mean(union_fidelity_rn[bb_name]))\n",
    "    values.append(np.std(union_fidelity_rn[bb_name]))"
   ]
  },
  {
   "cell_type": "code",
   "execution_count": 7,
   "metadata": {},
   "outputs": [
    {
     "name": "stdout",
     "output_type": "stream",
     "text": [
      "\n",
      "\\begin{table}[h]\n",
      "\\vspace{2mm}\n",
      "\\centering\n",
      "\\setlength{\\tabcolsep}{1.5mm}\n",
      "\\small\n",
      "\\begin{tabular}{|c|cc|cc|}\n",
      "\\hline\n",
      "\\multicolumn{1}{|c|}{} & \\multicolumn{2}{c|}{\\textit{s-fidelity}} & \\multicolumn{2}{c|}{\\textit{r-fidelity}} \\\\\n",
      " & \\textit{mixed} & \\textit{unified} & \\textit{mixed} & \\textit{unified} \\\\\n",
      " \\hline\n",
      "\\textit{RF}  & 0.94 $\\pm$ 0.02 & 0.90 $\\pm$ 0.05 & 0.89 $\\pm$ 0.09 & 0.87 $\\pm$ 0.11 \\\\\n",
      "\\textit{SVM} & 0.91 $\\pm$ 0.05 & 0.87 $\\pm$ 0.07 & 0.65 $\\pm$ 0.20 & 0.68 $\\pm$ 0.21 \\\\\n",
      "\\textit{MLP} & 0.93 $\\pm$ 0.07 & 0.91 $\\pm$ 0.11 & 0.68 $\\pm$ 0.22 & 0.68 $\\pm$ 0.21 \\\\\n",
      "\\hline\n",
      "\\end{tabular}\n",
      "\\caption{Comparison between \\emph{mixed} and \\emph{unified} approaches: averages and standard deviations of fidelity measures.}\n",
      "\\label{tab:neigh_comp}\n",
      "\\end{table}\n",
      "\n"
     ]
    }
   ],
   "source": [
    "print(r\"\"\"\n",
    "\\begin{table}[h]\n",
    "\\vspace{2mm}\n",
    "\\centering\n",
    "\\setlength{\\tabcolsep}{1.5mm}\n",
    "\\small\n",
    "\\begin{tabular}{|c|cc|cc|}\n",
    "\\hline\n",
    "\\multicolumn{1}{|c|}{} & \\multicolumn{2}{c|}{\\textit{s-fidelity}} & \\multicolumn{2}{c|}{\\textit{r-fidelity}} \\\\\n",
    " & \\textit{mixed} & \\textit{unified} & \\textit{mixed} & \\textit{unified} \\\\\n",
    " \\hline\n",
    "\\textit{RF}  & %.2f $\\pm$ %.2f & %.2f $\\pm$ %.2f & %.2f $\\pm$ %.2f & %.2f $\\pm$ %.2f \\\\\n",
    "\\textit{SVM} & %.2f $\\pm$ %.2f & %.2f $\\pm$ %.2f & %.2f $\\pm$ %.2f & %.2f $\\pm$ %.2f \\\\\n",
    "\\textit{MLP} & %.2f $\\pm$ %.2f & %.2f $\\pm$ %.2f & %.2f $\\pm$ %.2f & %.2f $\\pm$ %.2f \\\\\n",
    "\\hline\n",
    "\\end{tabular}\n",
    "\\caption{Comparison between \\emph{mixed} and \\emph{unified} approaches: averages and standard deviations of fidelity measures.}\n",
    "\\label{tab:neigh_comp}\n",
    "\\end{table}\n",
    "\"\"\" % tuple(values))"
   ]
  },
  {
   "cell_type": "code",
   "execution_count": 8,
   "metadata": {},
   "outputs": [
    {
     "name": "stdout",
     "output_type": "stream",
     "text": [
      "2018-11-10 10:20:46.801890 dataset: yeast\n",
      "2018-11-10 10:20:46.801944 blackbox: rf\n",
      "2018-11-10 10:20:46.849295 blackbox: svm\n",
      "2018-11-10 10:20:46.886436 blackbox: mlp\n",
      "2018-11-10 10:20:46.928565 dataset: woman\n",
      "2018-11-10 10:20:46.928632 blackbox: rf\n",
      "2018-11-10 10:20:47.142016 blackbox: svm\n",
      "2018-11-10 10:20:47.352454 blackbox: mlp\n",
      "2018-11-10 10:20:47.567400 dataset: medical\n",
      "2018-11-10 10:20:47.567490 blackbox: rf\n",
      "2018-11-10 10:20:47.607240 blackbox: svm\n",
      "2018-11-10 10:20:47.642549 blackbox: mlp\n"
     ]
    }
   ],
   "source": [
    "mixed_fidelity_sn = defaultdict(lambda: defaultdict(list))\n",
    "mixed_fidelity_rn = defaultdict(lambda: defaultdict(list))\n",
    "union_fidelity_sn = defaultdict(lambda: defaultdict(list))\n",
    "union_fidelity_rn = defaultdict(lambda: defaultdict(list))\n",
    "\n",
    "for idx, dataset in enumerate(dataset_list):\n",
    "    \n",
    "    print(datetime.datetime.now(), 'dataset: %s' % dataset)\n",
    "    \n",
    "    for bb_name in blackbox_list: \n",
    "        print(datetime.datetime.now(), 'blackbox: %s' % bb_name)\n",
    "        \n",
    "        file_name = [output for output in output_files if dataset in output and bb_name in output][0]\n",
    "        resfile = gzip.open('../output/'+file_name, 'rb')\n",
    "        for row in resfile:\n",
    "            r = json.loads(row.decode('utf-8').strip())\n",
    "            bb_name = r['bb_name']\n",
    "            dataset_name = r['dataset_name']\n",
    "            \n",
    "            if r['fidelity_tree1_syn'] > 0 and r['fidelity_tree1_kNN'] > 0 and \\\n",
    "                r['fidelity_tree2_syn'] > 0 and r['fidelity_tree2_kNN'] > 0:\n",
    "\n",
    "                mixed_fidelity_sn[dataset_name][bb_name].append(r['fidelity_tree1_syn'])\n",
    "                mixed_fidelity_rn[dataset_name][bb_name].append(r['fidelity_tree1_kNN'])\n",
    "\n",
    "                union_fidelity_sn[dataset_name][bb_name].append(r['fidelity_tree2_syn'])\n",
    "                union_fidelity_rn[dataset_name][bb_name].append(r['fidelity_tree2_kNN'])\n",
    "\n",
    "        resfile.close()"
   ]
  },
  {
   "cell_type": "code",
   "execution_count": 9,
   "metadata": {},
   "outputs": [
    {
     "name": "stdout",
     "output_type": "stream",
     "text": [
      "Table 2-bis fidelities for dataset\n",
      "yeast\n",
      "\t rf\n",
      "\t\ts-fidelity m-MARLENA 0.932 pm 0.030, s-fidelity u-MARLENA 0.923 pm 0.041\n",
      "\t\tr-fidelity m-MARLENA 0.893 pm 0.063, r-fidelity u-MARLENA 0.898 pm 0.057\n",
      "\t svm\n",
      "\t\ts-fidelity m-MARLENA 0.840 pm 0.068, s-fidelity u-MARLENA 0.836 pm 0.079\n",
      "\t\tr-fidelity m-MARLENA 0.857 pm 0.084, r-fidelity u-MARLENA 0.862 pm 0.077\n",
      "\t mlp\n",
      "\t\ts-fidelity m-MARLENA 0.904 pm 0.052, s-fidelity u-MARLENA 0.899 pm 0.065\n",
      "\t\tr-fidelity m-MARLENA 0.887 pm 0.064, r-fidelity u-MARLENA 0.891 pm 0.066\n",
      "woman\n",
      "\t rf\n",
      "\t\ts-fidelity m-MARLENA 0.941 pm 0.019, s-fidelity u-MARLENA 0.899 pm 0.047\n",
      "\t\tr-fidelity m-MARLENA 0.887 pm 0.094, r-fidelity u-MARLENA 0.866 pm 0.116\n",
      "\t svm\n",
      "\t\ts-fidelity m-MARLENA 0.920 pm 0.025, s-fidelity u-MARLENA 0.885 pm 0.051\n",
      "\t\tr-fidelity m-MARLENA 0.571 pm 0.164, r-fidelity u-MARLENA 0.598 pm 0.181\n",
      "\t mlp\n",
      "\t\ts-fidelity m-MARLENA 0.954 pm 0.020, s-fidelity u-MARLENA 0.944 pm 0.039\n",
      "\t\tr-fidelity m-MARLENA 0.616 pm 0.209, r-fidelity u-MARLENA 0.609 pm 0.191\n",
      "medical\n",
      "\t rf\n",
      "\t\ts-fidelity m-MARLENA 0.932 pm 0.056, s-fidelity u-MARLENA 0.900 pm 0.121\n",
      "\t\tr-fidelity m-MARLENA 0.942 pm 0.089, r-fidelity u-MARLENA 0.968 pm 0.061\n",
      "\t svm\n",
      "\t\ts-fidelity m-MARLENA 0.953 pm 0.048, s-fidelity u-MARLENA 0.856 pm 0.135\n",
      "\t\tr-fidelity m-MARLENA 0.924 pm 0.119, r-fidelity u-MARLENA 0.971 pm 0.063\n",
      "\t mlp\n",
      "\t\ts-fidelity m-MARLENA 0.799 pm 0.123, s-fidelity u-MARLENA 0.721 pm 0.204\n",
      "\t\tr-fidelity m-MARLENA 0.811 pm 0.197, r-fidelity u-MARLENA 0.890 pm 0.143\n"
     ]
    }
   ],
   "source": [
    "print('Table 2-bis fidelities for dataset')\n",
    "\n",
    "values_fidelities_yeast = []\n",
    "values_fidelities_woman = []\n",
    "values_fidelities_medical = []\n",
    "\n",
    "for dataset_name in dataset_list:\n",
    "    print(dataset_name)\n",
    "    for bb_name in blackbox_list:\n",
    "        print('\\t', bb_name)\n",
    "        print('\\t\\ts-fidelity m-MARLENA %.3f pm %.3f, s-fidelity u-MARLENA %.3f pm %.3f' % ( \n",
    "            np.mean(mixed_fidelity_sn[dataset_name][bb_name]), np.std(mixed_fidelity_sn[dataset_name][bb_name]),\n",
    "            np.mean(union_fidelity_sn[dataset_name][bb_name]), np.std(union_fidelity_sn[dataset_name][bb_name])))\n",
    "        if dataset_name=='woman':\n",
    "            values_fidelities_woman.append(np.mean(mixed_fidelity_sn[dataset_name][bb_name]))\n",
    "            values_fidelities_woman.append(np.std(mixed_fidelity_sn[dataset_name][bb_name]))\n",
    "            values_fidelities_woman.append(np.mean(union_fidelity_sn[dataset_name][bb_name]))\n",
    "            values_fidelities_woman.append(np.std(union_fidelity_sn[dataset_name][bb_name]))\n",
    "        elif dataset_name=='yeast':\n",
    "            values_fidelities_yeast.append(np.mean(mixed_fidelity_sn[dataset_name][bb_name]))\n",
    "            values_fidelities_yeast.append(np.std(mixed_fidelity_sn[dataset_name][bb_name]))\n",
    "            values_fidelities_yeast.append(np.mean(union_fidelity_sn[dataset_name][bb_name]))\n",
    "            values_fidelities_yeast.append(np.std(union_fidelity_sn[dataset_name][bb_name]))\n",
    "        elif dataset_name=='medical':\n",
    "            values_fidelities_medical.append(np.mean(mixed_fidelity_sn[dataset_name][bb_name]))\n",
    "            values_fidelities_medical.append(np.std(mixed_fidelity_sn[dataset_name][bb_name]))\n",
    "            values_fidelities_medical.append(np.mean(union_fidelity_sn[dataset_name][bb_name]))\n",
    "            values_fidelities_medical.append(np.std(union_fidelity_sn[dataset_name][bb_name]))\n",
    "            \n",
    "            \n",
    "        print('\\t\\tr-fidelity m-MARLENA %.3f pm %.3f, r-fidelity u-MARLENA %.3f pm %.3f' % ( \n",
    "            np.mean(mixed_fidelity_rn[dataset_name][bb_name]), np.std(mixed_fidelity_rn[dataset_name][bb_name]),\n",
    "            np.mean(union_fidelity_rn[dataset_name][bb_name]), np.std(union_fidelity_rn[dataset_name][bb_name])))\n",
    "        if dataset_name=='woman':\n",
    "            values_fidelities_woman.append(np.mean(mixed_fidelity_rn[dataset_name][bb_name]))\n",
    "            values_fidelities_woman.append(np.std(mixed_fidelity_rn[dataset_name][bb_name]))\n",
    "            values_fidelities_woman.append(np.mean(union_fidelity_rn[dataset_name][bb_name]))\n",
    "            values_fidelities_woman.append(np.std(union_fidelity_rn[dataset_name][bb_name]))\n",
    "        elif dataset_name=='yeast':\n",
    "            values_fidelities_yeast.append(np.mean(mixed_fidelity_rn[dataset_name][bb_name]))\n",
    "            values_fidelities_yeast.append(np.std(mixed_fidelity_rn[dataset_name][bb_name]))\n",
    "            values_fidelities_yeast.append(np.mean(union_fidelity_rn[dataset_name][bb_name]))\n",
    "            values_fidelities_yeast.append(np.std(union_fidelity_rn[dataset_name][bb_name]))\n",
    "        elif dataset_name=='medical':\n",
    "            values_fidelities_medical.append(np.mean(mixed_fidelity_rn[dataset_name][bb_name]))\n",
    "            values_fidelities_medical.append(np.std(mixed_fidelity_rn[dataset_name][bb_name]))\n",
    "            values_fidelities_medical.append(np.mean(union_fidelity_rn[dataset_name][bb_name]))\n",
    "            values_fidelities_medical.append(np.std(union_fidelity_rn[dataset_name][bb_name]))            "
   ]
  },
  {
   "cell_type": "code",
   "execution_count": 10,
   "metadata": {},
   "outputs": [
    {
     "name": "stdout",
     "output_type": "stream",
     "text": [
      "\n",
      "\\begin{table}[h]\n",
      "\\vspace{2mm}\n",
      "\\centering\n",
      "\\setlength{\\tabcolsep}{1.5mm}\n",
      "\\small\n",
      "\\begin{tabular}{|c|cc|cc|}\n",
      "\\hline\n",
      "\\multicolumn{1}{|c|}{} & \\multicolumn{2}{c|}{\\textit{s-fidelity}} & \\multicolumn{2}{c|}{\\textit{r-fidelity}} \\\\\n",
      " & \\textit{mixed} & \\textit{unified} & \\textit{mixed} & \\textit{unified} \\\\\n",
      " \\hline\n",
      "\\textit{RF}  & 0.93 $\\pm$ 0.03 & 0.92 $\\pm$ 0.04 & 0.89 $\\pm$ 0.06 & 0.90 $\\pm$ 0.06 \\\\\n",
      "\\textit{SVM} & 0.84 $\\pm$ 0.07 & 0.84 $\\pm$ 0.08 & 0.86 $\\pm$ 0.08 & 0.86 $\\pm$ 0.08 \\\\\n",
      "\\textit{MLP} & 0.90 $\\pm$ 0.05 & 0.90 $\\pm$ 0.06 & 0.89 $\\pm$ 0.06 & 0.89 $\\pm$ 0.07 \\\\\n",
      "\\hline\n",
      "\\end{tabular}\n",
      "\\caption{Comparison between \\emph{mixed} and \\emph{unified} approaches for the \\emph{yeast} dataset: averages and standard deviations of fidelity measures on the synthetic neighborhood \\textit{s-fidelity} and on the neighborhood of real data points used to generate the synthetic one \\textit{r-fidelity}.}\n",
      "\\label{tab:neigh_comp_yeast}\n",
      "\\end{table}\n",
      "\n"
     ]
    }
   ],
   "source": [
    "print(r\"\"\"\n",
    "\\begin{table}[h]\n",
    "\\vspace{2mm}\n",
    "\\centering\n",
    "\\setlength{\\tabcolsep}{1.5mm}\n",
    "\\small\n",
    "\\begin{tabular}{|c|cc|cc|}\n",
    "\\hline\n",
    "\\multicolumn{1}{|c|}{} & \\multicolumn{2}{c|}{\\textit{s-fidelity}} & \\multicolumn{2}{c|}{\\textit{r-fidelity}} \\\\\n",
    " & \\textit{mixed} & \\textit{unified} & \\textit{mixed} & \\textit{unified} \\\\\n",
    " \\hline\n",
    "\\textit{RF}  & %.2f $\\pm$ %.2f & %.2f $\\pm$ %.2f & %.2f $\\pm$ %.2f & %.2f $\\pm$ %.2f \\\\\n",
    "\\textit{SVM} & %.2f $\\pm$ %.2f & %.2f $\\pm$ %.2f & %.2f $\\pm$ %.2f & %.2f $\\pm$ %.2f \\\\\n",
    "\\textit{MLP} & %.2f $\\pm$ %.2f & %.2f $\\pm$ %.2f & %.2f $\\pm$ %.2f & %.2f $\\pm$ %.2f \\\\\n",
    "\\hline\n",
    "\\end{tabular}\n",
    "\\caption{Comparison between \\emph{mixed} and \\emph{unified} approaches for the \\emph{yeast} dataset: averages and standard deviations of fidelity measures on the synthetic neighborhood \\textit{s-fidelity} and on the neighborhood of real data points used to generate the synthetic one \\textit{r-fidelity}.}\n",
    "\\label{tab:neigh_comp_yeast}\n",
    "\\end{table}\n",
    "\"\"\" % tuple(values_fidelities_yeast))"
   ]
  },
  {
   "cell_type": "code",
   "execution_count": 11,
   "metadata": {},
   "outputs": [
    {
     "name": "stdout",
     "output_type": "stream",
     "text": [
      "\n",
      "\\begin{table}[h]\n",
      "\\vspace{2mm}\n",
      "\\centering\n",
      "\\setlength{\\tabcolsep}{1.5mm}\n",
      "\\small\n",
      "\\begin{tabular}{|c|cc|cc|}\n",
      "\\hline\n",
      "\\multicolumn{1}{|c|}{} & \\multicolumn{2}{c|}{\\textit{s-fidelity}} & \\multicolumn{2}{c|}{\\textit{r-fidelity}} \\\\\n",
      " & \\textit{mixed} & \\textit{unified} & \\textit{mixed} & \\textit{unified} \\\\\n",
      " \\hline\n",
      "\\textit{RF}  & 0.94 $\\pm$ 0.02 & 0.90 $\\pm$ 0.05 & 0.89 $\\pm$ 0.09 & 0.87 $\\pm$ 0.12 \\\\\n",
      "\\textit{SVM} & 0.92 $\\pm$ 0.03 & 0.88 $\\pm$ 0.05 & 0.57 $\\pm$ 0.16 & 0.60 $\\pm$ 0.18 \\\\\n",
      "\\textit{MLP} & 0.95 $\\pm$ 0.02 & 0.94 $\\pm$ 0.04 & 0.62 $\\pm$ 0.21 & 0.61 $\\pm$ 0.19 \\\\\n",
      "\\hline\n",
      "\\end{tabular}\n",
      "\\caption{Comparison between \\emph{mixed} and \\emph{unified} approaches for the \\emph{woman} dataset: averages and standard deviations of fidelity measures on the synthetic neighborhood \\textit{s-fidelity} and on the neighborhood of real data points used to generate the synthetic one \\textit{r-fidelity}.}\n",
      "\\label{tab:neigh_comp_woman}\n",
      "\\end{table}\n",
      "\n"
     ]
    }
   ],
   "source": [
    "print(r\"\"\"\n",
    "\\begin{table}[h]\n",
    "\\vspace{2mm}\n",
    "\\centering\n",
    "\\setlength{\\tabcolsep}{1.5mm}\n",
    "\\small\n",
    "\\begin{tabular}{|c|cc|cc|}\n",
    "\\hline\n",
    "\\multicolumn{1}{|c|}{} & \\multicolumn{2}{c|}{\\textit{s-fidelity}} & \\multicolumn{2}{c|}{\\textit{r-fidelity}} \\\\\n",
    " & \\textit{mixed} & \\textit{unified} & \\textit{mixed} & \\textit{unified} \\\\\n",
    " \\hline\n",
    "\\textit{RF}  & %.2f $\\pm$ %.2f & %.2f $\\pm$ %.2f & %.2f $\\pm$ %.2f & %.2f $\\pm$ %.2f \\\\\n",
    "\\textit{SVM} & %.2f $\\pm$ %.2f & %.2f $\\pm$ %.2f & %.2f $\\pm$ %.2f & %.2f $\\pm$ %.2f \\\\\n",
    "\\textit{MLP} & %.2f $\\pm$ %.2f & %.2f $\\pm$ %.2f & %.2f $\\pm$ %.2f & %.2f $\\pm$ %.2f \\\\\n",
    "\\hline\n",
    "\\end{tabular}\n",
    "\\caption{Comparison between \\emph{mixed} and \\emph{unified} approaches for the \\emph{woman} dataset: averages and standard deviations of fidelity measures on the synthetic neighborhood \\textit{s-fidelity} and on the neighborhood of real data points used to generate the synthetic one \\textit{r-fidelity}.}\n",
    "\\label{tab:neigh_comp_woman}\n",
    "\\end{table}\n",
    "\"\"\" % tuple(values_fidelities_woman))"
   ]
  },
  {
   "cell_type": "code",
   "execution_count": 12,
   "metadata": {},
   "outputs": [
    {
     "name": "stdout",
     "output_type": "stream",
     "text": [
      "\n",
      "\\begin{table}[h]\n",
      "\\vspace{2mm}\n",
      "\\centering\n",
      "\\setlength{\\tabcolsep}{1.5mm}\n",
      "\\small\n",
      "\\begin{tabular}{|c|cc|cc|}\n",
      "\\hline\n",
      "\\multicolumn{1}{|c|}{} & \\multicolumn{2}{c|}{\\textit{s-fidelity}} & \\multicolumn{2}{c|}{\\textit{r-fidelity}} \\\\\n",
      " & \\textit{mixed} & \\textit{unified} & \\textit{mixed} & \\textit{unified} \\\\\n",
      " \\hline\n",
      "\\textit{RF}  & 0.93 $\\pm$ 0.06 & 0.90 $\\pm$ 0.12 & 0.94 $\\pm$ 0.09 & 0.97 $\\pm$ 0.06 \\\\\n",
      "\\textit{SVM} & 0.95 $\\pm$ 0.05 & 0.86 $\\pm$ 0.14 & 0.92 $\\pm$ 0.12 & 0.97 $\\pm$ 0.06 \\\\\n",
      "\\textit{MLP} & 0.80 $\\pm$ 0.12 & 0.72 $\\pm$ 0.20 & 0.81 $\\pm$ 0.20 & 0.89 $\\pm$ 0.14 \\\\\n",
      "\\hline\n",
      "\\end{tabular}\n",
      "\\caption{Comparison between \\emph{mixed} and \\emph{unified} approaches for the \\emph{medical} dataset: averages and standard deviations of fidelity measures on the synthetic neighborhood \\textit{s-fidelity} and on the neighborhood of real data points used to generate the synthetic one \\textit{r-fidelity}.}\n",
      "\\label{tab:neigh_comp_medical}\n",
      "\\end{table}\n",
      "\n"
     ]
    }
   ],
   "source": [
    "print(r\"\"\"\n",
    "\\begin{table}[h]\n",
    "\\vspace{2mm}\n",
    "\\centering\n",
    "\\setlength{\\tabcolsep}{1.5mm}\n",
    "\\small\n",
    "\\begin{tabular}{|c|cc|cc|}\n",
    "\\hline\n",
    "\\multicolumn{1}{|c|}{} & \\multicolumn{2}{c|}{\\textit{s-fidelity}} & \\multicolumn{2}{c|}{\\textit{r-fidelity}} \\\\\n",
    " & \\textit{mixed} & \\textit{unified} & \\textit{mixed} & \\textit{unified} \\\\\n",
    " \\hline\n",
    "\\textit{RF}  & %.2f $\\pm$ %.2f & %.2f $\\pm$ %.2f & %.2f $\\pm$ %.2f & %.2f $\\pm$ %.2f \\\\\n",
    "\\textit{SVM} & %.2f $\\pm$ %.2f & %.2f $\\pm$ %.2f & %.2f $\\pm$ %.2f & %.2f $\\pm$ %.2f \\\\\n",
    "\\textit{MLP} & %.2f $\\pm$ %.2f & %.2f $\\pm$ %.2f & %.2f $\\pm$ %.2f & %.2f $\\pm$ %.2f \\\\\n",
    "\\hline\n",
    "\\end{tabular}\n",
    "\\caption{Comparison between \\emph{mixed} and \\emph{unified} approaches for the \\emph{medical} dataset: averages and standard deviations of fidelity measures on the synthetic neighborhood \\textit{s-fidelity} and on the neighborhood of real data points used to generate the synthetic one \\textit{r-fidelity}.}\n",
    "\\label{tab:neigh_comp_medical}\n",
    "\\end{table}\n",
    "\"\"\" % tuple(values_fidelities_medical))"
   ]
  },
  {
   "cell_type": "markdown",
   "metadata": {},
   "source": [
    "## Hit performances MARLENA vs GDT"
   ]
  },
  {
   "cell_type": "code",
   "execution_count": 13,
   "metadata": {},
   "outputs": [
    {
     "name": "stdout",
     "output_type": "stream",
     "text": [
      "2018-11-10 10:20:47.732319 dataset: yeast\n",
      "2018-11-10 10:20:47.732412 blackbox: rf\n",
      "2018-11-10 10:20:47.780090 blackbox: svm\n",
      "2018-11-10 10:20:47.822288 blackbox: mlp\n",
      "2018-11-10 10:20:47.860382 dataset: woman\n",
      "2018-11-10 10:20:47.860445 blackbox: rf\n",
      "2018-11-10 10:20:48.090755 blackbox: svm\n",
      "2018-11-10 10:20:48.312712 blackbox: mlp\n",
      "2018-11-10 10:20:48.528192 dataset: medical\n",
      "2018-11-10 10:20:48.528252 blackbox: rf\n",
      "2018-11-10 10:20:48.564257 blackbox: svm\n",
      "2018-11-10 10:20:48.598535 blackbox: mlp\n"
     ]
    }
   ],
   "source": [
    "#saving hit values for MARLENA (both mixed and union)\n",
    "hit_mixed = defaultdict(lambda: defaultdict(list))\n",
    "hit_union = defaultdict(lambda: defaultdict(list))\n",
    "\n",
    "for idx, dataset in enumerate(dataset_list):\n",
    "    print(datetime.datetime.now(), 'dataset: %s' % dataset)\n",
    "    for bb_name in blackbox_list: \n",
    "        \n",
    "        print(datetime.datetime.now(), 'blackbox: %s' % bb_name)\n",
    "        file_name = [output for output in output_files if dataset in output and bb_name in output][0]\n",
    "        resfile = gzip.open('../output/'+file_name, 'rb')\n",
    "        \n",
    "        for row in resfile:\n",
    "            r = json.loads(row.decode('utf-8').strip())\n",
    "            bb_name = r['bb_name']\n",
    "            dataset_name = r['dataset_name']\n",
    "            \n",
    "            if r['fidelity_tree1_syn'] > 0 and r['fidelity_tree1_kNN'] > 0 and \\\n",
    "                r['fidelity_tree2_syn'] > 0 and r['fidelity_tree2_kNN'] > 0:\n",
    "\n",
    "                hit_mixed[dataset_name][bb_name].append(1.0 - r['hit_sm_tree1'])\n",
    "                hit_union[dataset_name][bb_name].append(1.0 - r['hit_sm_tree2'])\n",
    "\n",
    "        resfile.close()"
   ]
  },
  {
   "cell_type": "code",
   "execution_count": 14,
   "metadata": {},
   "outputs": [
    {
     "name": "stdout",
     "output_type": "stream",
     "text": [
      "Table 3 e plot-MIXED\n",
      "yeast\n",
      "\t rf\n",
      "\t\thit MARLENA 0.973 pm 0.046\n",
      "\t\thit GDT 0.982 pm 0.037\n",
      "\t svm\n",
      "\t\thit MARLENA 0.949 pm 0.062\n",
      "\t\thit GDT 0.932 pm 0.067\n",
      "\t mlp\n",
      "\t\thit MARLENA 0.970 pm 0.048\n",
      "\t\thit GDT 0.942 pm 0.066\n",
      "woman\n",
      "\t rf\n",
      "\t\thit MARLENA 0.951 pm 0.065\n",
      "\t\thit GDT 0.985 pm 0.036\n",
      "\t svm\n",
      "\t\thit MARLENA 0.867 pm 0.091\n",
      "\t\thit GDT 0.993 pm 0.025\n",
      "\t mlp\n",
      "\t\thit MARLENA 0.819 pm 0.132\n",
      "\t\thit GDT 0.988 pm 0.034\n",
      "medical\n",
      "\t rf\n",
      "\t\thit MARLENA 0.998 pm 0.007\n",
      "\t\thit GDT 0.999 pm 0.005\n",
      "\t svm\n",
      "\t\thit MARLENA 0.996 pm 0.010\n",
      "\t\thit GDT 0.995 pm 0.012\n",
      "\t mlp\n",
      "\t\thit MARLENA 0.995 pm 0.012\n",
      "\t\thit GDT 0.994 pm 0.013\n"
     ]
    },
    {
     "data": {
      "image/png": "[encoded data removed]",
      "text/plain": [
       "<Figure size 504x288 with 1 Axes>"
      ]
     },
     "metadata": {
      "needs_background": "light"
     },
     "output_type": "display_data"
    }
   ],
   "source": [
    "print('Table 3 e plot-MIXED')\n",
    "plt.figure(figsize=(7,4))\n",
    "index = 0\n",
    "label_M = ''\n",
    "label_GDT = ''\n",
    "\n",
    "for dataset_name in dataset_list:\n",
    "    print(dataset_name)\n",
    "    for bb_name in blackbox_list:\n",
    "        print('\\t', bb_name)\n",
    "        print('\\t\\thit MARLENA %.3f pm %.3f' % ( \n",
    "            np.mean(hit_mixed[dataset_name][bb_name]), np.std(hit_mixed[dataset_name][bb_name])))\n",
    "        if label_M=='':\n",
    "            label_M='MARLENA'\n",
    "        else:\n",
    "            label_M=None\n",
    "        plt.bar(index, np.mean(hit_mixed[dataset_name][bb_name]),\\\n",
    "                yerr=np.std(hit_mixed[dataset_name][bb_name]), color='#2678b2',label=label_M)\n",
    "        index += 1\n",
    "        \n",
    "        print('\\t\\thit GDT %.3f pm %.3f' % ( \n",
    "            np.mean(hit_gdt[dataset_name][bb_name]), np.std(hit_gdt[dataset_name][bb_name])))\n",
    "        if label_GDT=='':\n",
    "            label_GDT='GDT'\n",
    "        else:\n",
    "            label_GDT=None\n",
    "        plt.bar(index, np.mean(hit_gdt[dataset_name][bb_name]),\\\n",
    "                yerr=np.std(hit_gdt[dataset_name][bb_name]), color='#fd974b', label=label_GDT)\n",
    "        index +=2\n",
    "    index += 1\n",
    "    \n",
    "plt.xticks([0.5, 3.0, 6.5, 10.5, 13.5, 16.5, 20.5, 23.5, 26.5], ['RF', 'SVM', 'MLP']*3)\n",
    "plt.legend(loc=(0,1), fontsize=16, ncol=2, labelspacing=0, handlelength=1, frameon=False)\n",
    "plt.title('Mixed approach',fontsize=20,y=1.10)\n",
    "plt.tick_params(axis='both', which='major', labelsize=16)\n",
    "plt.xlabel('yeast                woman              medical', fontsize=16)\n",
    "plt.ylabel('hit',fontsize=16)\n",
    "plt.savefig('../fig/MIXED_barplot.png', format='png', bbox_inches='tight')\n",
    "plt.show()"
   ]
  },
  {
   "cell_type": "code",
   "execution_count": 15,
   "metadata": {},
   "outputs": [
    {
     "name": "stdout",
     "output_type": "stream",
     "text": [
      "\\begin{table*}[t]\n",
      "\\setlength{\\tabcolsep}{1mm}\n",
      "\\centering\n",
      "\\small\n",
      "\\begin{tabular}{|c|cc|cc|cc|}\n",
      "\\hline\n",
      "\\textit{Dataset} & \\multicolumn{2}{c|}{yeast} & \\multicolumn{2}{c|}{woman} & \\multicolumn{2}{c|}{medical} \\\\ \\hline\n",
      "\\textit{Black Box} & MARLENA-m & GDT & MARLENA-m & GDT & MARLENA-m & GDT \\\\ \\hline\n",
      "\\textit{RF} & 0.97 $\\pm$ 0.05 & 0.98 $\\pm$ 0.04 & 0.95 $\\pm$ 0.06 & 0.99 $\\pm$ 0.04 & 1.00 $\\pm$ 0.01 & 1.00 $\\pm$ 0.01 \\\\\n",
      "\\textit{SVM} & 0.95 $\\pm$ 0.06 & 0.93 $\\pm$ 0.07 & 0.87 $\\pm$ 0.09 & 0.99 $\\pm$ 0.03 & 1.00 $\\pm$ 0.01 & 0.99 $\\pm$ 0.01 \\\\\n",
      "\\textit{MLP} & 0.97 $\\pm$ 0.05 & 0.94 $\\pm$ 0.07 & 0.82 $\\pm$ 0.13 & 0.99 $\\pm$ 0.03 & 0.99 $\\pm$ 0.01 & 0.99 $\\pm$ 0.01 \\\\ \\hline\n",
      "\\end{tabular}\n",
      "\\caption{Hit performance comparison (mean and standard deviation) between MARLENA-m and GDT trained on the instances to be explained.}\n",
      "\\label{tab:hit_mixed}\n",
      "\\end{table*}\n"
     ]
    }
   ],
   "source": [
    "values_hit = []\n",
    "for bb_name in blackbox_list:\n",
    "    for dataset_name in dataset_list:\n",
    "        values_hit.append(np.mean(hit_mixed[dataset_name][bb_name]))\n",
    "        values_hit.append(np.std(hit_mixed[dataset_name][bb_name]))\n",
    "        values_hit.append(np.mean(hit_gdt[dataset_name][bb_name]))\n",
    "        values_hit.append(np.std(hit_gdt[dataset_name][bb_name]))\n",
    "\n",
    "print(r\"\"\"\\begin{table*}[t]\n",
    "\\setlength{\\tabcolsep}{1mm}\n",
    "\\centering\n",
    "\\small\n",
    "\\begin{tabular}{|c|cc|cc|cc|}\n",
    "\\hline\n",
    "\\textit{Dataset} & \\multicolumn{2}{c|}{yeast} & \\multicolumn{2}{c|}{woman} & \\multicolumn{2}{c|}{medical} \\\\ \\hline\n",
    "\\textit{Black Box} & MARLENA-m & GDT & MARLENA-m & GDT & MARLENA-m & GDT \\\\ \\hline\n",
    "\\textit{RF} & %.2f $\\pm$ %.2f & %.2f $\\pm$ %.2f & %.2f $\\pm$ %.2f & %.2f $\\pm$ %.2f & %.2f $\\pm$ %.2f & %.2f $\\pm$ %.2f \\\\\n",
    "\\textit{SVM} & %.2f $\\pm$ %.2f & %.2f $\\pm$ %.2f & %.2f $\\pm$ %.2f & %.2f $\\pm$ %.2f & %.2f $\\pm$ %.2f & %.2f $\\pm$ %.2f \\\\\n",
    "\\textit{MLP} & %.2f $\\pm$ %.2f & %.2f $\\pm$ %.2f & %.2f $\\pm$ %.2f & %.2f $\\pm$ %.2f & %.2f $\\pm$ %.2f & %.2f $\\pm$ %.2f \\\\ \\hline\n",
    "\\end{tabular}\n",
    "\\caption{Hit performance comparison (mean and standard deviation) between MARLENA-m and GDT trained on the instances to be explained.}\n",
    "\\label{tab:hit_mixed}\n",
    "\\end{table*}\"\"\" % tuple(values_hit))"
   ]
  },
  {
   "cell_type": "code",
   "execution_count": 16,
   "metadata": {},
   "outputs": [
    {
     "name": "stdout",
     "output_type": "stream",
     "text": [
      "Table 3 e plot-UNION\n",
      "yeast\n",
      "\t rf\n",
      "\t\thit MARLENA 0.969 pm 0.047\n",
      "\t\thit GDT 0.982 pm 0.037\n",
      "\t svm\n",
      "\t\thit MARLENA 0.948 pm 0.061\n",
      "\t\thit GDT 0.932 pm 0.067\n",
      "\t mlp\n",
      "\t\thit MARLENA 0.965 pm 0.052\n",
      "\t\thit GDT 0.942 pm 0.066\n",
      "woman\n",
      "\t rf\n",
      "\t\thit MARLENA 0.942 pm 0.066\n",
      "\t\thit GDT 0.985 pm 0.036\n",
      "\t svm\n",
      "\t\thit MARLENA 0.874 pm 0.089\n",
      "\t\thit GDT 0.993 pm 0.025\n",
      "\t mlp\n",
      "\t\thit MARLENA 0.806 pm 0.117\n",
      "\t\thit GDT 0.988 pm 0.034\n",
      "medical\n",
      "\t rf\n",
      "\t\thit MARLENA 0.999 pm 0.004\n",
      "\t\thit GDT 0.999 pm 0.005\n",
      "\t svm\n",
      "\t\thit MARLENA 0.998 pm 0.007\n",
      "\t\thit GDT 0.995 pm 0.012\n",
      "\t mlp\n",
      "\t\thit MARLENA 0.996 pm 0.010\n",
      "\t\thit GDT 0.994 pm 0.013\n"
     ]
    },
    {
     "data": {
      "image/png": "[encoded data removed]",
      "text/plain": [
       "<Figure size 504x288 with 1 Axes>"
      ]
     },
     "metadata": {
      "needs_background": "light"
     },
     "output_type": "display_data"
    }
   ],
   "source": [
    "print('Table 3 e plot-UNION')\n",
    "plt.figure(figsize=(7,4))\n",
    "index = 0\n",
    "label_M = ''\n",
    "label_GDT = ''\n",
    "\n",
    "for dataset_name in dataset_list:\n",
    "    print(dataset_name)\n",
    "    for bb_name in blackbox_list:\n",
    "        print('\\t', bb_name)\n",
    "        print('\\t\\thit MARLENA %.3f pm %.3f' % ( \n",
    "            np.mean(hit_union[dataset_name][bb_name]), np.std(hit_union[dataset_name][bb_name])))\n",
    "        if label_M=='':\n",
    "            label_M='MARLENA'\n",
    "        else:\n",
    "            label_M=None\n",
    "        plt.bar(index, np.mean(hit_union[dataset_name][bb_name]),\\\n",
    "                yerr=np.std(hit_union[dataset_name][bb_name]), color='#2678b2',label=label_M)\n",
    "        index += 1\n",
    "        \n",
    "        print('\\t\\thit GDT %.3f pm %.3f' % ( \n",
    "            np.mean(hit_gdt[dataset_name][bb_name]), np.std(hit_gdt[dataset_name][bb_name])))\n",
    "        if label_GDT=='':\n",
    "            label_GDT='GDT'\n",
    "        else:\n",
    "            label_GDT=None\n",
    "        plt.bar(index, np.mean(hit_gdt[dataset_name][bb_name]),\\\n",
    "                yerr=np.std(hit_gdt[dataset_name][bb_name]), color='#fd974b', label=label_GDT)\n",
    "        index +=2\n",
    "    index += 1\n",
    "    \n",
    "plt.xticks([0.5, 3.0, 6.5, 10.5, 13.5, 16.5, 20.5, 23.5, 26.5], ['RF', 'SVM', 'MLP']*3)\n",
    "plt.legend(loc=(0,1), fontsize=16, ncol=2, labelspacing=0, handlelength=1, frameon=False)\n",
    "plt.title('UNION approach',fontsize=20,y=1.10)\n",
    "plt.tick_params(axis='both', which='major', labelsize=16)\n",
    "plt.xlabel('yeast                woman              medical', fontsize=16)\n",
    "plt.ylabel('hit',fontsize=16)\n",
    "plt.savefig('../fig/UNION_barplot.png', format='png', bbox_inches='tight')\n",
    "plt.show()"
   ]
  },
  {
   "cell_type": "code",
   "execution_count": 17,
   "metadata": {},
   "outputs": [
    {
     "name": "stdout",
     "output_type": "stream",
     "text": [
      "\\begin{table*}[t]\n",
      "\\setlength{\\tabcolsep}{1mm}\n",
      "\\centering\n",
      "\\small\n",
      "\\begin{tabular}{|c|cc|cc|cc|}\n",
      "\\hline\n",
      "\\textit{Dataset} & \\multicolumn{2}{c|}{yeast} & \\multicolumn{2}{c|}{woman} & \\multicolumn{2}{c|}{medical} \\\\ \\hline\n",
      "\\textit{Black Box} & MARLENA-u & GDT & MARLENA-u & GDT & MARLENA-u & GDT \\\\ \\hline\n",
      "\\textit{RF} & 0.97 $\\pm$ 0.05 & 0.98 $\\pm$ 0.04 & 0.94 $\\pm$ 0.07 & 0.99 $\\pm$ 0.04 & 1.00 $\\pm$ 0.00 & 1.00 $\\pm$ 0.01 \\\\\n",
      "\\textit{SVM} & 0.95 $\\pm$ 0.06 & 0.93 $\\pm$ 0.07 & 0.87 $\\pm$ 0.09 & 0.99 $\\pm$ 0.03 & 1.00 $\\pm$ 0.01 & 0.99 $\\pm$ 0.01 \\\\\n",
      "\\textit{MLP} & 0.96 $\\pm$ 0.05 & 0.94 $\\pm$ 0.07 & 0.81 $\\pm$ 0.12 & 0.99 $\\pm$ 0.03 & 1.00 $\\pm$ 0.01 & 0.99 $\\pm$ 0.01 \\\\ \\hline\n",
      "\\end{tabular}\n",
      "\\caption{Hit performance comparison (mean and standard deviation) between MARLENA-u and GDT trained on the instances to be explained.}\n",
      "\\label{tab:hit_union}\n",
      "\\end{table*}\n"
     ]
    }
   ],
   "source": [
    "values_hit = []\n",
    "for bb_name in blackbox_list:\n",
    "    for dataset_name in dataset_list:\n",
    "        values_hit.append(np.mean(hit_union[dataset_name][bb_name]))\n",
    "        values_hit.append(np.std(hit_union[dataset_name][bb_name]))\n",
    "        values_hit.append(np.mean(hit_gdt[dataset_name][bb_name]))\n",
    "        values_hit.append(np.std(hit_gdt[dataset_name][bb_name]))\n",
    "\n",
    "print(r\"\"\"\\begin{table*}[t]\n",
    "\\setlength{\\tabcolsep}{1mm}\n",
    "\\centering\n",
    "\\small\n",
    "\\begin{tabular}{|c|cc|cc|cc|}\n",
    "\\hline\n",
    "\\textit{Dataset} & \\multicolumn{2}{c|}{yeast} & \\multicolumn{2}{c|}{woman} & \\multicolumn{2}{c|}{medical} \\\\ \\hline\n",
    "\\textit{Black Box} & MARLENA-u & GDT & MARLENA-u & GDT & MARLENA-u & GDT \\\\ \\hline\n",
    "\\textit{RF} & %.2f $\\pm$ %.2f & %.2f $\\pm$ %.2f & %.2f $\\pm$ %.2f & %.2f $\\pm$ %.2f & %.2f $\\pm$ %.2f & %.2f $\\pm$ %.2f \\\\\n",
    "\\textit{SVM} & %.2f $\\pm$ %.2f & %.2f $\\pm$ %.2f & %.2f $\\pm$ %.2f & %.2f $\\pm$ %.2f & %.2f $\\pm$ %.2f & %.2f $\\pm$ %.2f \\\\\n",
    "\\textit{MLP} & %.2f $\\pm$ %.2f & %.2f $\\pm$ %.2f & %.2f $\\pm$ %.2f & %.2f $\\pm$ %.2f & %.2f $\\pm$ %.2f & %.2f $\\pm$ %.2f \\\\ \\hline\n",
    "\\end{tabular}\n",
    "\\caption{Hit performance comparison (mean and standard deviation) between MARLENA-u and GDT trained on the instances to be explained.}\n",
    "\\label{tab:hit_union}\n",
    "\\end{table*}\"\"\" % tuple(values_hit))"
   ]
  },
  {
   "cell_type": "markdown",
   "metadata": {},
   "source": [
    "# Measures of rule lenght for the GDT"
   ]
  },
  {
   "cell_type": "code",
   "execution_count": 18,
   "metadata": {},
   "outputs": [
    {
     "name": "stdout",
     "output_type": "stream",
     "text": [
      "2018-11-10 10:20:49.399829 dataset: yeast\n",
      "2018-11-10 10:20:49.399978 blackbox: rf\n",
      "2018-11-10 10:20:49.445393 blackbox: svm\n",
      "2018-11-10 10:20:49.487338 blackbox: mlp\n",
      "2018-11-10 10:20:49.523370 dataset: woman\n",
      "2018-11-10 10:20:49.523430 blackbox: rf\n",
      "2018-11-10 10:20:49.780947 blackbox: svm\n",
      "2018-11-10 10:20:49.992321 blackbox: mlp\n",
      "2018-11-10 10:20:50.206277 dataset: medical\n",
      "2018-11-10 10:20:50.206360 blackbox: rf\n",
      "2018-11-10 10:20:50.251866 blackbox: svm\n",
      "2018-11-10 10:20:50.294785 blackbox: mlp\n"
     ]
    }
   ],
   "source": [
    "bb_labels = defaultdict(lambda: defaultdict(list))\n",
    "mixed_marlena_labels = defaultdict(lambda: defaultdict(list))\n",
    "union_marlena_labels = defaultdict(lambda: defaultdict(list))\n",
    "mixed_marlena_rule_lenght = defaultdict(lambda: defaultdict(list))\n",
    "union_marlena_rule_lenght = defaultdict(lambda: defaultdict(list))\n",
    "\n",
    "\n",
    "for dataset in dataset_list:\n",
    "    print(datetime.datetime.now(), 'dataset: %s' % dataset)\n",
    "    for bb_name in blackbox_list: \n",
    "        print(datetime.datetime.now(), 'blackbox: %s' % bb_name)\n",
    "        \n",
    "        file_name = [output for output in output_files if dataset in output and bb_name in output][0]\n",
    "        resfile = gzip.open('../output/'+file_name, 'rb')\n",
    "        \n",
    "        for row in resfile:\n",
    "            r = json.loads(row.decode('utf-8').strip())\n",
    "            bb_name = r['bb_name']\n",
    "            dataset_name = r['dataset_name']\n",
    "            bb_labels[dataset_name][bb_name].append(r['i2e_bb_label'])\n",
    "            mixed_marlena_labels[dataset_name][bb_name].append(r['i2e_tree1_label']) \n",
    "            union_marlena_labels[dataset_name][bb_name].append(r['i2e_tree2_label']) \n",
    "            mixed_marlena_rule_lenght[dataset_name][bb_name].append(r['lenght_rule_tree1'])\n",
    "            union_marlena_rule_lenght[dataset_name][bb_name].append(r['lenght_rule_tree2'])\n",
    "        resfile.close()"
   ]
  },
  {
   "cell_type": "code",
   "execution_count": 38,
   "metadata": {},
   "outputs": [
    {
     "name": "stdout",
     "output_type": "stream",
     "text": [
      "\\begin{table*}[t]\n",
      "\\setlength{\\tabcolsep}{1mm}\n",
      "\\centering\n",
      "\\begin{tabular}{|c|cc|cc|cc|}\n",
      "\\hline\n",
      "\\textit{Dataset} & \\multicolumn{2}{c|}{yeast} & \\multicolumn{2}{c|}{woman} & \\multicolumn{2}{c|}{medical} \\\\ \\hline\n",
      "\\textit{Black Box} & MARLENA-u & GDT & MARLENA & GDT & MARLENA-u & GDT \\\\ \\hline\n",
      "\\textit{RF} & 2.92 $\\pm$ 2.27 & 9.09 $\\pm$ 3.35 & 4.30 $\\pm$ 0.98 & 13.20 $\\pm$ 4.56 & 1.41 $\\pm$ 1.90 & 7.70 $\\pm$ 3.12 \\\\\n",
      "\\textit{SVM} & 3.29 $\\pm$ 2.24 & 5.68 $\\pm$ 1.47 & 4.31 $\\pm$ 1.51 & 16.30 $\\pm$ 6.61 & 5.35 $\\pm$ 1.67 & 11.76 $\\pm$ 4.82 \\\\\n",
      "\\textit{MLP} & 2.44 $\\pm$ 1.99 & 6.70 $\\pm$ 2.36 & 2.93 $\\pm$ 1.17 & 14.85 $\\pm$ 6.17 & 4.58 $\\pm$ 1.40 & 10.77 $\\pm$ 5.40 \\\\ \\hline\n",
      "\\end{tabular}\n",
      "\\caption{Mean rule length and standard deviation comparison between \\mbox{MARLENA-m} and GDT trained on the instances to be explained.}\n",
      "\\label{tab:rule_len_mixed}\n",
      "\\end{table*}\n"
     ]
    }
   ],
   "source": [
    "rule_len_values = []\n",
    "for bb_name in blackbox_list:\n",
    "    for dataset_name in dataset_list:\n",
    "        mixed_mr = np.asarray(mixed_marlena_rule_lenght[dataset_name][bb_name])\n",
    "        union_mr = np.asarray(union_marlena_rule_lenght[dataset_name][bb_name])\n",
    "        gdt_mr = np.asarray(list(map(int, rules_len_gdt[dataset_name][bb_name])))\n",
    "        \n",
    "        rule_len_values.append(np.mean(mixed_mr))\n",
    "        rule_len_values.append(np.std(mixed_mr))\n",
    "        rule_len_values.append(np.mean(gdt_mr))\n",
    "        rule_len_values.append(np.std(gdt_mr))\n",
    "\n",
    "print(r\"\"\"\\begin{table*}[t]\n",
    "\\setlength{\\tabcolsep}{1mm}\n",
    "\\centering\n",
    "\\begin{tabular}{|c|cc|cc|cc|}\n",
    "\\hline\n",
    "\\textit{Dataset} & \\multicolumn{2}{c|}{yeast} & \\multicolumn{2}{c|}{woman} & \\multicolumn{2}{c|}{medical} \\\\ \\hline\n",
    "\\textit{Black Box} & MARLENA-u & GDT & MARLENA & GDT & MARLENA-u & GDT \\\\ \\hline\n",
    "\\textit{RF} & %.2f $\\pm$ %.2f & %.2f $\\pm$ %.2f & %.2f $\\pm$ %.2f & %.2f $\\pm$ %.2f & %.2f $\\pm$ %.2f & %.2f $\\pm$ %.2f \\\\\n",
    "\\textit{SVM} & %.2f $\\pm$ %.2f & %.2f $\\pm$ %.2f & %.2f $\\pm$ %.2f & %.2f $\\pm$ %.2f & %.2f $\\pm$ %.2f & %.2f $\\pm$ %.2f \\\\\n",
    "\\textit{MLP} & %.2f $\\pm$ %.2f & %.2f $\\pm$ %.2f & %.2f $\\pm$ %.2f & %.2f $\\pm$ %.2f & %.2f $\\pm$ %.2f & %.2f $\\pm$ %.2f \\\\ \\hline\n",
    "\\end{tabular}\n",
    "\\caption{Mean rule length and standard deviation comparison between \\mbox{MARLENA-m} and GDT trained on the instances to be explained.}\n",
    "\\label{tab:rule_len_mixed}\n",
    "\\end{table*}\"\"\" % tuple(rule_len_values))"
   ]
  },
  {
   "cell_type": "code",
   "execution_count": 39,
   "metadata": {},
   "outputs": [
    {
     "name": "stdout",
     "output_type": "stream",
     "text": [
      "\\begin{table*}[t]\n",
      "\\setlength{\\tabcolsep}{1mm}\n",
      "\\centering\n",
      "\\begin{tabular}{|c|cc|cc|cc|}\n",
      "\\hline\n",
      "\\textit{Dataset} & \\multicolumn{2}{c|}{yeast} & \\multicolumn{2}{c|}{woman} & \\multicolumn{2}{c|}{medical} \\\\ \\hline\n",
      "\\textit{Black Box} & MARLENA-u & GDT & MARLENA & GDT & MARLENA-u & GDT \\\\ \\hline\n",
      "\\textit{RF} & 2.91 $\\pm$ 2.44 & 9.09 $\\pm$ 3.35 & 4.36 $\\pm$ 1.19 & 13.20 $\\pm$ 4.56 & 1.80 $\\pm$ 2.01 & 7.70 $\\pm$ 3.12 \\\\\n",
      "\\textit{SVM} & 3.18 $\\pm$ 1.99 & 5.68 $\\pm$ 1.47 & 4.36 $\\pm$ 1.62 & 16.30 $\\pm$ 6.61 & 4.31 $\\pm$ 2.32 & 11.76 $\\pm$ 4.82 \\\\\n",
      "\\textit{MLP} & 2.70 $\\pm$ 2.30 & 6.70 $\\pm$ 2.36 & 2.77 $\\pm$ 1.42 & 14.85 $\\pm$ 6.17 & 4.50 $\\pm$ 1.75 & 10.77 $\\pm$ 5.40 \\\\ \\hline\n",
      "\\end{tabular}\n",
      "\\caption{Mean rule length and standard deviation comparison between MARLENA-u and GDT trained on the instances to be explained.}\n",
      "\\label{tab:rule_len_uni}\n",
      "\\end{table*}\n"
     ]
    }
   ],
   "source": [
    "rule_len_values = []\n",
    "\n",
    "for bb_name in blackbox_list:\n",
    "    for dataset_name in dataset_list:\n",
    "        mixed_mr = np.asarray(mixed_marlena_rule_lenght[dataset_name][bb_name])\n",
    "        union_mr = np.asarray(union_marlena_rule_lenght[dataset_name][bb_name])\n",
    "        gdt_mr = np.asarray(list(map(int, rules_len_gdt[dataset_name][bb_name])))\n",
    "        \n",
    "        rule_len_values.append(np.mean(union_mr))\n",
    "        rule_len_values.append(np.std(union_mr))\n",
    "        rule_len_values.append(np.mean(gdt_mr))\n",
    "        rule_len_values.append(np.std(gdt_mr))\n",
    "\n",
    "print(r\"\"\"\\begin{table*}[t]\n",
    "\\setlength{\\tabcolsep}{1mm}\n",
    "\\centering\n",
    "\\begin{tabular}{|c|cc|cc|cc|}\n",
    "\\hline\n",
    "\\textit{Dataset} & \\multicolumn{2}{c|}{yeast} & \\multicolumn{2}{c|}{woman} & \\multicolumn{2}{c|}{medical} \\\\ \\hline\n",
    "\\textit{Black Box} & MARLENA-u & GDT & MARLENA & GDT & MARLENA-u & GDT \\\\ \\hline\n",
    "\\textit{RF} & %.2f $\\pm$ %.2f & %.2f $\\pm$ %.2f & %.2f $\\pm$ %.2f & %.2f $\\pm$ %.2f & %.2f $\\pm$ %.2f & %.2f $\\pm$ %.2f \\\\\n",
    "\\textit{SVM} & %.2f $\\pm$ %.2f & %.2f $\\pm$ %.2f & %.2f $\\pm$ %.2f & %.2f $\\pm$ %.2f & %.2f $\\pm$ %.2f & %.2f $\\pm$ %.2f \\\\\n",
    "\\textit{MLP} & %.2f $\\pm$ %.2f & %.2f $\\pm$ %.2f & %.2f $\\pm$ %.2f & %.2f $\\pm$ %.2f & %.2f $\\pm$ %.2f & %.2f $\\pm$ %.2f \\\\ \\hline\n",
    "\\end{tabular}\n",
    "\\caption{Mean rule length and standard deviation comparison between MARLENA-u and GDT trained on the instances to be explained.}\n",
    "\\label{tab:rule_len_uni}\n",
    "\\end{table*}\"\"\" % tuple(rule_len_values))"
   ]
  },
  {
   "cell_type": "code",
   "execution_count": 33,
   "metadata": {},
   "outputs": [
    {
     "name": "stdout",
     "output_type": "stream",
     "text": [
      "yeast\n",
      "\t rf\n",
      "MARLENA-m mean rule lenght\t 2.92 $\\pm$ 2.27\n",
      "MARLENA-u mean rule lenght\t 2.91 $\\pm$ 2.44\n",
      "GDT: mean rule lenght\t\t 9.09 $\\pm$ 3.35\n",
      "\t svm\n",
      "MARLENA-m mean rule lenght\t 3.29 $\\pm$ 2.24\n",
      "MARLENA-u mean rule lenght\t 3.18 $\\pm$ 1.99\n",
      "GDT: mean rule lenght\t\t 5.68 $\\pm$ 1.47\n",
      "\t mlp\n",
      "MARLENA-m mean rule lenght\t 2.44 $\\pm$ 1.99\n",
      "MARLENA-u mean rule lenght\t 2.70 $\\pm$ 2.30\n",
      "GDT: mean rule lenght\t\t 6.70 $\\pm$ 2.36\n",
      "\n",
      "woman\n",
      "\t rf\n",
      "MARLENA-m mean rule lenght\t 4.30 $\\pm$ 0.98\n",
      "MARLENA-u mean rule lenght\t 4.36 $\\pm$ 1.19\n",
      "GDT: mean rule lenght\t\t 13.20 $\\pm$ 4.56\n",
      "\t svm\n",
      "MARLENA-m mean rule lenght\t 4.31 $\\pm$ 1.51\n",
      "MARLENA-u mean rule lenght\t 4.36 $\\pm$ 1.62\n",
      "GDT: mean rule lenght\t\t 16.30 $\\pm$ 6.61\n",
      "\t mlp\n",
      "MARLENA-m mean rule lenght\t 2.93 $\\pm$ 1.17\n",
      "MARLENA-u mean rule lenght\t 2.77 $\\pm$ 1.42\n",
      "GDT: mean rule lenght\t\t 14.85 $\\pm$ 6.17\n",
      "\n",
      "medical\n",
      "\t rf\n",
      "MARLENA-m mean rule lenght\t 1.41 $\\pm$ 1.90\n",
      "MARLENA-u mean rule lenght\t 1.80 $\\pm$ 2.01\n",
      "GDT: mean rule lenght\t\t 7.70 $\\pm$ 3.12\n",
      "\t svm\n",
      "MARLENA-m mean rule lenght\t 5.35 $\\pm$ 1.67\n",
      "MARLENA-u mean rule lenght\t 4.31 $\\pm$ 2.32\n",
      "GDT: mean rule lenght\t\t 11.76 $\\pm$ 4.82\n",
      "\t mlp\n",
      "MARLENA-m mean rule lenght\t 4.58 $\\pm$ 1.40\n",
      "MARLENA-u mean rule lenght\t 4.50 $\\pm$ 1.75\n",
      "GDT: mean rule lenght\t\t 10.77 $\\pm$ 5.40\n",
      "\n"
     ]
    }
   ],
   "source": [
    "rule_len_values = []\n",
    "for dataset in dataset_list:\n",
    "    print(dataset)\n",
    "    for bb_name in blackbox_list:\n",
    "        \n",
    "        print('\\t', bb_name)\n",
    "        mixed_mr = np.asarray(mixed_marlena_rule_lenght[dataset][bb_name])\n",
    "        union_mr = np.asarray(union_marlena_rule_lenght[dataset][bb_name])\n",
    "        gdt_mr = np.asarray(list(map(int, rules_len_gdt[dataset][bb_name])))\n",
    "        \n",
    "        print('MARLENA-m mean rule lenght\\t %.2f $\\pm$ %.2f' % (np.mean(mixed_mr),np.std(mixed_mr)))\n",
    "        rule_len_values.append(np.mean(mixed_mr))\n",
    "        rule_len_values.append(np.std(mixed_mr))\n",
    "        print('MARLENA-u mean rule lenght\\t %.2f $\\pm$ %.2f' % (np.mean(union_mr),np.std(union_mr)))\n",
    "        rule_len_values.append(np.mean(union_mr))\n",
    "        rule_len_values.append(np.std(union_mr))\n",
    "        print('GDT: mean rule lenght\\t\\t %.2f $\\pm$ %.2f' % (np.mean(gdt_mr),np.std(gdt_mr)))\n",
    "        rule_len_values.append(np.mean(gdt_mr))\n",
    "        rule_len_values.append(np.std(gdt_mr))\n",
    "\n",
    "    print('')"
   ]
  },
  {
   "cell_type": "markdown",
   "metadata": {},
   "source": [
    "## Rules qualitative evalutation"
   ]
  },
  {
   "cell_type": "code",
   "execution_count": 22,
   "metadata": {},
   "outputs": [],
   "source": [
    "ICD9_code_descr_df = pd.read_excel('../dataset/ICD-9-CM-v32-master-descriptions/CMS32_DESC_LONG_SHORT_DX.xlsx')\n",
    "ICD9_code_descr_df.rename(columns={'DIAGNOSIS CODE':'diag_code','LONG DESCRIPTION':'long_descr','SHORT DESCRIPTION':'short_descr'},inplace=True)"
   ]
  },
  {
   "cell_type": "code",
   "execution_count": 23,
   "metadata": {},
   "outputs": [],
   "source": [
    "from skmultilearn.dataset import load_from_arff\n",
    "\n",
    "data = load_from_arff(\"../dataset/dataset_raw/medical.arff\",\\\n",
    "                      label_count=45,\\\n",
    "                      load_sparse=False,\\\n",
    "                      return_attribute_definitions=True)\n",
    "cols_X = [i[0] for i in data[2]]\n",
    "cols_Y = [i[0] for i in data[3]]"
   ]
  },
  {
   "cell_type": "markdown",
   "metadata": {},
   "source": [
    "#### MARLENA"
   ]
  },
  {
   "cell_type": "code",
   "execution_count": 24,
   "metadata": {},
   "outputs": [
    {
     "name": "stdout",
     "output_type": "stream",
     "text": [
      "2018-11-10 10:20:51.385797 dataset: yeast\n",
      "2018-11-10 10:20:51.385899 blackbox: rf\n",
      "2018-11-10 10:20:51.431673 blackbox: svm\n",
      "2018-11-10 10:20:51.472002 blackbox: mlp\n",
      "2018-11-10 10:20:51.512637 dataset: woman\n",
      "2018-11-10 10:20:51.512857 blackbox: rf\n",
      "2018-11-10 10:20:51.781203 blackbox: svm\n",
      "2018-11-10 10:20:52.009483 blackbox: mlp\n",
      "2018-11-10 10:20:52.230572 dataset: medical\n",
      "2018-11-10 10:20:52.230677 blackbox: rf\n",
      "2018-11-10 10:20:52.272215 blackbox: svm\n",
      "2018-11-10 10:20:52.320938 blackbox: mlp\n"
     ]
    }
   ],
   "source": [
    "mixed_marlena_rule = defaultdict(lambda: defaultdict(list))\n",
    "union_marlena_rule = defaultdict(lambda: defaultdict(list))\n",
    "\n",
    "for dataset in dataset_list:\n",
    "    print(datetime.datetime.now(), 'dataset: %s' % dataset)\n",
    "    for bb_name in blackbox_list: \n",
    "        print(datetime.datetime.now(), 'blackbox: %s' % bb_name)\n",
    "        \n",
    "        file_name = [output for output in output_files if dataset in output and bb_name in output][0]\n",
    "        resfile = gzip.open('../output/'+file_name, 'rb')\n",
    "        \n",
    "        for row in resfile:\n",
    "            r = json.loads(row.decode('utf-8').strip())\n",
    "            bb_name = r['bb_name']\n",
    "            dataset_name = r['dataset_name']\n",
    "            if r['fidelity_tree1_syn'] > 0 \\\n",
    "            and r['fidelity_tree1_kNN'] > 0 \\\n",
    "            and r['fidelity_tree2_syn'] > 0 \\\n",
    "            and r['fidelity_tree2_kNN'] > 0:\n",
    "                if r['i2e_bb_label'] == r['i2e_tree1_label']:\n",
    "                    mixed_marlena_rule[dataset_name][bb_name].append((r['i2e_id'],r['rule_tree1']))\n",
    "                if r['i2e_bb_label'] == r['i2e_tree2_label']:\n",
    "                    union_marlena_rule[dataset_name][bb_name].append((r['i2e_id'],r['rule_tree2']))\n",
    "        \n",
    "        resfile.close()"
   ]
  },
  {
   "cell_type": "code",
   "execution_count": 25,
   "metadata": {},
   "outputs": [],
   "source": [
    "potential_rules = []\n",
    "for rule in mixed_marlena_rule['medical']['svm']:\n",
    "    \n",
    "    rule_antecedent = rule[1].split('[')[0]\n",
    "    rule_consequence = rule[1].split('[')[1].strip(']')\n",
    "    \n",
    "    rule_consequence = ','.join(e for e in rule_consequence if e.isalnum())\n",
    "    rule_consequence = [int(s) for s in rule_consequence.split(',') if s.isdigit()]\n",
    "    rule_consequence = pd.Series(rule_consequence,index=cols_Y)\n",
    "    rule_consequence = rule_consequence[rule_consequence.values==1]\n",
    "    \n",
    "    if len(rule_consequence[rule_consequence.values==1])>1:\n",
    "        potential_rules.append((rule[0],rule_antecedent,rule_consequence))"
   ]
  },
  {
   "cell_type": "code",
   "execution_count": 26,
   "metadata": {},
   "outputs": [
    {
     "name": "stdout",
     "output_type": "stream",
     "text": [
      "error, diagnosis 7955 is not in database\n",
      "error, diagnosis 7806 is not in database\n",
      "error, diagnosis 7806 is not in database\n",
      "error, diagnosis 7806 is not in database\n",
      "error, diagnosis 7806 is not in database\n",
      "error, diagnosis 7806 is not in database\n",
      "error, diagnosis 7806 is not in database\n",
      "error, diagnosis 7806 is not in database\n",
      "error, diagnosis 7806 is not in database\n",
      "error, diagnosis 7806 is not in database\n",
      "error, diagnosis 7806 is not in database\n",
      "error, diagnosis 7806 is not in database\n",
      "error, diagnosis 7806 is not in database\n"
     ]
    }
   ],
   "source": [
    "diagnoses_rules = []\n",
    "\n",
    "for potential_rule in potential_rules:\n",
    "    diag_str_list = []\n",
    "    for diagnoses in potential_rule[2].index.values:\n",
    "        diagnosis = diagnoses.split('-')[2].replace('_', '')\n",
    "        try:\n",
    "            diagnosis_name = ICD9_code_descr_df[ICD9_code_descr_df.diag_code==diagnosis].long_descr.values[0]\n",
    "        except:\n",
    "            diagnosis_name = 'NA'\n",
    "            print('error, diagnosis %s is not in database' % diagnosis)\n",
    "        diag_str = ': '.join([diagnosis,diagnosis_name])\n",
    "        diag_str_list.append(diag_str)\n",
    "    diagnoses_rules.append((potential_rule[0],''.join([potential_rule[1],', '.join(diag_str_list)])))"
   ]
  },
  {
   "cell_type": "code",
   "execution_count": 27,
   "metadata": {},
   "outputs": [
    {
     "data": {
      "text/plain": [
       "('2',\n",
       " 'duplication=0.0 <= 0.5, reflux=0.0 <= 0.5, hydronephrosis=1.0 > 0.5, normal=1.0 > 0.5, pyelectasis=1.0 > 0.5, mild=1.0 > 0.5 -> 78830: Urinary incontinence, unspecified, 591: Hydronephrosis')"
      ]
     },
     "execution_count": 27,
     "metadata": {},
     "output_type": "execute_result"
    }
   ],
   "source": [
    "diagnoses_rules[1]"
   ]
  },
  {
   "cell_type": "markdown",
   "metadata": {},
   "source": [
    "#### GDT "
   ]
  },
  {
   "cell_type": "code",
   "execution_count": 28,
   "metadata": {},
   "outputs": [],
   "source": [
    "gdt_rules_understandable = []\n",
    "\n",
    "for rule in gdt_rules['medical']['svm']:\n",
    "    \n",
    "    rule_antecedent = rule[1].split('[')[0]\n",
    "    rule_consequence = rule[1].split('[')[1].strip(']')\n",
    "    \n",
    "    rule_consequence = ','.join(e for e in rule_consequence if e.isalnum())\n",
    "    rule_consequence = [int(s) for s in rule_consequence.split(',') if s.isdigit()]\n",
    "    rule_consequence = pd.Series(rule_consequence,index=cols_Y)\n",
    "    rule_consequence = rule_consequence[rule_consequence.values==1]\n",
    "    gdt_rules_understandable.append((rule[0],rule_antecedent,rule_consequence))"
   ]
  },
  {
   "cell_type": "code",
   "execution_count": 29,
   "metadata": {},
   "outputs": [
    {
     "name": "stdout",
     "output_type": "stream",
     "text": [
      "error, diagnosis 7806 is not in database\n",
      "error, diagnosis 7806 is not in database\n",
      "error, diagnosis 7955 is not in database\n",
      "error, diagnosis 7806 is not in database\n",
      "error, diagnosis 7806 is not in database\n",
      "error, diagnosis 7806 is not in database\n",
      "error, diagnosis 7806 is not in database\n",
      "error, diagnosis 7806 is not in database\n",
      "error, diagnosis 7806 is not in database\n",
      "error, diagnosis 7806 is not in database\n",
      "error, diagnosis 7955 is not in database\n",
      "error, diagnosis 7806 is not in database\n",
      "error, diagnosis 7806 is not in database\n",
      "error, diagnosis 7806 is not in database\n",
      "error, diagnosis 7806 is not in database\n",
      "error, diagnosis 7955 is not in database\n",
      "error, diagnosis 7806 is not in database\n",
      "error, diagnosis 7806 is not in database\n",
      "error, diagnosis 7806 is not in database\n",
      "error, diagnosis 7806 is not in database\n",
      "error, diagnosis 7955 is not in database\n",
      "error, diagnosis 7955 is not in database\n",
      "error, diagnosis 7806 is not in database\n",
      "error, diagnosis 7806 is not in database\n",
      "error, diagnosis 7806 is not in database\n",
      "error, diagnosis 7806 is not in database\n",
      "error, diagnosis 7806 is not in database\n",
      "error, diagnosis 7806 is not in database\n",
      "error, diagnosis 7955 is not in database\n",
      "error, diagnosis 7806 is not in database\n",
      "error, diagnosis 7806 is not in database\n",
      "error, diagnosis 7806 is not in database\n",
      "error, diagnosis 7806 is not in database\n",
      "error, diagnosis 7806 is not in database\n",
      "error, diagnosis 7806 is not in database\n",
      "error, diagnosis 7806 is not in database\n",
      "error, diagnosis 7806 is not in database\n",
      "error, diagnosis 7806 is not in database\n",
      "error, diagnosis 7806 is not in database\n",
      "error, diagnosis 7806 is not in database\n",
      "error, diagnosis 7806 is not in database\n",
      "error, diagnosis 7806 is not in database\n",
      "error, diagnosis 7806 is not in database\n",
      "error, diagnosis 7955 is not in database\n",
      "error, diagnosis 7806 is not in database\n",
      "error, diagnosis 7955 is not in database\n",
      "error, diagnosis 7806 is not in database\n",
      "error, diagnosis 7806 is not in database\n",
      "error, diagnosis 7806 is not in database\n",
      "error, diagnosis 7806 is not in database\n",
      "error, diagnosis 7806 is not in database\n",
      "error, diagnosis 7806 is not in database\n",
      "error, diagnosis 7806 is not in database\n",
      "error, diagnosis 7806 is not in database\n",
      "error, diagnosis 7806 is not in database\n",
      "error, diagnosis 7806 is not in database\n",
      "error, diagnosis 7955 is not in database\n",
      "error, diagnosis 7806 is not in database\n",
      "error, diagnosis 7806 is not in database\n",
      "error, diagnosis 7806 is not in database\n",
      "error, diagnosis 7806 is not in database\n",
      "error, diagnosis 7806 is not in database\n",
      "error, diagnosis 7806 is not in database\n",
      "error, diagnosis 7806 is not in database\n",
      "error, diagnosis 7955 is not in database\n",
      "error, diagnosis 7806 is not in database\n",
      "error, diagnosis 7806 is not in database\n",
      "error, diagnosis 7806 is not in database\n",
      "error, diagnosis 7806 is not in database\n",
      "error, diagnosis 7955 is not in database\n",
      "error, diagnosis 7955 is not in database\n",
      "error, diagnosis 7806 is not in database\n",
      "error, diagnosis 7806 is not in database\n",
      "error, diagnosis 7806 is not in database\n",
      "error, diagnosis 7806 is not in database\n",
      "error, diagnosis 7806 is not in database\n",
      "error, diagnosis 7806 is not in database\n",
      "error, diagnosis 7955 is not in database\n",
      "error, diagnosis 7806 is not in database\n",
      "error, diagnosis 7806 is not in database\n",
      "error, diagnosis 7955 is not in database\n",
      "error, diagnosis 7806 is not in database\n",
      "error, diagnosis 7806 is not in database\n",
      "error, diagnosis 7955 is not in database\n",
      "error, diagnosis 7806 is not in database\n",
      "error, diagnosis 7806 is not in database\n",
      "error, diagnosis 7806 is not in database\n",
      "error, diagnosis 7806 is not in database\n",
      "error, diagnosis 7806 is not in database\n",
      "error, diagnosis 7806 is not in database\n",
      "error, diagnosis 7806 is not in database\n",
      "error, diagnosis 7806 is not in database\n",
      "error, diagnosis 7955 is not in database\n",
      "error, diagnosis 7806 is not in database\n",
      "error, diagnosis 7806 is not in database\n",
      "error, diagnosis 7806 is not in database\n",
      "error, diagnosis 7955 is not in database\n",
      "error, diagnosis 7806 is not in database\n",
      "error, diagnosis 7806 is not in database\n",
      "error, diagnosis 7955 is not in database\n",
      "error, diagnosis 7806 is not in database\n",
      "error, diagnosis 7806 is not in database\n",
      "error, diagnosis 7806 is not in database\n",
      "error, diagnosis 7806 is not in database\n",
      "error, diagnosis 7806 is not in database\n",
      "error, diagnosis 7806 is not in database\n",
      "error, diagnosis 7806 is not in database\n",
      "error, diagnosis 7955 is not in database\n",
      "error, diagnosis 7806 is not in database\n",
      "error, diagnosis 7806 is not in database\n",
      "error, diagnosis 7806 is not in database\n",
      "error, diagnosis 7806 is not in database\n",
      "error, diagnosis 7806 is not in database\n",
      "error, diagnosis 7955 is not in database\n",
      "error, diagnosis 7806 is not in database\n",
      "error, diagnosis 7806 is not in database\n",
      "error, diagnosis 7806 is not in database\n",
      "error, diagnosis 7806 is not in database\n",
      "error, diagnosis 7806 is not in database\n",
      "error, diagnosis 7806 is not in database\n",
      "error, diagnosis 7806 is not in database\n",
      "error, diagnosis 7806 is not in database\n",
      "error, diagnosis 7806 is not in database\n",
      "error, diagnosis 7806 is not in database\n",
      "error, diagnosis 7806 is not in database\n",
      "error, diagnosis 7806 is not in database\n",
      "error, diagnosis 7806 is not in database\n",
      "error, diagnosis 7955 is not in database\n",
      "error, diagnosis 7806 is not in database\n",
      "error, diagnosis 7806 is not in database\n",
      "error, diagnosis 7955 is not in database\n",
      "error, diagnosis 7806 is not in database\n",
      "error, diagnosis 7806 is not in database\n",
      "error, diagnosis 7806 is not in database\n",
      "error, diagnosis 7806 is not in database\n",
      "error, diagnosis 7806 is not in database\n",
      "error, diagnosis 7806 is not in database\n"
     ]
    }
   ],
   "source": [
    "gdt_diagnoses_rules = []\n",
    "\n",
    "for potential_rule in gdt_rules_understandable:\n",
    "    diag_str_list = []\n",
    "    for diagnoses in potential_rule[2].index.values:\n",
    "        diagnosis = diagnoses.split('-')[2].replace('_', '')\n",
    "        try:\n",
    "            diagnosis_name = ICD9_code_descr_df[ICD9_code_descr_df.diag_code==diagnosis].long_descr.values[0]\n",
    "        except:\n",
    "            diagnosis_name = 'NA'\n",
    "            print('error, diagnosis %s is not in database' % diagnosis)\n",
    "        diag_str = ': '.join([diagnosis,diagnosis_name])\n",
    "        diag_str_list.append(diag_str)\n",
    "    gdt_diagnoses_rules.append((potential_rule[0],''.join([potential_rule[1],', '.join(diag_str_list)])))"
   ]
  },
  {
   "cell_type": "code",
   "execution_count": 30,
   "metadata": {},
   "outputs": [
    {
     "data": {
      "text/plain": [
       "('2',\n",
       " 'cough=0.0 <= 0.5, reflux=0.0 <= 0.5, hydronephrosis=1.0 > 0.5, neurogenic=0.0 <= 0.5, pyelectasis=1.0 > 0.5 -> 78830: Urinary incontinence, unspecified, 591: Hydronephrosis')"
      ]
     },
     "execution_count": 30,
     "metadata": {},
     "output_type": "execute_result"
    }
   ],
   "source": [
    "gdt_diagnoses_rules[2]"
   ]
  },
  {
   "cell_type": "code",
   "execution_count": null,
   "metadata": {},
   "outputs": [],
   "source": []
  }
 ],
 "metadata": {
  "kernelspec": {
   "display_name": "Python 3",
   "language": "python",
   "name": "python3"
  },
  "language_info": {
   "codemirror_mode": {
    "name": "ipython",
    "version": 3
   },
   "file_extension": ".py",
   "mimetype": "text/x-python",
   "name": "python",
   "nbconvert_exporter": "python",
   "pygments_lexer": "ipython3",
   "version": "3.6.6"
  }
 },
 "nbformat": 4,
 "nbformat_minor": 2
}
