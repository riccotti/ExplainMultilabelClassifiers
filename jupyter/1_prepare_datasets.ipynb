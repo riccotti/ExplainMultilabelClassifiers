{
 "cells": [
  {
   "cell_type": "code",
   "execution_count": null,
   "metadata": {},
   "outputs": [],
   "source": [
    "%matplotlib inline\n",
    "\n",
    "import numpy as np\n",
    "import pandas as pd\n",
    "import matplotlib.pyplot as plt\n",
    "\n",
    "from scipy.io import arff\n",
    "import pickle\n",
    "from skmultilearn.dataset import load_from_arff\n",
    "\n",
    "from sklearn.preprocessing import LabelEncoder\n",
    "from sklearn.preprocessing import OneHotEncoder\n",
    "from sklearn.model_selection import train_test_split"
   ]
  },
  {
   "cell_type": "markdown",
   "metadata": {},
   "source": [
    "For the diabetes dataset https://www.hindawi.com/journals/bmri/2014/781670/tab1/"
   ]
  },
  {
   "cell_type": "code",
   "execution_count": null,
   "metadata": {},
   "outputs": [],
   "source": [
    "#dictionaries with key: dataset, value: list of lists, 0: continuos variables, 1: discrete variables\n",
    "columns_type_dataset = {'yeast':[['Att1', 'Att2', 'Att3', 'Att4', 'Att5', 'Att6', 'Att7', 'Att8', 'Att9', 'Att10', 'Att11', 'Att12', 'Att13', 'Att14', 'Att15', 'Att16', 'Att17', 'Att18', 'Att19', 'Att20', 'Att21', 'Att22', 'Att23', 'Att24', 'Att25', 'Att26', 'Att27', 'Att28', 'Att29', 'Att30', 'Att31', 'Att32', 'Att33', 'Att34', 'Att35', 'Att36', 'Att37', 'Att38', 'Att39', 'Att40', 'Att41', 'Att42', 'Att43', 'Att44', 'Att45', 'Att46', 'Att47', 'Att48', 'Att49', 'Att50', 'Att51', 'Att52', 'Att53', 'Att54', 'Att55', 'Att56', 'Att57', 'Att58', 'Att59', 'Att60', 'Att61', 'Att62', 'Att63', 'Att64', 'Att65', 'Att66', 'Att67', 'Att68', 'Att69', 'Att70', 'Att71', 'Att72', 'Att73', 'Att74', 'Att75', 'Att76', 'Att77', 'Att78', 'Att79', 'Att80', 'Att81', 'Att82', 'Att83', 'Att84', 'Att85', 'Att86', 'Att87', 'Att88', 'Att89', 'Att90', 'Att91', 'Att92', 'Att93', 'Att94', 'Att95', 'Att96', 'Att97', 'Att98', 'Att99', 'Att100', 'Att101', 'Att102', 'Att103'],[]],\\\n",
    "                       'diabete':[['age','time_in_hospital','num_lab_procedures','num_procedures','num_medications','number_outpatient','number_emergency','number_inpatient','number_diagnoses'],['race','gender','admission_type_id','discharge_disposition_id','admission_source_id','max_glu_serum','A1Cresult','diabetesMed','metformin','repaglinide','nateglinide','chlorpropamide','glimepiride','acetohexamide','glipizide','glyburide','tolbutamide','pioglitazone','rosiglitazone','acarbose','miglitol','troglitazone','tolazamide','examide','citoglipton','insulin','glyburide-metformin','glipizide-metformin','glimepiride-pioglitazone','metformin-rosiglitazone','metformin-pioglitazone','change','readmitted','diag_1','diag_2','diag_3']],\\\n",
    "                        'medical':[[],[]],\\\n",
    "                        'woman':[['n_0067','n_0078','n_0108','n_0109','o_0176','o_0264'],['release','n_0047','n_0050','n_0052','n_0061','n_0075','n_0091','c_0466','c_0500','c_0638','c_0699','c_0738','c_0761','c_0770','c_0838','c_0870','c_0980','c_1145','c_1158','c_1189','c_1223','c_1227','c_1244','c_1259']]}"
   ]
  },
  {
   "cell_type": "markdown",
   "metadata": {},
   "source": [
    "## Medical\n",
    "\n",
    "http://mulan.sourceforge.net/datasets-mlc.html\n",
    "\n",
    "Forty-five  ICD-9-CM labels  (e.g  780.6)  are  observed  in  these  data  sets. These labels form 94 distinct combinations (e.g. the combination  780.6,  786.2). \n",
    "\n",
    "We  required  that  any combination have at least two exemplars in the data, and  we  split  each  combination  between  the  training and the test sets. \n",
    "\n",
    "So, there may be labels and combinations of labels that occur only one time in the training data, but participants can  be  sure  that no combination will occur in the test data that has not previously occurred at least once in the  training data.  \n",
    "\n",
    "Our policy here has the unintended consequence that any combination that appears exactly once in the training data is highly likely to appear exactly once in the test data. This gives unnecessary information to the participants. In future challenges we will drop the requirement for two occurrences in the data, but ensure that single-occurrence combinations are allocated to the training set rather than the test set. This maintains the guarantee that there will be no unseen combinations in the test data. The full data set may be downloaded from the official challenge web-site."
   ]
  },
  {
   "cell_type": "code",
   "execution_count": null,
   "metadata": {},
   "outputs": [],
   "source": [
    "medicals_dataset = ['medical-test','medical-train']\n",
    "\n",
    "for dataset in medicals_dataset:\n",
    "    data = load_from_arff(\"../dataset/dataset_raw/%s.arff\" % dataset,\\\n",
    "                      label_count=45,\\\n",
    "                      load_sparse=False,\\\n",
    "                      return_attribute_definitions=True)\n",
    "    cols_X = [i[0] for i in data[2]]\n",
    "    cols_Y = [i[0] for i in data[3]]\n",
    "    print('dataset %s, cols X: %d, cols Y: %d' %(dataset,len(cols_X),len(cols_Y)))\n",
    "    print('n_instances in dataset %s: %d' %(dataset,len(data[0].todense())))\n",
    "    \n",
    "    X_med_df = pd.DataFrame(data[0].todense(),columns=cols_X)\n",
    "    y_med_df = pd.DataFrame(data[1].todense(),columns=cols_Y)\n",
    "    \n",
    "    medical_df = pd.concat([X_med_df,y_med_df],1)\n",
    "    \n",
    "    if dataset == 'medical-test':\n",
    "        medical_df.to_csv('../dataset/medical_2e.csv', sep=',', index=False)\n",
    "        print('medical_2e.csv')\n",
    "    else:\n",
    "        medical_df.to_csv('../dataset/medical_bb.csv', sep=',', index=False)\n",
    "        print('medical_bb.csv')\n",
    "        \n",
    "columns_type_dataset['medical'][1] = cols_X"
   ]
  },
  {
   "cell_type": "code",
   "execution_count": null,
   "metadata": {},
   "outputs": [],
   "source": [
    "data = load_from_arff(\"../dataset/dataset_raw/medical.arff\",\\\n",
    "                      label_count=45,\\\n",
    "                      load_sparse=False,\\\n",
    "                      return_attribute_definitions=True)\n",
    "cols_X = [i[0] for i in data[2]]\n",
    "cols_Y = [i[0] for i in data[3]]\n",
    "print('dataset %s, cols X: %d, cols Y: %d' %(dataset,len(cols_X),len(cols_Y)))\n",
    "print('n_instances in dataset %s: %d' %(dataset,len(data[0].todense())))\n",
    "\n",
    "X_med_df = pd.DataFrame(data[0].todense(),columns=cols_X)\n",
    "y_med_df = pd.DataFrame(data[1].todense(),columns=cols_Y)\n",
    "\n",
    "medical_df = pd.concat([X_med_df,y_med_df],1)\n",
    "round(medical_df[cols_Y].astype(bool).sum(axis=1).sum()/len(medical_df),2)"
   ]
  },
  {
   "cell_type": "markdown",
   "metadata": {},
   "source": [
    "# Yeast Dataset"
   ]
  },
  {
   "cell_type": "code",
   "execution_count": null,
   "metadata": {
    "scrolled": true
   },
   "outputs": [],
   "source": [
    "df_yeast = pd.DataFrame(arff.loadarff('../dataset/dataset_raw/yeast.arff')[0])\n",
    "\n",
    "for col in df_yeast.columns[-14:]:\n",
    "    df_yeast[col] = df_yeast[col].apply(pd.to_numeric)"
   ]
  },
  {
   "cell_type": "code",
   "execution_count": null,
   "metadata": {},
   "outputs": [],
   "source": [
    "df_yeast.head()"
   ]
  },
  {
   "cell_type": "code",
   "execution_count": null,
   "metadata": {},
   "outputs": [],
   "source": [
    "cols_Y = [col for col in df_yeast.columns if col.startswith('Class')]\n",
    "cols_X = [col for col in df_yeast.columns if col not in cols_Y]\n",
    "\n",
    "X = df_yeast[cols_X].values\n",
    "y = df_yeast[cols_Y].values"
   ]
  },
  {
   "cell_type": "code",
   "execution_count": null,
   "metadata": {},
   "outputs": [],
   "source": [
    "round(df_yeast[cols_Y].astype(bool).sum(axis=1).sum()/len(df_yeast),2)"
   ]
  },
  {
   "cell_type": "code",
   "execution_count": null,
   "metadata": {},
   "outputs": [],
   "source": [
    "X_bb, X_2e, y_bb, y_2e = train_test_split(X, y, test_size=0.3, random_state=0)"
   ]
  },
  {
   "cell_type": "code",
   "execution_count": null,
   "metadata": {},
   "outputs": [],
   "source": [
    "df_bb = pd.DataFrame(data=np.concatenate((X_bb, y_bb), axis=1), columns=df_yeast.columns)\n",
    "df_2e = pd.DataFrame(data=np.concatenate((X_2e, y_2e), axis=1), columns=df_yeast.columns)"
   ]
  },
  {
   "cell_type": "code",
   "execution_count": null,
   "metadata": {},
   "outputs": [],
   "source": [
    "df_bb.to_csv('../dataset/yeast_bb.csv', sep=',', index=False)\n",
    "df_2e.to_csv('../dataset/yeast_2e.csv', sep=',', index=False)"
   ]
  },
  {
   "cell_type": "markdown",
   "metadata": {},
   "source": [
    "# Woman Health Care"
   ]
  },
  {
   "cell_type": "code",
   "execution_count": null,
   "metadata": {},
   "outputs": [],
   "source": [
    "woman = pd.read_csv('../dataset/dataset_raw/women_health_care.csv', sep=',')"
   ]
  },
  {
   "cell_type": "code",
   "execution_count": null,
   "metadata": {},
   "outputs": [],
   "source": [
    "woman.head()"
   ]
  },
  {
   "cell_type": "code",
   "execution_count": null,
   "metadata": {},
   "outputs": [],
   "source": [
    "len(woman)"
   ]
  },
  {
   "cell_type": "code",
   "execution_count": null,
   "metadata": {},
   "outputs": [],
   "source": [
    "mv = woman.isnull().sum(axis=0)\n",
    "\n",
    "columns2drop = list()\n",
    "for k, v in zip(mv.index, mv.values):\n",
    "    if v != 0.0:\n",
    "        columns2drop.append(k)"
   ]
  },
  {
   "cell_type": "code",
   "execution_count": null,
   "metadata": {},
   "outputs": [],
   "source": [
    "woman.drop(columns2drop, axis=1, inplace=True)"
   ]
  },
  {
   "cell_type": "code",
   "execution_count": null,
   "metadata": {},
   "outputs": [],
   "source": [
    "enc = OneHotEncoder(categories='auto')\n",
    "encoded_dataframes = []\n",
    "categorical_variables_woman = []\n",
    "\n",
    "for col in columns_type_dataset['woman'][1]:\n",
    "    enc.fit(woman[col].values.reshape(-1,1))\n",
    "    categories_names = enc.categories_\n",
    "    columns_names = [col+str(name) for name in categories_names[0]]\n",
    "    values_encoded = enc.transform(woman[col].values.reshape(-1, 1)).toarray()\n",
    "    encoded_dataframes.append(pd.DataFrame(values_encoded, columns=columns_names))\n",
    "    categorical_variables_woman.append(columns_names)\n",
    "\n",
    "categorical_variables_woman_names = [item for sublist in categorical_variables_woman for item in sublist]\n",
    "\n",
    "woman_encoded = pd.concat([pd.concat(encoded_dataframes,1),woman.drop(columns_type_dataset['woman'][1],1)],1)\n",
    "woman_encoded.head()"
   ]
  },
  {
   "cell_type": "code",
   "execution_count": null,
   "metadata": {},
   "outputs": [],
   "source": [
    "columns_type_dataset['woman'][1] = categorical_variables_woman_names"
   ]
  },
  {
   "cell_type": "code",
   "execution_count": null,
   "metadata": {},
   "outputs": [],
   "source": [
    "df_hc_label = pd.read_csv('../dataset/dataset_raw/women_health_care_labels.csv', sep=',')"
   ]
  },
  {
   "cell_type": "code",
   "execution_count": null,
   "metadata": {},
   "outputs": [],
   "source": [
    "df_hc_label.head()"
   ]
  },
  {
   "cell_type": "code",
   "execution_count": null,
   "metadata": {},
   "outputs": [],
   "source": [
    "len(df_hc_label)"
   ]
  },
  {
   "cell_type": "code",
   "execution_count": null,
   "metadata": {},
   "outputs": [],
   "source": [
    "df_hc = woman_encoded.set_index('id').join(df_hc_label.set_index('id'), how='inner').reset_index().drop('id',1)"
   ]
  },
  {
   "cell_type": "code",
   "execution_count": null,
   "metadata": {},
   "outputs": [],
   "source": [
    "cols_Y = [col for col in df_hc.columns if col.startswith('service')]\n",
    "cols_X = [col for col in df_hc.columns if col not in cols_Y]\n",
    "\n",
    "X = df_hc[cols_X].values\n",
    "y = df_hc[cols_Y].values"
   ]
  },
  {
   "cell_type": "code",
   "execution_count": null,
   "metadata": {},
   "outputs": [],
   "source": [
    "round(df_hc[cols_Y].astype(bool).sum(axis=1).sum()/len(df_hc),2)"
   ]
  },
  {
   "cell_type": "code",
   "execution_count": null,
   "metadata": {},
   "outputs": [],
   "source": [
    "X_bb, X_2e, y_bb, y_2e = train_test_split(X, y, test_size=0.3, random_state=0)"
   ]
  },
  {
   "cell_type": "code",
   "execution_count": null,
   "metadata": {},
   "outputs": [],
   "source": [
    "df_bb = pd.DataFrame(data=np.concatenate((X_bb, y_bb), axis=1), columns=df_hc.columns)\n",
    "df_2e = pd.DataFrame(data=np.concatenate((X_2e, y_2e), axis=1), columns=df_hc.columns)"
   ]
  },
  {
   "cell_type": "code",
   "execution_count": null,
   "metadata": {},
   "outputs": [],
   "source": [
    "df_bb.to_csv('../dataset/woman_bb.csv', sep=',', index=False)\n",
    "df_2e.to_csv('../dataset/woman_2e.csv', sep=',', index=False)"
   ]
  },
  {
   "cell_type": "markdown",
   "metadata": {},
   "source": [
    "#### Save dictionary of varibles names divided in categorical and continuous ones for later use"
   ]
  },
  {
   "cell_type": "code",
   "execution_count": null,
   "metadata": {
    "scrolled": true
   },
   "outputs": [],
   "source": [
    "#columns_type_dataset.pop('diabete')"
   ]
  },
  {
   "cell_type": "code",
   "execution_count": null,
   "metadata": {},
   "outputs": [],
   "source": [
    "with open('../dataset/dict_names.pickle', 'wb') as handle:\n",
    "    pickle.dump(columns_type_dataset, handle, protocol=pickle.HIGHEST_PROTOCOL)"
   ]
  }
 ],
 "metadata": {
  "kernelspec": {
   "display_name": "Python 3",
   "language": "python",
   "name": "python3"
  },
  "language_info": {
   "codemirror_mode": {
    "name": "ipython",
    "version": 3
   },
   "file_extension": ".py",
   "mimetype": "text/x-python",
   "name": "python",
   "nbconvert_exporter": "python",
   "pygments_lexer": "ipython3",
   "version": "3.6.6"
  }
 },
 "nbformat": 4,
 "nbformat_minor": 2
}
