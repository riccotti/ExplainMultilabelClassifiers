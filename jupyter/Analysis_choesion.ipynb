{
 "cells": [
  {
   "cell_type": "code",
   "execution_count": null,
   "metadata": {},
   "outputs": [],
   "source": [
    "import pandas as pd\n",
    "from collections import defaultdict\n",
    "import pickle\n",
    "import gzip\n",
    "import numpy as np\n",
    "from collections import defaultdict\n",
    "from multilabelexplanations import distance_functions\n",
    "from scipy.spatial import distance\n",
    "import seaborn as sns"
   ]
  },
  {
   "cell_type": "code",
   "execution_count": null,
   "metadata": {},
   "outputs": [],
   "source": [
    "import warnings\n",
    "warnings.filterwarnings('ignore')"
   ]
  },
  {
   "cell_type": "code",
   "execution_count": null,
   "metadata": {},
   "outputs": [],
   "source": [
    "%pylab inline"
   ]
  },
  {
   "cell_type": "code",
   "execution_count": null,
   "metadata": {},
   "outputs": [],
   "source": [
    "feat_matrices = defaultdict(list)\n",
    "for dataset in ['yeast','woman','medical']:\n",
    "    pdist_matrix_squared = pd.read_csv(\"../dataset/%s_featspace_pdist.csv\" % dataset, header=None).values\n",
    "    feat_matrices[dataset]=pdist_matrix_squared"
   ]
  },
  {
   "cell_type": "code",
   "execution_count": null,
   "metadata": {},
   "outputs": [],
   "source": [
    "columns_ylist = {'woman': 'service', 'yeast': 'Class', 'medical': 'Class'}"
   ]
  },
  {
   "cell_type": "markdown",
   "metadata": {},
   "source": [
    "## Statistical dispersion"
   ]
  },
  {
   "cell_type": "markdown",
   "metadata": {},
   "source": [
    "For each instance to be explained I select the first k neighbors and compute their dispersion using the SSE (the sum of the squared differences between each observation and its group's mean)\n",
    "$$\\frac{1}{k}\\sum_{i=1}^k|\\vec{v}_i-\\bar{v}|^2$$"
   ]
  },
  {
   "cell_type": "code",
   "execution_count": null,
   "metadata": {},
   "outputs": [],
   "source": [
    "def neigh_sse(dataset):\n",
    "    df_2e = pd.read_csv('../dataset/%s_2e.csv' % dataset)\n",
    "    cols_Y = [col for col in df_2e.columns if col.startswith(columns_ylist[dataset])]\n",
    "    cols_X = [col for col in df_2e.columns if col not in cols_Y]\n",
    "    X2E = df_2e[cols_X]\n",
    "    k=int(0.5*np.sqrt(len(X2E)))\n",
    "    \n",
    "    sse_list = []\n",
    "    for instance in X2E.index.values:\n",
    "        sampleKnn_feat_space = X2E.loc[pd.DataFrame(feat_matrices[dataset]).loc[instance].sort_values().index.values[0:k]]\n",
    "        #norm_sampleKnn_feat_space = sampleKnn_feat_space.div(np.linalg.norm(sampleKnn_feat_space, axis=1), axis='index')\n",
    "        #mean_squared_dist = sum(np.linalg.norm(norm_sampleKnn_feat_space - norm_sampleKnn_feat_space.mean(),axis=1)**2)/len(norm_sampleKnn_feat_space)\n",
    "        mean_squared_dist = sum(np.linalg.norm(sampleKnn_feat_space - sampleKnn_feat_space.mean(),axis=1)**2)/len(sampleKnn_feat_space)\n",
    "        \n",
    "        sse_list.append(mean_squared_dist)\n",
    "    return sse_list"
   ]
  },
  {
   "cell_type": "code",
   "execution_count": null,
   "metadata": {},
   "outputs": [],
   "source": [
    "yeast_sse_list = neigh_sse('yeast')\n",
    "hist(yeast_sse_list)\n",
    "title('Yeast')\n",
    "print(mean(yeast_sse_list))\n",
    "show()"
   ]
  },
  {
   "cell_type": "code",
   "execution_count": null,
   "metadata": {},
   "outputs": [],
   "source": [
    "df_2e = pd.read_csv('../dataset/yeast_2e.csv')\n",
    "cols_Y = [col for col in df_2e.columns if col.startswith(columns_ylist['yeast'])]\n",
    "cols_X = [col for col in df_2e.columns if col not in cols_Y]\n",
    "X2E_yeast = df_2e[cols_X]\n",
    "mean_squared_dist = sum(np.linalg.norm(X2E_yeast - X2E_yeast.mean(),axis=1)**2)/len(X2E_yeast)\n",
    "print(mean_squared_dist)"
   ]
  },
  {
   "cell_type": "code",
   "execution_count": null,
   "metadata": {},
   "outputs": [],
   "source": [
    "woman_sse_list = neigh_sse('woman')\n",
    "hist(woman_sse_list)\n",
    "print(mean(woman_sse_list))\n",
    "title('Woman')\n",
    "show()"
   ]
  },
  {
   "cell_type": "code",
   "execution_count": null,
   "metadata": {},
   "outputs": [],
   "source": [
    "df_2e = pd.read_csv('../dataset/woman_2e.csv')\n",
    "cols_Y = [col for col in df_2e.columns if col.startswith(columns_ylist['woman'])]\n",
    "cols_X = [col for col in df_2e.columns if col not in cols_Y]\n",
    "X2E_woman = df_2e[cols_X]\n",
    "mean_squared_dist = sum(np.linalg.norm(X2E_woman - X2E_woman.mean(),axis=1)**2)/len(X2E_woman)\n",
    "print(mean_squared_dist)"
   ]
  },
  {
   "cell_type": "code",
   "execution_count": null,
   "metadata": {},
   "outputs": [],
   "source": [
    "medical_sse_list = neigh_sse('medical')\n",
    "hist(medical_sse_list)\n",
    "print(mean(medical_sse_list))\n",
    "title('Medical')\n",
    "show()"
   ]
  },
  {
   "cell_type": "code",
   "execution_count": null,
   "metadata": {},
   "outputs": [],
   "source": [
    "df_2e = pd.read_csv('../dataset/medical_2e.csv')\n",
    "cols_Y = [col for col in df_2e.columns if col.startswith(columns_ylist['medical'])]\n",
    "cols_X = [col for col in df_2e.columns if col not in cols_Y]\n",
    "X2E_medical = df_2e[cols_X]\n",
    "mean_squared_dist = sum(np.linalg.norm(X2E_medical - X2E_medical.mean(),axis=1)**2)/len(X2E_medical)\n",
    "print(mean_squared_dist)"
   ]
  },
  {
   "cell_type": "markdown",
   "metadata": {},
   "source": [
    "## Mean mixed distance"
   ]
  },
  {
   "cell_type": "markdown",
   "metadata": {},
   "source": [
    "For each instance to be explained I select the first k neighbors and compute their dispersion using the *mixed distance* (which has values between 0 and 1) between each observation and the group mean. We do this to have comparable results among all the datasete.\n",
    "$$\\frac{1}{k}\\sum_{i=1}^kd_{mix}(\\vec{v}_i-\\bar{v})$$"
   ]
  },
  {
   "cell_type": "code",
   "execution_count": null,
   "metadata": {},
   "outputs": [],
   "source": [
    "def mixed_distance(x, y, n_var_cont, cdist, ddist):\n",
    "    # type: (pandas.Series, pandas.Series, list, list, list, function, function) -> double\n",
    "    \"\"\"\n",
    "    This function return the mixed distance between instance x and instance y\n",
    "    :param x: np.array, instance 1\n",
    "    :param y: np.array, instance 2\n",
    "    :param discrete: slices dicrete\n",
    "    :param continuous: slices continuos\n",
    "    :param ddist: function, distance function for discrete variables\n",
    "    :param cdist: function, distance function for continuos variables\n",
    "    :return: double\n",
    "    \"\"\"\n",
    "    wc=0.\n",
    "    wd=0.\n",
    "    cd=0.\n",
    "    dd=0.\n",
    "    n_var_disc = len(x[n_var_cont:])\n",
    "    \n",
    "    if n_var_cont != 0:\n",
    "        wc = n_var_cont/(n_var_cont+n_var_disc)\n",
    "        xc = x[0:n_var_cont]\n",
    "        yc = y[0:n_var_cont]\n",
    "        cd = cdist(xc, yc)\n",
    "        \n",
    "        \n",
    "    if n_var_disc != 0:\n",
    "        wd = n_var_disc/(n_var_cont+n_var_disc)\n",
    "        xd = x[n_var_cont:]\n",
    "        yd = y[n_var_cont:]\n",
    "        dd = ddist(xd, yd)\n",
    "\n",
    "    return wd * dd + wc * cd"
   ]
  },
  {
   "cell_type": "code",
   "execution_count": null,
   "metadata": {},
   "outputs": [],
   "source": [
    "#dizionario con chiave nome del dataset e valore una lista di liste, lista[0] = nomi var continue, lista[1] = nomi var discrete\n",
    "with open('../dataset/dict_names.pickle', 'rb') as handle:\n",
    "    columns_type_dataset = pickle.load(handle)"
   ]
  },
  {
   "cell_type": "code",
   "execution_count": null,
   "metadata": {},
   "outputs": [],
   "source": [
    "def create_dist_func(dataset):\n",
    "    \n",
    "    mydist = lambda x, y: mixed_distance(x, y, n_var_cont=len(columns_type_dataset[dataset][0]),\n",
    "                     cdist=distance_functions.normalized_euclidean_distance,\n",
    "                     ddist=distance.hamming)\n",
    "    return mydist"
   ]
  },
  {
   "cell_type": "code",
   "execution_count": null,
   "metadata": {},
   "outputs": [],
   "source": [
    "def mixed_distance_from_mean(dataset):\n",
    "    \n",
    "    df_2e = pd.read_csv('../dataset/%s_2e.csv' % dataset)\n",
    "    cols_Y = [col for col in df_2e.columns if col.startswith(columns_ylist[dataset])]\n",
    "    cols_X = [col for col in df_2e.columns if col not in cols_Y]\n",
    "    X2E = df_2e[cols_X]\n",
    "    k=int(0.5*np.sqrt(len(X2E)))\n",
    "    mydist = create_dist_func(dataset)\n",
    "    \n",
    "    mixed_distances_list = []\n",
    "    for instance in X2E.index.values:\n",
    "        #seleziono i primi k vicini:\n",
    "        sampleKnn_feat_space = X2E.loc[pd.DataFrame(feat_matrices[dataset]).loc[instance].sort_values().index.values[0:k]]\n",
    "        #ordino le colonne (voglio prima le var continue e poi quelle discrete)\n",
    "        sorted_sampleKnn_feat_space = sampleKnn_feat_space[columns_type_dataset[dataset][0]+columns_type_dataset[dataset][1]]\n",
    "        #calcolo il vettore medio\n",
    "        mean_vec = sorted_sampleKnn_feat_space.mean()\n",
    "        #calcolo la distanza mixed tra ogni vettore e il vettore medio\n",
    "        mean_mixed_dist = sum(sorted_sampleKnn_feat_space.apply(lambda x: mydist(x.values,mean_vec.values), axis=1))/len(sorted_sampleKnn_feat_space)\n",
    "        mixed_distances_list.append(mean_mixed_dist)\n",
    "    return mixed_distances_list"
   ]
  },
  {
   "cell_type": "code",
   "execution_count": null,
   "metadata": {},
   "outputs": [],
   "source": [
    "mean_mixed_distance_from_mean_yeast = mixed_distance_from_mean('yeast')\n",
    "mean_mixed_distance_from_mean_woman = mixed_distance_from_mean('woman')\n",
    "mean_mixed_distance_from_mean_medical = mixed_distance_from_mean('medical')"
   ]
  },
  {
   "cell_type": "code",
   "execution_count": null,
   "metadata": {},
   "outputs": [],
   "source": [
    "fig = plt.figure(figsize=(9,4))\n",
    "ax = plt.subplot(111)\n",
    "\n",
    "ax.hist(mean_mixed_distance_from_mean_medical, label='Medical mean value: %.2f' % mean(mean_mixed_distance_from_mean_medical),alpha=0.7,color='green',bins=linspace(0,0.65,20))\n",
    "ax.hist(mean_mixed_distance_from_mean_yeast, label='Yeast mean value: %.2f' % mean(mean_mixed_distance_from_mean_yeast),alpha=0.7,color='r',bins=linspace(0,0.65,20))\n",
    "ax.hist(mean_mixed_distance_from_mean_woman, label='Woman mean value: %.2f'% mean(mean_mixed_distance_from_mean_woman),alpha=0.7,color='b',bins=linspace(0,0.65,20))\n",
    "\n",
    "ax.legend(bbox_to_anchor=(0.8, 1), loc=2, borderaxespad=0.,fancybox=True, shadow=True,fontsize=15)\n",
    "ax.set_xlabel('Mean mixed distance in the core real neighborhood',fontsize=20)\n",
    "\n",
    "ax.tick_params(axis='y',labelsize=14)\n",
    "ax.tick_params(axis='x',labelsize=14)\n",
    "savefig('../fig/dispersion_hist.png', format='png', bbox_inches='tight')\n",
    "show()"
   ]
  },
  {
   "cell_type": "code",
   "execution_count": null,
   "metadata": {},
   "outputs": [],
   "source": [
    "fig, ax1 = plt.subplots()\n",
    "figsize(10,7)\n",
    "\n",
    "n,bins,yeast_hist = ax1.hist(mean_mixed_distance_from_mean_yeast, label='Yeast mean value: %.2f' % mean(mean_mixed_distance_from_mean_yeast),alpha=0.7,color='r',bins=linspace(0,0.65,20))\n",
    "ax1.set_xlabel('Mean mixed distance in the core real neighborhood',fontsize=20)\n",
    "ax1.tick_params(axis='y', colors='red',size=12,labelsize=14)\n",
    "ax1.tick_params(axis='x',size=12,labelsize=14)\n",
    "\n",
    "ax2 = ax1.twinx()\n",
    "n,bins,woman_hist = ax2.hist(mean_mixed_distance_from_mean_woman, label='Woman mean value: %.2f'% mean(mean_mixed_distance_from_mean_woman),alpha=0.7,color='b',bins=linspace(0,0.65,20))\n",
    "\n",
    "#ax1.xaxis\n",
    "\n",
    "\n",
    "lns = yeast_hist+woman_hist\n",
    "labs = [l.get_label() for l in lns]\n",
    "ax1.legend(lns, labs, loc='upper center', bbox_to_anchor=(0.5, 1.2),ncol=2, fancybox=True, shadow=True,fontsize=20)\n",
    "ax2.tick_params(axis='y', colors='blue',size=12,labelsize=14)\n",
    "ax1.spines[\"top\"].set_visible(False)\n",
    "ax2.spines[\"top\"].set_visible(False)\n",
    "\n",
    "savefig('../fig/dispersion_hist_woman_yeast.png', format='png', bbox_inches='tight')\n",
    "show()"
   ]
  },
  {
   "cell_type": "code",
   "execution_count": null,
   "metadata": {},
   "outputs": [],
   "source": []
  }
 ],
 "metadata": {
  "kernelspec": {
   "display_name": "Python 3",
   "language": "python",
   "name": "python3"
  },
  "language_info": {
   "codemirror_mode": {
    "name": "ipython",
    "version": 3
   },
   "file_extension": ".py",
   "mimetype": "text/x-python",
   "name": "python",
   "nbconvert_exporter": "python",
   "pygments_lexer": "ipython3",
   "version": "3.6.6"
  }
 },
 "nbformat": 4,
 "nbformat_minor": 2
}
